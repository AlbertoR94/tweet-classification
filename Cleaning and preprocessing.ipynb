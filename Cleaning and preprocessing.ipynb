{
 "cells": [
  {
   "cell_type": "markdown",
   "id": "96dfa42a",
   "metadata": {},
   "source": [
    "## House Price Prediction\n",
    "\n",
    "In this project I will present my solution to the Kaggle competition: Housing Prices Competition for Kaggle Learn Users\n",
    "(https://www.kaggle.com/competitions/home-data-for-ml-course/overview). Even though this competition is intended to be a learning experience rather than a challenge, it allows to apply some of the most important concepts involved in solving machine learning problems. First I will explain how I dealt with missing values emphasizing the importance of exploratory analysis in this process, then I will give a detailed explanation of how categorical features were numerically encoded. Finally, the process of training the model is explained.  Using this methodology I was able to reach the position 479 in a leaderboard consisting of about 60000 competitors. Considering the fact that no complex feature engineering was performed this is a considerable achievement. Thus the main goal of this project was not the modelling part but the preprocessing stage. \n"
   ]
  },
  {
   "cell_type": "code",
   "execution_count": 1,
   "id": "0acfdc3b",
   "metadata": {},
   "outputs": [],
   "source": [
    "import pandas as pd\n",
    "import seaborn as sns\n",
    "import matplotlib.pyplot as plt\n",
    "import seaborn as sns\n",
    "import numpy as np\n",
    "from sklearn import tree\n",
    "from sklearn.model_selection import train_test_split, GridSearchCV\n",
    "from sklearn.model_selection import cross_val_score\n",
    "from scipy import stats\n",
    "\n",
    "pd.options.mode.chained_assignment = None  # default='warn'"
   ]
  },
  {
   "cell_type": "code",
   "execution_count": 2,
   "id": "f206f0d8",
   "metadata": {},
   "outputs": [],
   "source": [
    "# Load data using Id column as index\n",
    "# test.csv contains new data points with unknown target \n",
    "df = pd.read_csv('train.csv')\n",
    "df_test = pd.read_csv('test.csv')"
   ]
  },
  {
   "cell_type": "markdown",
   "id": "47158471",
   "metadata": {},
   "source": [
    "## EDA\n",
    "\n",
    "One of the most important steps in any machine learning project is the exploratory data analysis (EDA). This stage consists in understanding the data by using simple techniques and tools such as descriptive statistics and data visualizations; the main goal here is to be able to detect features that might be relevant for the solution of the problem, summarize main characteristics of data, recognize missing values or outliers, or detect any kind of error that should be treated before trying to build a model.  \n",
    "\n",
    "At this point is important to note that before we can work with data is mandatory to split data into a train set and a validation set to avoid data leakage. Data leakage happens when information about the thing we are trying to predict is used to build the model. This can lead to models that overfit to data but have no good predictive ability.\n",
    "\n",
    "First we need to understand the type of variables (numerical, categorical, etc) in the dataset, and along with this step we can compute the total number of missing values for each predictor. Using this information we can decide which features need to be transformed from categorical to numerical or whether they need to be removed due to a high number of missing values. If this number is too high it might be desirable to remove them. Furthermore, imputation of missing values is not straightforward and most of the time requires the use of domain knowledge to be applied correctly. "
   ]
  },
  {
   "cell_type": "code",
   "execution_count": 3,
   "id": "453f0ad4",
   "metadata": {},
   "outputs": [],
   "source": [
    "# To avoid data leakage separate data into train and validation sets\n",
    "df_train = df.sample(frac=0.75, random_state=0)\n",
    "indexes = df_train.index\n",
    "indexes = df.index.isin(indexes)\n",
    "\n",
    "df_val = df[~indexes]\n",
    "\n",
    "df_train.reset_index(inplace=True, drop=True)\n",
    "df_val.reset_index(inplace=True, drop=True)"
   ]
  },
  {
   "cell_type": "code",
   "execution_count": 4,
   "id": "63e62bd5",
   "metadata": {},
   "outputs": [
    {
     "name": "stdout",
     "output_type": "stream",
     "text": [
      "<class 'pandas.core.frame.DataFrame'>\n",
      "RangeIndex: 1095 entries, 0 to 1094\n",
      "Data columns (total 81 columns):\n",
      " #   Column         Non-Null Count  Dtype  \n",
      "---  ------         --------------  -----  \n",
      " 0   Id             1095 non-null   int64  \n",
      " 1   MSSubClass     1095 non-null   int64  \n",
      " 2   MSZoning       1095 non-null   object \n",
      " 3   LotFrontage    907 non-null    float64\n",
      " 4   LotArea        1095 non-null   int64  \n",
      " 5   Street         1095 non-null   object \n",
      " 6   Alley          75 non-null     object \n",
      " 7   LotShape       1095 non-null   object \n",
      " 8   LandContour    1095 non-null   object \n",
      " 9   Utilities      1095 non-null   object \n",
      " 10  LotConfig      1095 non-null   object \n",
      " 11  LandSlope      1095 non-null   object \n",
      " 12  Neighborhood   1095 non-null   object \n",
      " 13  Condition1     1095 non-null   object \n",
      " 14  Condition2     1095 non-null   object \n",
      " 15  BldgType       1095 non-null   object \n",
      " 16  HouseStyle     1095 non-null   object \n",
      " 17  OverallQual    1095 non-null   int64  \n",
      " 18  OverallCond    1095 non-null   int64  \n",
      " 19  YearBuilt      1095 non-null   int64  \n",
      " 20  YearRemodAdd   1095 non-null   int64  \n",
      " 21  RoofStyle      1095 non-null   object \n",
      " 22  RoofMatl       1095 non-null   object \n",
      " 23  Exterior1st    1095 non-null   object \n",
      " 24  Exterior2nd    1095 non-null   object \n",
      " 25  MasVnrType     1089 non-null   object \n",
      " 26  MasVnrArea     1089 non-null   float64\n",
      " 27  ExterQual      1095 non-null   object \n",
      " 28  ExterCond      1095 non-null   object \n",
      " 29  Foundation     1095 non-null   object \n",
      " 30  BsmtQual       1067 non-null   object \n",
      " 31  BsmtCond       1067 non-null   object \n",
      " 32  BsmtExposure   1066 non-null   object \n",
      " 33  BsmtFinType1   1067 non-null   object \n",
      " 34  BsmtFinSF1     1095 non-null   int64  \n",
      " 35  BsmtFinType2   1066 non-null   object \n",
      " 36  BsmtFinSF2     1095 non-null   int64  \n",
      " 37  BsmtUnfSF      1095 non-null   int64  \n",
      " 38  TotalBsmtSF    1095 non-null   int64  \n",
      " 39  Heating        1095 non-null   object \n",
      " 40  HeatingQC      1095 non-null   object \n",
      " 41  CentralAir     1095 non-null   object \n",
      " 42  Electrical     1094 non-null   object \n",
      " 43  1stFlrSF       1095 non-null   int64  \n",
      " 44  2ndFlrSF       1095 non-null   int64  \n",
      " 45  LowQualFinSF   1095 non-null   int64  \n",
      " 46  GrLivArea      1095 non-null   int64  \n",
      " 47  BsmtFullBath   1095 non-null   int64  \n",
      " 48  BsmtHalfBath   1095 non-null   int64  \n",
      " 49  FullBath       1095 non-null   int64  \n",
      " 50  HalfBath       1095 non-null   int64  \n",
      " 51  BedroomAbvGr   1095 non-null   int64  \n",
      " 52  KitchenAbvGr   1095 non-null   int64  \n",
      " 53  KitchenQual    1095 non-null   object \n",
      " 54  TotRmsAbvGrd   1095 non-null   int64  \n",
      " 55  Functional     1095 non-null   object \n",
      " 56  Fireplaces     1095 non-null   int64  \n",
      " 57  FireplaceQu    582 non-null    object \n",
      " 58  GarageType     1031 non-null   object \n",
      " 59  GarageYrBlt    1031 non-null   float64\n",
      " 60  GarageFinish   1031 non-null   object \n",
      " 61  GarageCars     1095 non-null   int64  \n",
      " 62  GarageArea     1095 non-null   int64  \n",
      " 63  GarageQual     1031 non-null   object \n",
      " 64  GarageCond     1031 non-null   object \n",
      " 65  PavedDrive     1095 non-null   object \n",
      " 66  WoodDeckSF     1095 non-null   int64  \n",
      " 67  OpenPorchSF    1095 non-null   int64  \n",
      " 68  EnclosedPorch  1095 non-null   int64  \n",
      " 69  3SsnPorch      1095 non-null   int64  \n",
      " 70  ScreenPorch    1095 non-null   int64  \n",
      " 71  PoolArea       1095 non-null   int64  \n",
      " 72  PoolQC         6 non-null      object \n",
      " 73  Fence          207 non-null    object \n",
      " 74  MiscFeature    37 non-null     object \n",
      " 75  MiscVal        1095 non-null   int64  \n",
      " 76  MoSold         1095 non-null   int64  \n",
      " 77  YrSold         1095 non-null   int64  \n",
      " 78  SaleType       1095 non-null   object \n",
      " 79  SaleCondition  1095 non-null   object \n",
      " 80  SalePrice      1095 non-null   int64  \n",
      "dtypes: float64(3), int64(35), object(43)\n",
      "memory usage: 693.1+ KB\n"
     ]
    }
   ],
   "source": [
    "df_train.info()"
   ]
  },
  {
   "cell_type": "markdown",
   "id": "f67ff725",
   "metadata": {},
   "source": [
    "## Dealing with missing values \n",
    "\n",
    "According to this first step in the analysis there is a total of 81 features (38 numerical and 43 categorical) and many of them have missing values; however, only for some of them thses represent a significant fraction. We can plot the number of missing values for each column and decide whether we keep it or remove it. In this case I decided to remove features with a fraction of missing values higher than 0.45. The rest of the features have a lower fraction and we can impute values based on the description of each specific feature. For those features with imputed values a good trick that improves predictive power of models is to include a flag boolean variable that indicates if a value was imputed (1) or not (0). \n",
    "\n",
    "Let's take a look at the columns with missing values and create a dataframe containing this information."
   ]
  },
  {
   "cell_type": "code",
   "execution_count": 5,
   "id": "c33ba808",
   "metadata": {},
   "outputs": [],
   "source": [
    "# define a function that returns the number of missing values in each column for all dataframes\n",
    "def missing_values_cols(dataframes, names):\n",
    "    series = [df.isna().sum() for df in dataframes]\n",
    "    series.append(dataframes[0].dtypes)\n",
    "    missing_df = pd.DataFrame(series).T\n",
    "    \n",
    "    names = names\n",
    "    names.append('type')\n",
    "    missing_df.columns = names\n",
    "    \n",
    "    missing_df = missing_df[missing_df[names[:-1]].sum(axis=1) > 0]\n",
    "    \n",
    "    return missing_df"
   ]
  },
  {
   "cell_type": "code",
   "execution_count": 6,
   "id": "94c335c9",
   "metadata": {},
   "outputs": [
    {
     "data": {
      "text/html": [
       "<div>\n",
       "<style scoped>\n",
       "    .dataframe tbody tr th:only-of-type {\n",
       "        vertical-align: middle;\n",
       "    }\n",
       "\n",
       "    .dataframe tbody tr th {\n",
       "        vertical-align: top;\n",
       "    }\n",
       "\n",
       "    .dataframe thead th {\n",
       "        text-align: right;\n",
       "    }\n",
       "</style>\n",
       "<table border=\"1\" class=\"dataframe\">\n",
       "  <thead>\n",
       "    <tr style=\"text-align: right;\">\n",
       "      <th></th>\n",
       "      <th>train</th>\n",
       "      <th>validation</th>\n",
       "      <th>test</th>\n",
       "      <th>type</th>\n",
       "    </tr>\n",
       "  </thead>\n",
       "  <tbody>\n",
       "    <tr>\n",
       "      <th>MSZoning</th>\n",
       "      <td>0</td>\n",
       "      <td>0</td>\n",
       "      <td>4.0</td>\n",
       "      <td>object</td>\n",
       "    </tr>\n",
       "    <tr>\n",
       "      <th>LotFrontage</th>\n",
       "      <td>188</td>\n",
       "      <td>71</td>\n",
       "      <td>227.0</td>\n",
       "      <td>float64</td>\n",
       "    </tr>\n",
       "    <tr>\n",
       "      <th>Alley</th>\n",
       "      <td>1020</td>\n",
       "      <td>349</td>\n",
       "      <td>1352.0</td>\n",
       "      <td>object</td>\n",
       "    </tr>\n",
       "    <tr>\n",
       "      <th>Utilities</th>\n",
       "      <td>0</td>\n",
       "      <td>0</td>\n",
       "      <td>2.0</td>\n",
       "      <td>object</td>\n",
       "    </tr>\n",
       "    <tr>\n",
       "      <th>Exterior1st</th>\n",
       "      <td>0</td>\n",
       "      <td>0</td>\n",
       "      <td>1.0</td>\n",
       "      <td>object</td>\n",
       "    </tr>\n",
       "    <tr>\n",
       "      <th>Exterior2nd</th>\n",
       "      <td>0</td>\n",
       "      <td>0</td>\n",
       "      <td>1.0</td>\n",
       "      <td>object</td>\n",
       "    </tr>\n",
       "    <tr>\n",
       "      <th>MasVnrType</th>\n",
       "      <td>6</td>\n",
       "      <td>2</td>\n",
       "      <td>16.0</td>\n",
       "      <td>object</td>\n",
       "    </tr>\n",
       "    <tr>\n",
       "      <th>MasVnrArea</th>\n",
       "      <td>6</td>\n",
       "      <td>2</td>\n",
       "      <td>15.0</td>\n",
       "      <td>float64</td>\n",
       "    </tr>\n",
       "    <tr>\n",
       "      <th>BsmtQual</th>\n",
       "      <td>28</td>\n",
       "      <td>9</td>\n",
       "      <td>44.0</td>\n",
       "      <td>object</td>\n",
       "    </tr>\n",
       "    <tr>\n",
       "      <th>BsmtCond</th>\n",
       "      <td>28</td>\n",
       "      <td>9</td>\n",
       "      <td>45.0</td>\n",
       "      <td>object</td>\n",
       "    </tr>\n",
       "    <tr>\n",
       "      <th>BsmtExposure</th>\n",
       "      <td>29</td>\n",
       "      <td>9</td>\n",
       "      <td>44.0</td>\n",
       "      <td>object</td>\n",
       "    </tr>\n",
       "    <tr>\n",
       "      <th>BsmtFinType1</th>\n",
       "      <td>28</td>\n",
       "      <td>9</td>\n",
       "      <td>42.0</td>\n",
       "      <td>object</td>\n",
       "    </tr>\n",
       "    <tr>\n",
       "      <th>BsmtFinSF1</th>\n",
       "      <td>0</td>\n",
       "      <td>0</td>\n",
       "      <td>1.0</td>\n",
       "      <td>int64</td>\n",
       "    </tr>\n",
       "    <tr>\n",
       "      <th>BsmtFinType2</th>\n",
       "      <td>29</td>\n",
       "      <td>9</td>\n",
       "      <td>42.0</td>\n",
       "      <td>object</td>\n",
       "    </tr>\n",
       "    <tr>\n",
       "      <th>BsmtFinSF2</th>\n",
       "      <td>0</td>\n",
       "      <td>0</td>\n",
       "      <td>1.0</td>\n",
       "      <td>int64</td>\n",
       "    </tr>\n",
       "    <tr>\n",
       "      <th>BsmtUnfSF</th>\n",
       "      <td>0</td>\n",
       "      <td>0</td>\n",
       "      <td>1.0</td>\n",
       "      <td>int64</td>\n",
       "    </tr>\n",
       "    <tr>\n",
       "      <th>TotalBsmtSF</th>\n",
       "      <td>0</td>\n",
       "      <td>0</td>\n",
       "      <td>1.0</td>\n",
       "      <td>int64</td>\n",
       "    </tr>\n",
       "    <tr>\n",
       "      <th>Electrical</th>\n",
       "      <td>1</td>\n",
       "      <td>0</td>\n",
       "      <td>0.0</td>\n",
       "      <td>object</td>\n",
       "    </tr>\n",
       "    <tr>\n",
       "      <th>BsmtFullBath</th>\n",
       "      <td>0</td>\n",
       "      <td>0</td>\n",
       "      <td>2.0</td>\n",
       "      <td>int64</td>\n",
       "    </tr>\n",
       "    <tr>\n",
       "      <th>BsmtHalfBath</th>\n",
       "      <td>0</td>\n",
       "      <td>0</td>\n",
       "      <td>2.0</td>\n",
       "      <td>int64</td>\n",
       "    </tr>\n",
       "    <tr>\n",
       "      <th>KitchenQual</th>\n",
       "      <td>0</td>\n",
       "      <td>0</td>\n",
       "      <td>1.0</td>\n",
       "      <td>object</td>\n",
       "    </tr>\n",
       "    <tr>\n",
       "      <th>Functional</th>\n",
       "      <td>0</td>\n",
       "      <td>0</td>\n",
       "      <td>2.0</td>\n",
       "      <td>object</td>\n",
       "    </tr>\n",
       "    <tr>\n",
       "      <th>FireplaceQu</th>\n",
       "      <td>513</td>\n",
       "      <td>177</td>\n",
       "      <td>730.0</td>\n",
       "      <td>object</td>\n",
       "    </tr>\n",
       "    <tr>\n",
       "      <th>GarageType</th>\n",
       "      <td>64</td>\n",
       "      <td>17</td>\n",
       "      <td>76.0</td>\n",
       "      <td>object</td>\n",
       "    </tr>\n",
       "    <tr>\n",
       "      <th>GarageYrBlt</th>\n",
       "      <td>64</td>\n",
       "      <td>17</td>\n",
       "      <td>78.0</td>\n",
       "      <td>float64</td>\n",
       "    </tr>\n",
       "    <tr>\n",
       "      <th>GarageFinish</th>\n",
       "      <td>64</td>\n",
       "      <td>17</td>\n",
       "      <td>78.0</td>\n",
       "      <td>object</td>\n",
       "    </tr>\n",
       "    <tr>\n",
       "      <th>GarageCars</th>\n",
       "      <td>0</td>\n",
       "      <td>0</td>\n",
       "      <td>1.0</td>\n",
       "      <td>int64</td>\n",
       "    </tr>\n",
       "    <tr>\n",
       "      <th>GarageArea</th>\n",
       "      <td>0</td>\n",
       "      <td>0</td>\n",
       "      <td>1.0</td>\n",
       "      <td>int64</td>\n",
       "    </tr>\n",
       "    <tr>\n",
       "      <th>GarageQual</th>\n",
       "      <td>64</td>\n",
       "      <td>17</td>\n",
       "      <td>78.0</td>\n",
       "      <td>object</td>\n",
       "    </tr>\n",
       "    <tr>\n",
       "      <th>GarageCond</th>\n",
       "      <td>64</td>\n",
       "      <td>17</td>\n",
       "      <td>78.0</td>\n",
       "      <td>object</td>\n",
       "    </tr>\n",
       "    <tr>\n",
       "      <th>PoolQC</th>\n",
       "      <td>1089</td>\n",
       "      <td>364</td>\n",
       "      <td>1456.0</td>\n",
       "      <td>object</td>\n",
       "    </tr>\n",
       "    <tr>\n",
       "      <th>Fence</th>\n",
       "      <td>888</td>\n",
       "      <td>291</td>\n",
       "      <td>1169.0</td>\n",
       "      <td>object</td>\n",
       "    </tr>\n",
       "    <tr>\n",
       "      <th>MiscFeature</th>\n",
       "      <td>1058</td>\n",
       "      <td>348</td>\n",
       "      <td>1408.0</td>\n",
       "      <td>object</td>\n",
       "    </tr>\n",
       "    <tr>\n",
       "      <th>SaleType</th>\n",
       "      <td>0</td>\n",
       "      <td>0</td>\n",
       "      <td>1.0</td>\n",
       "      <td>object</td>\n",
       "    </tr>\n",
       "  </tbody>\n",
       "</table>\n",
       "</div>"
      ],
      "text/plain": [
       "             train validation    test     type\n",
       "MSZoning         0          0     4.0   object\n",
       "LotFrontage    188         71   227.0  float64\n",
       "Alley         1020        349  1352.0   object\n",
       "Utilities        0          0     2.0   object\n",
       "Exterior1st      0          0     1.0   object\n",
       "Exterior2nd      0          0     1.0   object\n",
       "MasVnrType       6          2    16.0   object\n",
       "MasVnrArea       6          2    15.0  float64\n",
       "BsmtQual        28          9    44.0   object\n",
       "BsmtCond        28          9    45.0   object\n",
       "BsmtExposure    29          9    44.0   object\n",
       "BsmtFinType1    28          9    42.0   object\n",
       "BsmtFinSF1       0          0     1.0    int64\n",
       "BsmtFinType2    29          9    42.0   object\n",
       "BsmtFinSF2       0          0     1.0    int64\n",
       "BsmtUnfSF        0          0     1.0    int64\n",
       "TotalBsmtSF      0          0     1.0    int64\n",
       "Electrical       1          0     0.0   object\n",
       "BsmtFullBath     0          0     2.0    int64\n",
       "BsmtHalfBath     0          0     2.0    int64\n",
       "KitchenQual      0          0     1.0   object\n",
       "Functional       0          0     2.0   object\n",
       "FireplaceQu    513        177   730.0   object\n",
       "GarageType      64         17    76.0   object\n",
       "GarageYrBlt     64         17    78.0  float64\n",
       "GarageFinish    64         17    78.0   object\n",
       "GarageCars       0          0     1.0    int64\n",
       "GarageArea       0          0     1.0    int64\n",
       "GarageQual      64         17    78.0   object\n",
       "GarageCond      64         17    78.0   object\n",
       "PoolQC        1089        364  1456.0   object\n",
       "Fence          888        291  1169.0   object\n",
       "MiscFeature   1058        348  1408.0   object\n",
       "SaleType         0          0     1.0   object"
      ]
     },
     "execution_count": 6,
     "metadata": {},
     "output_type": "execute_result"
    }
   ],
   "source": [
    "missing_df = missing_values_cols([df_train, df_val, df_test], ['train', 'validation', 'test'])\n",
    "missing_df"
   ]
  },
  {
   "cell_type": "markdown",
   "id": "400b0a6b",
   "metadata": {},
   "source": [
    "Imputation of the validation and test sets must be done using the train set. First let's consider numeric features. "
   ]
  },
  {
   "cell_type": "code",
   "execution_count": 7,
   "id": "6f1f8202",
   "metadata": {},
   "outputs": [
    {
     "data": {
      "text/html": [
       "<div>\n",
       "<style scoped>\n",
       "    .dataframe tbody tr th:only-of-type {\n",
       "        vertical-align: middle;\n",
       "    }\n",
       "\n",
       "    .dataframe tbody tr th {\n",
       "        vertical-align: top;\n",
       "    }\n",
       "\n",
       "    .dataframe thead th {\n",
       "        text-align: right;\n",
       "    }\n",
       "</style>\n",
       "<table border=\"1\" class=\"dataframe\">\n",
       "  <thead>\n",
       "    <tr style=\"text-align: right;\">\n",
       "      <th></th>\n",
       "      <th>train</th>\n",
       "      <th>validation</th>\n",
       "      <th>test</th>\n",
       "      <th>type</th>\n",
       "    </tr>\n",
       "  </thead>\n",
       "  <tbody>\n",
       "    <tr>\n",
       "      <th>LotFrontage</th>\n",
       "      <td>188</td>\n",
       "      <td>71</td>\n",
       "      <td>227.0</td>\n",
       "      <td>float64</td>\n",
       "    </tr>\n",
       "    <tr>\n",
       "      <th>MasVnrArea</th>\n",
       "      <td>6</td>\n",
       "      <td>2</td>\n",
       "      <td>15.0</td>\n",
       "      <td>float64</td>\n",
       "    </tr>\n",
       "    <tr>\n",
       "      <th>BsmtFinSF1</th>\n",
       "      <td>0</td>\n",
       "      <td>0</td>\n",
       "      <td>1.0</td>\n",
       "      <td>int64</td>\n",
       "    </tr>\n",
       "    <tr>\n",
       "      <th>BsmtFinSF2</th>\n",
       "      <td>0</td>\n",
       "      <td>0</td>\n",
       "      <td>1.0</td>\n",
       "      <td>int64</td>\n",
       "    </tr>\n",
       "    <tr>\n",
       "      <th>BsmtUnfSF</th>\n",
       "      <td>0</td>\n",
       "      <td>0</td>\n",
       "      <td>1.0</td>\n",
       "      <td>int64</td>\n",
       "    </tr>\n",
       "    <tr>\n",
       "      <th>TotalBsmtSF</th>\n",
       "      <td>0</td>\n",
       "      <td>0</td>\n",
       "      <td>1.0</td>\n",
       "      <td>int64</td>\n",
       "    </tr>\n",
       "    <tr>\n",
       "      <th>BsmtFullBath</th>\n",
       "      <td>0</td>\n",
       "      <td>0</td>\n",
       "      <td>2.0</td>\n",
       "      <td>int64</td>\n",
       "    </tr>\n",
       "    <tr>\n",
       "      <th>BsmtHalfBath</th>\n",
       "      <td>0</td>\n",
       "      <td>0</td>\n",
       "      <td>2.0</td>\n",
       "      <td>int64</td>\n",
       "    </tr>\n",
       "    <tr>\n",
       "      <th>GarageYrBlt</th>\n",
       "      <td>64</td>\n",
       "      <td>17</td>\n",
       "      <td>78.0</td>\n",
       "      <td>float64</td>\n",
       "    </tr>\n",
       "    <tr>\n",
       "      <th>GarageCars</th>\n",
       "      <td>0</td>\n",
       "      <td>0</td>\n",
       "      <td>1.0</td>\n",
       "      <td>int64</td>\n",
       "    </tr>\n",
       "    <tr>\n",
       "      <th>GarageArea</th>\n",
       "      <td>0</td>\n",
       "      <td>0</td>\n",
       "      <td>1.0</td>\n",
       "      <td>int64</td>\n",
       "    </tr>\n",
       "  </tbody>\n",
       "</table>\n",
       "</div>"
      ],
      "text/plain": [
       "             train validation   test     type\n",
       "LotFrontage    188         71  227.0  float64\n",
       "MasVnrArea       6          2   15.0  float64\n",
       "BsmtFinSF1       0          0    1.0    int64\n",
       "BsmtFinSF2       0          0    1.0    int64\n",
       "BsmtUnfSF        0          0    1.0    int64\n",
       "TotalBsmtSF      0          0    1.0    int64\n",
       "BsmtFullBath     0          0    2.0    int64\n",
       "BsmtHalfBath     0          0    2.0    int64\n",
       "GarageYrBlt     64         17   78.0  float64\n",
       "GarageCars       0          0    1.0    int64\n",
       "GarageArea       0          0    1.0    int64"
      ]
     },
     "execution_count": 7,
     "metadata": {},
     "output_type": "execute_result"
    }
   ],
   "source": [
    "missing_df[missing_df['type']!='object']"
   ]
  },
  {
   "cell_type": "code",
   "execution_count": 8,
   "id": "0bac5211",
   "metadata": {},
   "outputs": [],
   "source": [
    "# Add a flag column indicating whether a value was imputed or not (only for columns\n",
    "# with a large number of missing values)\n",
    "df_train['FlagLotFrontage'] = df_train['LotFrontage'].isna().astype(int)\n",
    "df_train['FlagMasVnrArea'] =  df_train['MasVnrArea'].isna().astype(int)\n",
    "df_train['FlagGarageYrBlt'] =  df_train['GarageYrBlt'].isna().astype(int)\n",
    "\n",
    "df_val['FlagLotFrontage'] = df_val['LotFrontage'].isna().astype(int)\n",
    "df_val['FlagMasVnrArea'] =  df_val['MasVnrArea'].isna().astype(int)\n",
    "df_val['FlagGarageYrBlt'] =  df_val['GarageYrBlt'].isna().astype(int)\n",
    "\n",
    "df_test['FlagLotFrontage'] = df_test['LotFrontage'].isna().astype(int)\n",
    "df_test['FlagMasVnrArea'] =  df_test['MasVnrArea'].isna().astype(int)\n",
    "df_test['FlagGarageYrBlt'] =  df_test['GarageYrBlt'].isna().astype(int)"
   ]
  },
  {
   "cell_type": "markdown",
   "id": "5e16b833",
   "metadata": {},
   "source": [
    "In this case we can use the description of the data to perform imputation of missing values "
   ]
  },
  {
   "cell_type": "code",
   "execution_count": 9,
   "id": "58a288ad",
   "metadata": {},
   "outputs": [],
   "source": [
    "# Impute missing values assuming that NaN values mean 0 Lot frontage, 0 MasVnrArea and very old garage\n",
    "df_train['LotFrontage'].fillna(0, inplace=True)\n",
    "df_train['MasVnrArea'].fillna(0, inplace=True)\n",
    "df_train['GarageYrBlt'].fillna(df_train['GarageYrBlt'].min(), inplace=True)\n",
    "\n",
    "df_val['LotFrontage'].fillna(0, inplace=True)\n",
    "df_val['MasVnrArea'].fillna(0, inplace=True)\n",
    "df_val['GarageYrBlt'].fillna(df_train['GarageYrBlt'].min(), inplace=True)\n",
    "\n",
    "df_test['LotFrontage'].fillna(0, inplace=True)\n",
    "df_test['MasVnrArea'].fillna(0, inplace=True)\n",
    "df_test['GarageYrBlt'].fillna(df_train['GarageYrBlt'].min(), inplace=True)"
   ]
  },
  {
   "cell_type": "code",
   "execution_count": 10,
   "id": "a798ddc4",
   "metadata": {},
   "outputs": [],
   "source": [
    "# For columns with missing values only in the test set we can just simply drop the corresponding rows or look at\n",
    "# the data description and guess plausible values. I will follow this second option and impute values \n",
    "for col in ['BsmtFinSF1', 'BsmtFinSF2', 'BsmtUnfSF', 'TotalBsmtSF', 'BsmtFullBath', \n",
    "            'BsmtHalfBath', 'GarageCars', 'GarageArea']:\n",
    "    df_test[col].fillna(0, inplace=True)"
   ]
  },
  {
   "cell_type": "code",
   "execution_count": 11,
   "id": "8abf9a08",
   "metadata": {},
   "outputs": [
    {
     "data": {
      "text/html": [
       "<div>\n",
       "<style scoped>\n",
       "    .dataframe tbody tr th:only-of-type {\n",
       "        vertical-align: middle;\n",
       "    }\n",
       "\n",
       "    .dataframe tbody tr th {\n",
       "        vertical-align: top;\n",
       "    }\n",
       "\n",
       "    .dataframe thead th {\n",
       "        text-align: right;\n",
       "    }\n",
       "</style>\n",
       "<table border=\"1\" class=\"dataframe\">\n",
       "  <thead>\n",
       "    <tr style=\"text-align: right;\">\n",
       "      <th></th>\n",
       "      <th>train</th>\n",
       "      <th>validation</th>\n",
       "      <th>test</th>\n",
       "      <th>type</th>\n",
       "    </tr>\n",
       "  </thead>\n",
       "  <tbody>\n",
       "  </tbody>\n",
       "</table>\n",
       "</div>"
      ],
      "text/plain": [
       "Empty DataFrame\n",
       "Columns: [train, validation, test, type]\n",
       "Index: []"
      ]
     },
     "execution_count": 11,
     "metadata": {},
     "output_type": "execute_result"
    }
   ],
   "source": [
    "# No missing values remaining\n",
    "missing_df = missing_values_cols([df_train, df_val, df_test], ['train', 'validation', 'test'])\n",
    "missing_df[missing_df['type']!='object']"
   ]
  },
  {
   "cell_type": "markdown",
   "id": "8925386e",
   "metadata": {},
   "source": [
    "Let's now take a look at categorical features"
   ]
  },
  {
   "cell_type": "code",
   "execution_count": 12,
   "id": "ec296f6e",
   "metadata": {},
   "outputs": [],
   "source": [
    "# Tranform MSSubclass variable into a categorical \n",
    "df_train['MSSubClass'] = df_train['MSSubClass'].apply(str)\n",
    "df_val['MSSubClass'] = df_val['MSSubClass'].apply(str)\n",
    "\n",
    "df_test['MSSubClass'] = df_test['MSSubClass'].apply(str)"
   ]
  },
  {
   "cell_type": "code",
   "execution_count": 13,
   "id": "909223b6",
   "metadata": {},
   "outputs": [
    {
     "data": {
      "text/html": [
       "<div>\n",
       "<style scoped>\n",
       "    .dataframe tbody tr th:only-of-type {\n",
       "        vertical-align: middle;\n",
       "    }\n",
       "\n",
       "    .dataframe tbody tr th {\n",
       "        vertical-align: top;\n",
       "    }\n",
       "\n",
       "    .dataframe thead th {\n",
       "        text-align: right;\n",
       "    }\n",
       "</style>\n",
       "<table border=\"1\" class=\"dataframe\">\n",
       "  <thead>\n",
       "    <tr style=\"text-align: right;\">\n",
       "      <th></th>\n",
       "      <th>train</th>\n",
       "      <th>validation</th>\n",
       "      <th>test</th>\n",
       "      <th>type</th>\n",
       "    </tr>\n",
       "  </thead>\n",
       "  <tbody>\n",
       "    <tr>\n",
       "      <th>MSZoning</th>\n",
       "      <td>0</td>\n",
       "      <td>0</td>\n",
       "      <td>4.0</td>\n",
       "      <td>object</td>\n",
       "    </tr>\n",
       "    <tr>\n",
       "      <th>Alley</th>\n",
       "      <td>1020</td>\n",
       "      <td>349</td>\n",
       "      <td>1352.0</td>\n",
       "      <td>object</td>\n",
       "    </tr>\n",
       "    <tr>\n",
       "      <th>Utilities</th>\n",
       "      <td>0</td>\n",
       "      <td>0</td>\n",
       "      <td>2.0</td>\n",
       "      <td>object</td>\n",
       "    </tr>\n",
       "    <tr>\n",
       "      <th>Exterior1st</th>\n",
       "      <td>0</td>\n",
       "      <td>0</td>\n",
       "      <td>1.0</td>\n",
       "      <td>object</td>\n",
       "    </tr>\n",
       "    <tr>\n",
       "      <th>Exterior2nd</th>\n",
       "      <td>0</td>\n",
       "      <td>0</td>\n",
       "      <td>1.0</td>\n",
       "      <td>object</td>\n",
       "    </tr>\n",
       "    <tr>\n",
       "      <th>MasVnrType</th>\n",
       "      <td>6</td>\n",
       "      <td>2</td>\n",
       "      <td>16.0</td>\n",
       "      <td>object</td>\n",
       "    </tr>\n",
       "    <tr>\n",
       "      <th>BsmtQual</th>\n",
       "      <td>28</td>\n",
       "      <td>9</td>\n",
       "      <td>44.0</td>\n",
       "      <td>object</td>\n",
       "    </tr>\n",
       "    <tr>\n",
       "      <th>BsmtCond</th>\n",
       "      <td>28</td>\n",
       "      <td>9</td>\n",
       "      <td>45.0</td>\n",
       "      <td>object</td>\n",
       "    </tr>\n",
       "    <tr>\n",
       "      <th>BsmtExposure</th>\n",
       "      <td>29</td>\n",
       "      <td>9</td>\n",
       "      <td>44.0</td>\n",
       "      <td>object</td>\n",
       "    </tr>\n",
       "    <tr>\n",
       "      <th>BsmtFinType1</th>\n",
       "      <td>28</td>\n",
       "      <td>9</td>\n",
       "      <td>42.0</td>\n",
       "      <td>object</td>\n",
       "    </tr>\n",
       "    <tr>\n",
       "      <th>BsmtFinType2</th>\n",
       "      <td>29</td>\n",
       "      <td>9</td>\n",
       "      <td>42.0</td>\n",
       "      <td>object</td>\n",
       "    </tr>\n",
       "    <tr>\n",
       "      <th>Electrical</th>\n",
       "      <td>1</td>\n",
       "      <td>0</td>\n",
       "      <td>0.0</td>\n",
       "      <td>object</td>\n",
       "    </tr>\n",
       "    <tr>\n",
       "      <th>KitchenQual</th>\n",
       "      <td>0</td>\n",
       "      <td>0</td>\n",
       "      <td>1.0</td>\n",
       "      <td>object</td>\n",
       "    </tr>\n",
       "    <tr>\n",
       "      <th>Functional</th>\n",
       "      <td>0</td>\n",
       "      <td>0</td>\n",
       "      <td>2.0</td>\n",
       "      <td>object</td>\n",
       "    </tr>\n",
       "    <tr>\n",
       "      <th>FireplaceQu</th>\n",
       "      <td>513</td>\n",
       "      <td>177</td>\n",
       "      <td>730.0</td>\n",
       "      <td>object</td>\n",
       "    </tr>\n",
       "    <tr>\n",
       "      <th>GarageType</th>\n",
       "      <td>64</td>\n",
       "      <td>17</td>\n",
       "      <td>76.0</td>\n",
       "      <td>object</td>\n",
       "    </tr>\n",
       "    <tr>\n",
       "      <th>GarageFinish</th>\n",
       "      <td>64</td>\n",
       "      <td>17</td>\n",
       "      <td>78.0</td>\n",
       "      <td>object</td>\n",
       "    </tr>\n",
       "    <tr>\n",
       "      <th>GarageQual</th>\n",
       "      <td>64</td>\n",
       "      <td>17</td>\n",
       "      <td>78.0</td>\n",
       "      <td>object</td>\n",
       "    </tr>\n",
       "    <tr>\n",
       "      <th>GarageCond</th>\n",
       "      <td>64</td>\n",
       "      <td>17</td>\n",
       "      <td>78.0</td>\n",
       "      <td>object</td>\n",
       "    </tr>\n",
       "    <tr>\n",
       "      <th>PoolQC</th>\n",
       "      <td>1089</td>\n",
       "      <td>364</td>\n",
       "      <td>1456.0</td>\n",
       "      <td>object</td>\n",
       "    </tr>\n",
       "    <tr>\n",
       "      <th>Fence</th>\n",
       "      <td>888</td>\n",
       "      <td>291</td>\n",
       "      <td>1169.0</td>\n",
       "      <td>object</td>\n",
       "    </tr>\n",
       "    <tr>\n",
       "      <th>MiscFeature</th>\n",
       "      <td>1058</td>\n",
       "      <td>348</td>\n",
       "      <td>1408.0</td>\n",
       "      <td>object</td>\n",
       "    </tr>\n",
       "    <tr>\n",
       "      <th>SaleType</th>\n",
       "      <td>0</td>\n",
       "      <td>0</td>\n",
       "      <td>1.0</td>\n",
       "      <td>object</td>\n",
       "    </tr>\n",
       "  </tbody>\n",
       "</table>\n",
       "</div>"
      ],
      "text/plain": [
       "             train validation    test    type\n",
       "MSZoning         0          0     4.0  object\n",
       "Alley         1020        349  1352.0  object\n",
       "Utilities        0          0     2.0  object\n",
       "Exterior1st      0          0     1.0  object\n",
       "Exterior2nd      0          0     1.0  object\n",
       "MasVnrType       6          2    16.0  object\n",
       "BsmtQual        28          9    44.0  object\n",
       "BsmtCond        28          9    45.0  object\n",
       "BsmtExposure    29          9    44.0  object\n",
       "BsmtFinType1    28          9    42.0  object\n",
       "BsmtFinType2    29          9    42.0  object\n",
       "Electrical       1          0     0.0  object\n",
       "KitchenQual      0          0     1.0  object\n",
       "Functional       0          0     2.0  object\n",
       "FireplaceQu    513        177   730.0  object\n",
       "GarageType      64         17    76.0  object\n",
       "GarageFinish    64         17    78.0  object\n",
       "GarageQual      64         17    78.0  object\n",
       "GarageCond      64         17    78.0  object\n",
       "PoolQC        1089        364  1456.0  object\n",
       "Fence          888        291  1169.0  object\n",
       "MiscFeature   1058        348  1408.0  object\n",
       "SaleType         0          0     1.0  object"
      ]
     },
     "execution_count": 13,
     "metadata": {},
     "output_type": "execute_result"
    }
   ],
   "source": [
    "# No more numerical features with missing values\n",
    "missing_df = missing_values_cols([df_train, df_val, df_test], ['train', 'validation', 'test'])\n",
    "missing_df"
   ]
  },
  {
   "cell_type": "markdown",
   "id": "ca940d38",
   "metadata": {},
   "source": [
    "Note that there are some categorical features with a high number of missing values. I will drop columns with a fraction of missing values larger than a threshold value."
   ]
  },
  {
   "cell_type": "code",
   "execution_count": 14,
   "id": "0426de0d",
   "metadata": {},
   "outputs": [],
   "source": [
    "# Remove columns having many missing values > 0.5\n",
    "# Function that plots features with a fraction of missing values larger than \"thresh\"\n",
    "def plot_cols_high_missing(df, thresh=0.5, figsize=(9,7)):\n",
    "    try:\n",
    "        cols_na = df.isna().sum() \n",
    "        cols_missing = (cols_na / len(df)) > thresh\n",
    "\n",
    "        data = cols_na[cols_missing]\n",
    "\n",
    "        fig, ax = plt.subplots(1, 1, figsize=figsize) \n",
    "\n",
    "        ax = sns.barplot(x=data.index, y=data.values, ax=ax)\n",
    "\n",
    "        ax.axhline(len(df), linestyle='--', color='k')\n",
    "        ax.set_xticklabels(ax.get_xticklabels(), rotation = 60)\n",
    "\n",
    "        ax.set_ylabel('# Missing values')\n",
    "        return ax, list(data.index)\n",
    "    \n",
    "    except:\n",
    "        print('No columns with missing values')"
   ]
  },
  {
   "cell_type": "code",
   "execution_count": 16,
   "id": "2a6f9929",
   "metadata": {},
   "outputs": [
    {
     "data": {
      "image/png": "[encoded data removed]",
      "text/plain": [
       "<Figure size 648x504 with 1 Axes>"
      ]
     },
     "metadata": {
      "needs_background": "light"
     },
     "output_type": "display_data"
    }
   ],
   "source": [
    "ax = plot_cols_high_missing(df_train, thresh=0.45)\n",
    "plt.savefig(\"high_missing.png\", dpi=150)"
   ]
  },
  {
   "cell_type": "code",
   "execution_count": 17,
   "id": "e11b1f8d",
   "metadata": {},
   "outputs": [],
   "source": [
    "df_train.drop(labels=['Alley', 'FireplaceQu', 'PoolQC', 'Fence', 'MiscFeature'], axis=1, inplace=True)\n",
    "df_val.drop(labels=['Alley', 'FireplaceQu', 'PoolQC', 'Fence', 'MiscFeature'], axis=1, inplace=True)\n",
    "df_test.drop(labels=['Alley', 'FireplaceQu', 'PoolQC', 'Fence', 'MiscFeature'], axis=1, inplace=True)"
   ]
  },
  {
   "cell_type": "code",
   "execution_count": 18,
   "id": "dd0fe6bb",
   "metadata": {},
   "outputs": [],
   "source": [
    "df_train.reset_index(inplace=True, drop=True)\n",
    "df_val.reset_index(inplace=True, drop=True)\n",
    "df_test.reset_index(inplace=True, drop=True)"
   ]
  },
  {
   "cell_type": "code",
   "execution_count": 19,
   "id": "1739053a",
   "metadata": {},
   "outputs": [
    {
     "data": {
      "text/html": [
       "<div>\n",
       "<style scoped>\n",
       "    .dataframe tbody tr th:only-of-type {\n",
       "        vertical-align: middle;\n",
       "    }\n",
       "\n",
       "    .dataframe tbody tr th {\n",
       "        vertical-align: top;\n",
       "    }\n",
       "\n",
       "    .dataframe thead th {\n",
       "        text-align: right;\n",
       "    }\n",
       "</style>\n",
       "<table border=\"1\" class=\"dataframe\">\n",
       "  <thead>\n",
       "    <tr style=\"text-align: right;\">\n",
       "      <th></th>\n",
       "      <th>train</th>\n",
       "      <th>validation</th>\n",
       "      <th>test</th>\n",
       "      <th>type</th>\n",
       "    </tr>\n",
       "  </thead>\n",
       "  <tbody>\n",
       "    <tr>\n",
       "      <th>MSZoning</th>\n",
       "      <td>0</td>\n",
       "      <td>0</td>\n",
       "      <td>4.0</td>\n",
       "      <td>object</td>\n",
       "    </tr>\n",
       "    <tr>\n",
       "      <th>Utilities</th>\n",
       "      <td>0</td>\n",
       "      <td>0</td>\n",
       "      <td>2.0</td>\n",
       "      <td>object</td>\n",
       "    </tr>\n",
       "    <tr>\n",
       "      <th>Exterior1st</th>\n",
       "      <td>0</td>\n",
       "      <td>0</td>\n",
       "      <td>1.0</td>\n",
       "      <td>object</td>\n",
       "    </tr>\n",
       "    <tr>\n",
       "      <th>Exterior2nd</th>\n",
       "      <td>0</td>\n",
       "      <td>0</td>\n",
       "      <td>1.0</td>\n",
       "      <td>object</td>\n",
       "    </tr>\n",
       "    <tr>\n",
       "      <th>MasVnrType</th>\n",
       "      <td>6</td>\n",
       "      <td>2</td>\n",
       "      <td>16.0</td>\n",
       "      <td>object</td>\n",
       "    </tr>\n",
       "    <tr>\n",
       "      <th>BsmtQual</th>\n",
       "      <td>28</td>\n",
       "      <td>9</td>\n",
       "      <td>44.0</td>\n",
       "      <td>object</td>\n",
       "    </tr>\n",
       "    <tr>\n",
       "      <th>BsmtCond</th>\n",
       "      <td>28</td>\n",
       "      <td>9</td>\n",
       "      <td>45.0</td>\n",
       "      <td>object</td>\n",
       "    </tr>\n",
       "    <tr>\n",
       "      <th>BsmtExposure</th>\n",
       "      <td>29</td>\n",
       "      <td>9</td>\n",
       "      <td>44.0</td>\n",
       "      <td>object</td>\n",
       "    </tr>\n",
       "    <tr>\n",
       "      <th>BsmtFinType1</th>\n",
       "      <td>28</td>\n",
       "      <td>9</td>\n",
       "      <td>42.0</td>\n",
       "      <td>object</td>\n",
       "    </tr>\n",
       "    <tr>\n",
       "      <th>BsmtFinType2</th>\n",
       "      <td>29</td>\n",
       "      <td>9</td>\n",
       "      <td>42.0</td>\n",
       "      <td>object</td>\n",
       "    </tr>\n",
       "    <tr>\n",
       "      <th>Electrical</th>\n",
       "      <td>1</td>\n",
       "      <td>0</td>\n",
       "      <td>0.0</td>\n",
       "      <td>object</td>\n",
       "    </tr>\n",
       "    <tr>\n",
       "      <th>KitchenQual</th>\n",
       "      <td>0</td>\n",
       "      <td>0</td>\n",
       "      <td>1.0</td>\n",
       "      <td>object</td>\n",
       "    </tr>\n",
       "    <tr>\n",
       "      <th>Functional</th>\n",
       "      <td>0</td>\n",
       "      <td>0</td>\n",
       "      <td>2.0</td>\n",
       "      <td>object</td>\n",
       "    </tr>\n",
       "    <tr>\n",
       "      <th>GarageType</th>\n",
       "      <td>64</td>\n",
       "      <td>17</td>\n",
       "      <td>76.0</td>\n",
       "      <td>object</td>\n",
       "    </tr>\n",
       "    <tr>\n",
       "      <th>GarageFinish</th>\n",
       "      <td>64</td>\n",
       "      <td>17</td>\n",
       "      <td>78.0</td>\n",
       "      <td>object</td>\n",
       "    </tr>\n",
       "    <tr>\n",
       "      <th>GarageQual</th>\n",
       "      <td>64</td>\n",
       "      <td>17</td>\n",
       "      <td>78.0</td>\n",
       "      <td>object</td>\n",
       "    </tr>\n",
       "    <tr>\n",
       "      <th>GarageCond</th>\n",
       "      <td>64</td>\n",
       "      <td>17</td>\n",
       "      <td>78.0</td>\n",
       "      <td>object</td>\n",
       "    </tr>\n",
       "    <tr>\n",
       "      <th>SaleType</th>\n",
       "      <td>0</td>\n",
       "      <td>0</td>\n",
       "      <td>1.0</td>\n",
       "      <td>object</td>\n",
       "    </tr>\n",
       "  </tbody>\n",
       "</table>\n",
       "</div>"
      ],
      "text/plain": [
       "             train validation  test    type\n",
       "MSZoning         0          0   4.0  object\n",
       "Utilities        0          0   2.0  object\n",
       "Exterior1st      0          0   1.0  object\n",
       "Exterior2nd      0          0   1.0  object\n",
       "MasVnrType       6          2  16.0  object\n",
       "BsmtQual        28          9  44.0  object\n",
       "BsmtCond        28          9  45.0  object\n",
       "BsmtExposure    29          9  44.0  object\n",
       "BsmtFinType1    28          9  42.0  object\n",
       "BsmtFinType2    29          9  42.0  object\n",
       "Electrical       1          0   0.0  object\n",
       "KitchenQual      0          0   1.0  object\n",
       "Functional       0          0   2.0  object\n",
       "GarageType      64         17  76.0  object\n",
       "GarageFinish    64         17  78.0  object\n",
       "GarageQual      64         17  78.0  object\n",
       "GarageCond      64         17  78.0  object\n",
       "SaleType         0          0   1.0  object"
      ]
     },
     "execution_count": 19,
     "metadata": {},
     "output_type": "execute_result"
    }
   ],
   "source": [
    "# No more numerical features with missing values\n",
    "missing_df = missing_values_cols([df_train, df_val, df_test], ['train', 'validation', 'test'])\n",
    "missing_df"
   ]
  },
  {
   "cell_type": "code",
   "execution_count": 20,
   "id": "203571ff",
   "metadata": {},
   "outputs": [
    {
     "name": "stderr",
     "output_type": "stream",
     "text": [
      "/tmp/ipykernel_8185/30144209.py:1: FutureWarning: Dropping of nuisance columns in DataFrame reductions (with 'numeric_only=None') is deprecated; in a future version this will raise TypeError.  Select only valid columns before calling the reduction.\n",
      "  missing_df.sum(axis=0)\n"
     ]
    },
    {
     "data": {
      "text/plain": [
       "train           405\n",
       "validation      115\n",
       "test          555.0\n",
       "dtype: object"
      ]
     },
     "execution_count": 20,
     "metadata": {},
     "output_type": "execute_result"
    }
   ],
   "source": [
    "missing_df.sum(axis=0)"
   ]
  },
  {
   "cell_type": "code",
   "execution_count": 22,
   "id": "6c25a516",
   "metadata": {},
   "outputs": [
    {
     "data": {
      "image/png": "[encoded data removed]",
      "text/plain": [
       "<Figure size 648x504 with 1 Axes>"
      ]
     },
     "metadata": {
      "needs_background": "light"
     },
     "output_type": "display_data"
    }
   ],
   "source": [
    "ax, cols = plot_cols_high_missing(df_train, thresh=0)\n",
    "ax.set_ylim(0,100)\n",
    "\n",
    "plt.savefig(\"low_missing.png\", dpi=150)"
   ]
  },
  {
   "cell_type": "markdown",
   "id": "1f4fdf3b",
   "metadata": {},
   "source": [
    "By looking at data description I notice that NaN values for Bsmt or Garage features represent no garage. Therefore I will impute missing values with NA and add a flag variable for each feature"
   ]
  },
  {
   "cell_type": "code",
   "execution_count": 23,
   "id": "63bf938d",
   "metadata": {},
   "outputs": [],
   "source": [
    "# First I add a flag variables, for this I now create a function:\n",
    "def add_flag(dataframes, cols):\n",
    "    for col in cols:\n",
    "        name = 'Flag'+ col\n",
    "        for df in dataframes:\n",
    "            df[name] = df[col].isna().astype(int)\n",
    "            \n",
    "def impute(dataframes, cols, val):\n",
    "    for col in cols:\n",
    "        for df in dataframes:\n",
    "            df[col].fillna(val, inplace=True)"
   ]
  },
  {
   "cell_type": "code",
   "execution_count": 24,
   "id": "8da9f78d",
   "metadata": {},
   "outputs": [
    {
     "data": {
      "text/plain": [
       "Index(['MSZoning', 'Utilities', 'Exterior1st', 'Exterior2nd', 'MasVnrType',\n",
       "       'BsmtQual', 'BsmtCond', 'BsmtExposure', 'BsmtFinType1', 'BsmtFinType2',\n",
       "       'Electrical', 'KitchenQual', 'Functional', 'GarageType', 'GarageFinish',\n",
       "       'GarageQual', 'GarageCond', 'SaleType'],\n",
       "      dtype='object')"
      ]
     },
     "execution_count": 24,
     "metadata": {},
     "output_type": "execute_result"
    }
   ],
   "source": [
    "missing_df.index"
   ]
  },
  {
   "cell_type": "code",
   "execution_count": 25,
   "id": "968d23dc",
   "metadata": {},
   "outputs": [],
   "source": [
    "cols = ['BsmtQual', 'BsmtCond', 'BsmtExposure', 'BsmtFinType1', 'BsmtFinType2',\n",
    "        'GarageType', 'GarageFinish', 'GarageQual', 'GarageCond']\n",
    "add_flag([df_train, df_val, df_test], cols=cols)\n",
    "impute([df_train, df_val, df_test], cols=cols, val='NA')"
   ]
  },
  {
   "cell_type": "code",
   "execution_count": 26,
   "id": "d941711d",
   "metadata": {},
   "outputs": [],
   "source": [
    "add_flag([df_train, df_val, df_test], cols=['MasVnrType'])\n",
    "impute([df_train, df_val, df_test], cols=['MasVnrType'], val='None')"
   ]
  },
  {
   "cell_type": "code",
   "execution_count": 27,
   "id": "93155c8b",
   "metadata": {},
   "outputs": [
    {
     "data": {
      "text/html": [
       "<div>\n",
       "<style scoped>\n",
       "    .dataframe tbody tr th:only-of-type {\n",
       "        vertical-align: middle;\n",
       "    }\n",
       "\n",
       "    .dataframe tbody tr th {\n",
       "        vertical-align: top;\n",
       "    }\n",
       "\n",
       "    .dataframe thead th {\n",
       "        text-align: right;\n",
       "    }\n",
       "</style>\n",
       "<table border=\"1\" class=\"dataframe\">\n",
       "  <thead>\n",
       "    <tr style=\"text-align: right;\">\n",
       "      <th></th>\n",
       "      <th>train</th>\n",
       "      <th>validation</th>\n",
       "      <th>test</th>\n",
       "      <th>type</th>\n",
       "    </tr>\n",
       "  </thead>\n",
       "  <tbody>\n",
       "    <tr>\n",
       "      <th>MSZoning</th>\n",
       "      <td>0</td>\n",
       "      <td>0</td>\n",
       "      <td>4.0</td>\n",
       "      <td>object</td>\n",
       "    </tr>\n",
       "    <tr>\n",
       "      <th>Utilities</th>\n",
       "      <td>0</td>\n",
       "      <td>0</td>\n",
       "      <td>2.0</td>\n",
       "      <td>object</td>\n",
       "    </tr>\n",
       "    <tr>\n",
       "      <th>Exterior1st</th>\n",
       "      <td>0</td>\n",
       "      <td>0</td>\n",
       "      <td>1.0</td>\n",
       "      <td>object</td>\n",
       "    </tr>\n",
       "    <tr>\n",
       "      <th>Exterior2nd</th>\n",
       "      <td>0</td>\n",
       "      <td>0</td>\n",
       "      <td>1.0</td>\n",
       "      <td>object</td>\n",
       "    </tr>\n",
       "    <tr>\n",
       "      <th>Electrical</th>\n",
       "      <td>1</td>\n",
       "      <td>0</td>\n",
       "      <td>0.0</td>\n",
       "      <td>object</td>\n",
       "    </tr>\n",
       "    <tr>\n",
       "      <th>KitchenQual</th>\n",
       "      <td>0</td>\n",
       "      <td>0</td>\n",
       "      <td>1.0</td>\n",
       "      <td>object</td>\n",
       "    </tr>\n",
       "    <tr>\n",
       "      <th>Functional</th>\n",
       "      <td>0</td>\n",
       "      <td>0</td>\n",
       "      <td>2.0</td>\n",
       "      <td>object</td>\n",
       "    </tr>\n",
       "    <tr>\n",
       "      <th>SaleType</th>\n",
       "      <td>0</td>\n",
       "      <td>0</td>\n",
       "      <td>1.0</td>\n",
       "      <td>object</td>\n",
       "    </tr>\n",
       "  </tbody>\n",
       "</table>\n",
       "</div>"
      ],
      "text/plain": [
       "            train validation test    type\n",
       "MSZoning        0          0  4.0  object\n",
       "Utilities       0          0  2.0  object\n",
       "Exterior1st     0          0  1.0  object\n",
       "Exterior2nd     0          0  1.0  object\n",
       "Electrical      1          0  0.0  object\n",
       "KitchenQual     0          0  1.0  object\n",
       "Functional      0          0  2.0  object\n",
       "SaleType        0          0  1.0  object"
      ]
     },
     "execution_count": 27,
     "metadata": {},
     "output_type": "execute_result"
    }
   ],
   "source": [
    "# WE still have columns with missing values \n",
    "missing_df = missing_values_cols([df_train, df_val, df_test], ['train', 'validation', 'test'])\n",
    "missing_df"
   ]
  },
  {
   "cell_type": "code",
   "execution_count": 28,
   "id": "7f3a327b",
   "metadata": {},
   "outputs": [],
   "source": [
    "df_train.fillna(value='NA', inplace=True)\n",
    "df_test.fillna(value='NA', inplace=True)"
   ]
  },
  {
   "cell_type": "code",
   "execution_count": 29,
   "id": "2c824c4c",
   "metadata": {},
   "outputs": [],
   "source": [
    "#df_train.reset_index(inplace=True, drop=True)\n",
    "#df_test.reset_index(inplace=True, drop=True)"
   ]
  },
  {
   "cell_type": "code",
   "execution_count": 30,
   "id": "64bc083f",
   "metadata": {},
   "outputs": [
    {
     "data": {
      "text/html": [
       "<div>\n",
       "<style scoped>\n",
       "    .dataframe tbody tr th:only-of-type {\n",
       "        vertical-align: middle;\n",
       "    }\n",
       "\n",
       "    .dataframe tbody tr th {\n",
       "        vertical-align: top;\n",
       "    }\n",
       "\n",
       "    .dataframe thead th {\n",
       "        text-align: right;\n",
       "    }\n",
       "</style>\n",
       "<table border=\"1\" class=\"dataframe\">\n",
       "  <thead>\n",
       "    <tr style=\"text-align: right;\">\n",
       "      <th></th>\n",
       "      <th>train</th>\n",
       "      <th>validation</th>\n",
       "      <th>test</th>\n",
       "      <th>type</th>\n",
       "    </tr>\n",
       "  </thead>\n",
       "  <tbody>\n",
       "  </tbody>\n",
       "</table>\n",
       "</div>"
      ],
      "text/plain": [
       "Empty DataFrame\n",
       "Columns: [train, validation, test, type]\n",
       "Index: []"
      ]
     },
     "execution_count": 30,
     "metadata": {},
     "output_type": "execute_result"
    }
   ],
   "source": [
    "# No more missing values\n",
    "missing_df = missing_values_cols([df_train, df_val, df_test], ['train', 'validation', 'test'])\n",
    "missing_df"
   ]
  },
  {
   "cell_type": "code",
   "execution_count": 31,
   "id": "13cea58b",
   "metadata": {},
   "outputs": [],
   "source": [
    "df_train.replace('NA', 'NO_AV', inplace=True)\n",
    "df_val.replace('NA', 'NO_AV', inplace=True)\n",
    "df_test.replace('NA', 'NO_AV', inplace=True)"
   ]
  },
  {
   "cell_type": "markdown",
   "id": "cb722033",
   "metadata": {},
   "source": [
    "### Convert categorical into numerical\n",
    "The next step consists in transforming categorical features into numerical features. Depending on the cardinality of the corresponding categorical feature a different encoding technique is used.\n",
    "\n",
    "Encoding categorical features as numerical is necessary since most machine learning algorithms can only operate with numerical data. Depending on the type of categorical feature we must employ a different encoding technique; for example, one-hot encoding is better suited for low cardinality features while target encoding is a better alternative for high-cardinality features. In this project I considered three different encoding techniques: ordinal encoding, for categorical features that have an intrinsic order; target encoding, for high cardinality features (n >= 15); and one-hot encoding for the rest of features. With all this techniques we must use the training dataset to encode features both in the validation set and test set. The reason for this is that, in principle, both the validation and test set represent future data points that are not known at the moment we are training the model. Of these three methods only target encoding is difficult to understand for reasons I will explain in a moment. "
   ]
  },
  {
   "cell_type": "code",
   "execution_count": 32,
   "id": "f61103a4",
   "metadata": {},
   "outputs": [],
   "source": [
    "# Create a list that stores the features that have been transformed using any encoding technique.\n",
    "transformed_features = []"
   ]
  },
  {
   "cell_type": "code",
   "execution_count": 33,
   "id": "f2c279f9",
   "metadata": {},
   "outputs": [
    {
     "data": {
      "text/plain": [
       "MSSubClass       15\n",
       "MSZoning          5\n",
       "Street            2\n",
       "LotShape          4\n",
       "LandContour       4\n",
       "Utilities         2\n",
       "LotConfig         5\n",
       "LandSlope         3\n",
       "Neighborhood     24\n",
       "Condition1        9\n",
       "Condition2        8\n",
       "BldgType          5\n",
       "HouseStyle        8\n",
       "RoofStyle         6\n",
       "RoofMatl          7\n",
       "Exterior1st      15\n",
       "Exterior2nd      15\n",
       "MasVnrType        4\n",
       "ExterQual         4\n",
       "ExterCond         5\n",
       "Foundation        6\n",
       "BsmtQual          5\n",
       "BsmtCond          5\n",
       "BsmtExposure      5\n",
       "BsmtFinType1      7\n",
       "BsmtFinType2      7\n",
       "Heating           5\n",
       "HeatingQC         5\n",
       "CentralAir        2\n",
       "Electrical        5\n",
       "KitchenQual       4\n",
       "Functional        7\n",
       "GarageType        7\n",
       "GarageFinish      4\n",
       "GarageQual        6\n",
       "GarageCond        6\n",
       "PavedDrive        3\n",
       "SaleType          9\n",
       "SaleCondition     6\n",
       "dtype: int64"
      ]
     },
     "execution_count": 33,
     "metadata": {},
     "output_type": "execute_result"
    }
   ],
   "source": [
    "# Lets look at the cardinality of each categorical feature\n",
    "df_train.select_dtypes(include='object').nunique()"
   ]
  },
  {
   "cell_type": "markdown",
   "id": "e357473f",
   "metadata": {},
   "source": [
    "One-hot encoding is usually not appropriate for high cardinality categorical features. In some cases the categorical features have an inherent order, in which case, we can use ordinal encoding. By inspecting the data description file we find out that there are 14 features that can be encoded this way. "
   ]
  },
  {
   "cell_type": "code",
   "execution_count": 34,
   "id": "c4b8230b",
   "metadata": {},
   "outputs": [
    {
     "data": {
      "text/plain": [
       "array(['Rec', 'ALQ', 'GLQ', 'Unf', 'BLQ', 'LwQ', 'NO_AV'], dtype=object)"
      ]
     },
     "execution_count": 34,
     "metadata": {},
     "output_type": "execute_result"
    }
   ],
   "source": [
    "df_test['BsmtFinType1'].unique()"
   ]
  },
  {
   "cell_type": "code",
   "execution_count": 35,
   "id": "9c730f97",
   "metadata": {},
   "outputs": [],
   "source": [
    "from sklearn.preprocessing import OrdinalEncoder\n",
    "\n",
    "# Function that performs ordinal encoding. Users must provide the correct order in the \"categories\" prameter \n",
    "def ordinal_encoding(categories, col, dataframe):\n",
    "    encoder = OrdinalEncoder(categories=[categories], handle_unknown='use_encoded_value', unknown_value=np.nan)\n",
    "    col_encoded = encoder.fit_transform(dataframe[col].values.reshape(-1, 1))\n",
    "    \n",
    "    return col_encoded\n",
    "\n",
    "def ordinal_encode_cols(categories, cols, dataframes, drop=False):\n",
    "    for df in dataframes:\n",
    "        for col in cols:\n",
    "            col_encoded = ordinal_encoding(categories, col, df)\n",
    "            new_name = 'enc_' + col\n",
    "            df[new_name] = col_encoded\n",
    "        if drop:\n",
    "            df.drop(cols, axis=1, inplace=True)"
   ]
  },
  {
   "cell_type": "code",
   "execution_count": 36,
   "id": "fd6adf49",
   "metadata": {},
   "outputs": [],
   "source": [
    "categories = ['Po', 'Fa', 'TA', 'Gd', 'Ex']\n",
    "ordinal_encode_cols(categories, ['ExterQual', 'ExterCond'], [df_train, df_val, df_test])"
   ]
  },
  {
   "cell_type": "code",
   "execution_count": 37,
   "id": "df4f43e1",
   "metadata": {},
   "outputs": [],
   "source": [
    "categories = ['NO_AV', 'Po', 'Fa', 'TA', 'Gd', 'Ex']\n",
    "ordinal_encode_cols(categories, ['BsmtQual', 'BsmtCond'], [df_train, df_val, df_test])"
   ]
  },
  {
   "cell_type": "code",
   "execution_count": 38,
   "id": "b340c6f3",
   "metadata": {},
   "outputs": [],
   "source": [
    "categories = ['NO_AV', 'No', 'Mn', 'Av', 'Gd']\n",
    "ordinal_encode_cols(categories, ['BsmtExposure'], [df_train, df_val, df_test], drop=False)"
   ]
  },
  {
   "cell_type": "code",
   "execution_count": 39,
   "id": "d2d1bc0d",
   "metadata": {},
   "outputs": [],
   "source": [
    "categories = ['NO_AV', 'Unf', 'LwQ', 'Rec', 'BLQ', 'ALQ', 'GLQ']\n",
    "ordinal_encode_cols(categories, ['BsmtFinType1', 'BsmtFinType2'], [df_train, df_val, df_test], drop=False)"
   ]
  },
  {
   "cell_type": "code",
   "execution_count": 40,
   "id": "054d0e66",
   "metadata": {},
   "outputs": [],
   "source": [
    "categories = ['NO_AV', 'Po', 'Fa', 'TA', 'Gd', 'Ex']\n",
    "ordinal_encode_cols(categories, ['HeatingQC', 'KitchenQual','GarageQual', 'GarageCond'], \n",
    "                    [df_train, df_val, df_test])"
   ]
  },
  {
   "cell_type": "code",
   "execution_count": 41,
   "id": "b288fc4b",
   "metadata": {},
   "outputs": [],
   "source": [
    "transformed_features.extend(['ExterQual', 'ExterCond', 'BsmtQual', 'BsmtCond', 'BsmtExposure', \n",
    "                             'BsmtFinType1', 'BsmtFinType2', 'HeatingQC', 'KitchenQual',\n",
    "                             'GarageQual', 'GarageCond'])"
   ]
  },
  {
   "cell_type": "markdown",
   "id": "0e75a937",
   "metadata": {},
   "source": [
    "We still have some categorical features to transform. Now we use Target encoding to transform features with high cardinality. Applying target encoding is a tricky business since there is a high risk that information from the target leaks into the encoded feature. If this happens it can lead to overfitting and a poor generalization ability. Therefore when performing target encoding we need to be careful that information we are not supposed to know leaks into the training set. This means that target encoding of the validation and test set must be done using **only** the training data. For the encoding of features in the training set we must perform cross validation or nested-cross validation. "
   ]
  },
  {
   "cell_type": "code",
   "execution_count": 42,
   "id": "78c60eb2",
   "metadata": {},
   "outputs": [
    {
     "data": {
      "text/plain": [
       "MSSubClass       15\n",
       "MSZoning          5\n",
       "Street            2\n",
       "LotShape          4\n",
       "LandContour       4\n",
       "Utilities         2\n",
       "LotConfig         5\n",
       "LandSlope         3\n",
       "Neighborhood     24\n",
       "Condition1        9\n",
       "Condition2        8\n",
       "BldgType          5\n",
       "HouseStyle        8\n",
       "RoofStyle         6\n",
       "RoofMatl          7\n",
       "Exterior1st      15\n",
       "Exterior2nd      15\n",
       "MasVnrType        4\n",
       "Foundation        6\n",
       "Heating           5\n",
       "CentralAir        2\n",
       "Electrical        5\n",
       "Functional        7\n",
       "GarageType        7\n",
       "GarageFinish      4\n",
       "PavedDrive        3\n",
       "SaleType          9\n",
       "SaleCondition     6\n",
       "dtype: int64"
      ]
     },
     "execution_count": 42,
     "metadata": {},
     "output_type": "execute_result"
    }
   ],
   "source": [
    "cols = df_train.select_dtypes(include='object').nunique().index\n",
    "df_train.select_dtypes(include='object').nunique()[~cols.isin(transformed_features)]"
   ]
  },
  {
   "cell_type": "code",
   "execution_count": 43,
   "id": "e90d32ac",
   "metadata": {},
   "outputs": [],
   "source": [
    "from sklearn.model_selection import KFold"
   ]
  },
  {
   "cell_type": "code",
   "execution_count": 44,
   "id": "d35e68d4",
   "metadata": {},
   "outputs": [],
   "source": [
    "# define a function to apply target encoding using cross-validation\n",
    "\n",
    "def target_encode_test(df_train, df_test, col, target):\n",
    "    dt = df_train.groupby(col)[target].agg(['mean']).reset_index(drop=False)\n",
    "    tmp = df_test.merge(dt, on=col, how='left')['mean'].values\n",
    "    #fill_na(df_test, col)\n",
    "    return tmp\n",
    "\n",
    "def target_encode_train(df_train, col, target, n_splits=5):\n",
    "    kf = KFold(n_splits = n_splits, shuffle=False)\n",
    "    \n",
    "    folds = []\n",
    "    for result in kf.split(df_train):\n",
    "        dt = df_train.iloc[result[0]].groupby(col)[target].agg(['mean']).reset_index(drop=False)\n",
    "        tmp = df_train.iloc[result[1]].merge(dt, on=col, how='left')[[col,'mean']]\n",
    "        folds.append(tmp)\n",
    "        \n",
    "    return pd.concat([*folds]).reset_index(drop=True)\n",
    "\n",
    "\n",
    "def target_encode_nested(df_train, col, target, n_splits_out, n_splits_in):\n",
    "    kf = KFold(n_splits = n_splits_out, shuffle=False)\n",
    "    \n",
    "    folds = []\n",
    "    for result in kf.split(df_train):\n",
    "        fold = target_encode_train(df_train.iloc[result[0]], col, target, n_splits_in)\n",
    "        dt = fold.groupby(col).mean().reset_index(drop=False)\n",
    "        tmp = df_train.iloc[result[1]].merge(dt, on=col, how='left')[[col,'mean']]\n",
    "        folds.append(tmp)\n",
    "        \n",
    "    return pd.concat([*folds]).reset_index(drop=True)\n",
    "\n",
    "\n",
    "def fill_na(df_train, col):\n",
    "    pass\n",
    "\n",
    "def target_encode_cols(df_train, cols, target, n_splits=5, nested_cv=False, nested_splits=None, drop=False):\n",
    "    if nested_cv:\n",
    "        for col in cols:\n",
    "            new_name = 'target_enc_' + col\n",
    "            df_train[new_name] = target_encode_nested(df_train, col, target, nested_splits)['mean']\n",
    "            fill_na(df_train, new_name)\n",
    "    else:\n",
    "        for col in cols:\n",
    "            new_name = 'target_enc_' + col\n",
    "            df_train[new_name] = target_encode_train(df_train, col, target, n_splits)['mean']\n",
    "            fill_na(df_train, new_name)\n",
    "    \n",
    "    if drop:\n",
    "        df.drop(cols, axis=1, inplace=True)"
   ]
  },
  {
   "cell_type": "markdown",
   "id": "54f498f5",
   "metadata": {},
   "source": [
    "Let's test target encoding using simple cross-validation and nested cross-validation and computing the correlation \n",
    "coefficient"
   ]
  },
  {
   "cell_type": "code",
   "execution_count": 45,
   "id": "97a96c66",
   "metadata": {},
   "outputs": [],
   "source": [
    "folds = target_encode_train(df_train, col='Neighborhood', target='SalePrice', n_splits=10)"
   ]
  },
  {
   "cell_type": "code",
   "execution_count": 46,
   "id": "9c5a3a25",
   "metadata": {},
   "outputs": [
    {
     "data": {
      "text/plain": [
       "0.7325917133314693"
      ]
     },
     "execution_count": 46,
     "metadata": {},
     "output_type": "execute_result"
    }
   ],
   "source": [
    "np.corrcoef(folds['mean'], df_train['SalePrice'])[0,1]"
   ]
  },
  {
   "cell_type": "code",
   "execution_count": 47,
   "id": "e46b4b93",
   "metadata": {},
   "outputs": [],
   "source": [
    "folds = target_encode_nested(df_train, col='Neighborhood', target='SalePrice', n_splits_out=10, n_splits_in=9)"
   ]
  },
  {
   "cell_type": "code",
   "execution_count": 48,
   "id": "0839119a",
   "metadata": {},
   "outputs": [
    {
     "data": {
      "text/plain": [
       "0.7317829469731094"
      ]
     },
     "execution_count": 48,
     "metadata": {},
     "output_type": "execute_result"
    }
   ],
   "source": [
    "np.corrcoef(folds['mean'], df_train['SalePrice'])[0,1]"
   ]
  },
  {
   "cell_type": "markdown",
   "id": "44bc1883",
   "metadata": {},
   "source": [
    "It seems that Neighborhood, MSSubClass, Exterior1st and Exterior2nd are good candidates to apply target encoding. We can check this by creating box plots:"
   ]
  },
  {
   "cell_type": "code",
   "execution_count": 50,
   "id": "c507683f",
   "metadata": {},
   "outputs": [
    {
     "data": {
      "image/png": "[encoded data removed]",
      "text/plain": [
       "<Figure size 648x504 with 1 Axes>"
      ]
     },
     "metadata": {
      "needs_background": "light"
     },
     "output_type": "display_data"
    }
   ],
   "source": [
    "fig, ax = plt.subplots(1,1, figsize=(9,7))\n",
    "ax = sns.boxplot(x = 'Neighborhood', y='SalePrice', data=df_train)\n",
    "\n",
    "ax.set_xticklabels(ax.get_xticklabels(), rotation=60)\n",
    "\n",
    "plt.savefig(\"neighborhoods.png\", dpi=150)\n",
    "plt.show()"
   ]
  },
  {
   "cell_type": "code",
   "execution_count": 51,
   "id": "a32ccc75",
   "metadata": {},
   "outputs": [
    {
     "data": {
      "image/png": "[encoded data removed]",
      "text/plain": [
       "<Figure size 648x504 with 1 Axes>"
      ]
     },
     "metadata": {
      "needs_background": "light"
     },
     "output_type": "display_data"
    }
   ],
   "source": [
    "fig, ax = plt.subplots(1,1, figsize=(9,7))\n",
    "ax = sns.boxplot(x = 'MSSubClass', y='SalePrice', data=df_train)\n",
    "\n",
    "ax.set_xticklabels(ax.get_xticklabels(), rotation=60)\n",
    "\n",
    "plt.savefig(\"subclass.png\", dpi=150)\n",
    "plt.show()"
   ]
  },
  {
   "cell_type": "code",
   "execution_count": 56,
   "id": "b552758f",
   "metadata": {},
   "outputs": [
    {
     "data": {
      "image/png": "[encoded data removed]",
      "text/plain": [
       "<Figure size 648x504 with 1 Axes>"
      ]
     },
     "metadata": {
      "needs_background": "light"
     },
     "output_type": "display_data"
    }
   ],
   "source": [
    "fig, ax = plt.subplots(1,1, figsize=(9,7))\n",
    "ax = sns.boxplot(x = 'Exterior1st', y='SalePrice', data=df_train)\n",
    "\n",
    "ax.set_xticklabels(ax.get_xticklabels(), rotation=60)\n",
    "\n",
    "plt.show()"
   ]
  },
  {
   "cell_type": "code",
   "execution_count": 57,
   "id": "64468ffc",
   "metadata": {},
   "outputs": [],
   "source": [
    "# Apply target encoding \n",
    "df_train['target_enc_neighborhood'] = target_encode_nested(df_train, col='Neighborhood', target='SalePrice', \n",
    "                                              n_splits_out=10, n_splits_in=9)['mean']\n",
    "df_train['target_enc_MSSubClass'] = target_encode_nested(df_train, col='MSSubClass', target='SalePrice', \n",
    "                                              n_splits_out=10, n_splits_in=9)['mean']\n",
    "df_train['target_enc_Exterior1st'] = target_encode_nested(df_train, col='Exterior1st', target='SalePrice', \n",
    "                                              n_splits_out=10, n_splits_in=9)['mean']\n",
    "df_train['target_enc_Exterior2nd'] = target_encode_nested(df_train, col='Exterior2nd', target='SalePrice', \n",
    "                                              n_splits_out=10, n_splits_in=9)['mean']"
   ]
  },
  {
   "cell_type": "code",
   "execution_count": 58,
   "id": "430211ea",
   "metadata": {},
   "outputs": [],
   "source": [
    "# Do the same for the validation and test set, note that test and val do not require cross validation\n",
    "df_val['target_enc_neighborhood'] = target_encode_test(df_train, df_val, 'Neighborhood', 'SalePrice')\n",
    "df_val['target_enc_MSSubClass'] = target_encode_test(df_train, df_val, 'MSSubClass', 'SalePrice')\n",
    "df_val['target_enc_Exterior1st'] = target_encode_test(df_train, df_val, 'Exterior1st', 'SalePrice')\n",
    "df_val['target_enc_Exterior2nd'] = target_encode_test(df_train, df_val, 'Exterior2nd', 'SalePrice')\n",
    "\n",
    "df_test['target_enc_neighborhood'] = target_encode_test(df_train, df_test, 'Neighborhood', 'SalePrice')\n",
    "df_test['target_enc_MSSubClass'] = target_encode_test(df_train, df_test, 'MSSubClass', 'SalePrice')\n",
    "df_test['target_enc_Exterior1st'] = target_encode_test(df_train, df_test, 'Exterior1st', 'SalePrice')\n",
    "df_test['target_enc_Exterior2nd'] = target_encode_test(df_train, df_test, 'Exterior2nd', 'SalePrice')"
   ]
  },
  {
   "cell_type": "markdown",
   "id": "364f02b7",
   "metadata": {},
   "source": [
    "Now we need to check for NaN values in any of these newly created features. Categories with missing values are filled with the overall average. "
   ]
  },
  {
   "cell_type": "code",
   "execution_count": 59,
   "id": "d60e15a2",
   "metadata": {},
   "outputs": [
    {
     "name": "stdout",
     "output_type": "stream",
     "text": [
      "Missing values in target_enc_neighborhood :  0\n",
      "Missing values in target_enc_MSSubClass :  2\n",
      "Missing values in target_enc_Exterior1st :  6\n",
      "Missing values in target_enc_Exterior2nd :  4\n"
     ]
    }
   ],
   "source": [
    "cols = ['target_enc_neighborhood', 'target_enc_MSSubClass', 'target_enc_Exterior1st', 'target_enc_Exterior2nd']\n",
    "for col in cols:\n",
    "    print('Missing values in', col, ': ', df_train[col].isna().sum())"
   ]
  },
  {
   "cell_type": "code",
   "execution_count": 60,
   "id": "c2d611c2",
   "metadata": {},
   "outputs": [
    {
     "name": "stdout",
     "output_type": "stream",
     "text": [
      "Missing values in target_enc_neighborhood :  2\n",
      "Missing values in target_enc_MSSubClass :  0\n",
      "Missing values in target_enc_Exterior1st :  0\n",
      "Missing values in target_enc_Exterior2nd :  1\n"
     ]
    }
   ],
   "source": [
    "cols = ['target_enc_neighborhood', 'target_enc_MSSubClass', 'target_enc_Exterior1st', 'target_enc_Exterior2nd']\n",
    "for col in cols:\n",
    "    print('Missing values in', col, ': ', df_val[col].isna().sum())"
   ]
  },
  {
   "cell_type": "code",
   "execution_count": 61,
   "id": "1998ca4d",
   "metadata": {},
   "outputs": [
    {
     "name": "stdout",
     "output_type": "stream",
     "text": [
      "Missing values in target_enc_neighborhood :  8\n",
      "Missing values in target_enc_MSSubClass :  1\n",
      "Missing values in target_enc_Exterior1st :  1\n",
      "Missing values in target_enc_Exterior2nd :  1\n"
     ]
    }
   ],
   "source": [
    "cols = ['target_enc_neighborhood', 'target_enc_MSSubClass', 'target_enc_Exterior1st', 'target_enc_Exterior2nd']\n",
    "for col in cols:\n",
    "    print('Missing values in', col, ': ', df_test[col].isna().sum())"
   ]
  },
  {
   "cell_type": "code",
   "execution_count": 62,
   "id": "1561d071",
   "metadata": {},
   "outputs": [
    {
     "data": {
      "text/plain": [
       "183189.66849315068"
      ]
     },
     "execution_count": 62,
     "metadata": {},
     "output_type": "execute_result"
    }
   ],
   "source": [
    "overall_avg = df_train['SalePrice'].mean()\n",
    "overall_avg"
   ]
  },
  {
   "cell_type": "code",
   "execution_count": 63,
   "id": "8c45b68b",
   "metadata": {},
   "outputs": [],
   "source": [
    "for col in cols:\n",
    "    df_train[col].fillna(overall_avg, inplace=True)\n",
    "    df_val[col].fillna(overall_avg, inplace=True)\n",
    "    df_test[col].fillna(overall_avg, inplace=True)"
   ]
  },
  {
   "cell_type": "code",
   "execution_count": 64,
   "id": "b750f00e",
   "metadata": {},
   "outputs": [],
   "source": [
    "transformed_features.extend(['Neighborhood', 'MSSubClass', 'Exterior1st', 'Exterior2nd'])"
   ]
  },
  {
   "cell_type": "code",
   "execution_count": 65,
   "id": "3d527977",
   "metadata": {},
   "outputs": [
    {
     "data": {
      "text/plain": [
       "['ExterQual',\n",
       " 'ExterCond',\n",
       " 'BsmtQual',\n",
       " 'BsmtCond',\n",
       " 'BsmtExposure',\n",
       " 'BsmtFinType1',\n",
       " 'BsmtFinType2',\n",
       " 'HeatingQC',\n",
       " 'KitchenQual',\n",
       " 'GarageQual',\n",
       " 'GarageCond',\n",
       " 'Neighborhood',\n",
       " 'MSSubClass',\n",
       " 'Exterior1st',\n",
       " 'Exterior2nd']"
      ]
     },
     "execution_count": 65,
     "metadata": {},
     "output_type": "execute_result"
    }
   ],
   "source": [
    "transformed_features"
   ]
  },
  {
   "cell_type": "markdown",
   "id": "6ab39639",
   "metadata": {},
   "source": [
    "To encode the rest of the columns I will use one-hot-encoding. This technique is better suited for low cardinality features since it create m - 1 new columns for a feature with cardinality m."
   ]
  },
  {
   "cell_type": "code",
   "execution_count": 67,
   "id": "7bddb324",
   "metadata": {},
   "outputs": [
    {
     "data": {
      "text/plain": [
       "MSZoning         5\n",
       "Street           2\n",
       "LotShape         4\n",
       "LandContour      4\n",
       "Utilities        2\n",
       "LotConfig        5\n",
       "LandSlope        3\n",
       "Condition1       9\n",
       "Condition2       8\n",
       "BldgType         5\n",
       "HouseStyle       8\n",
       "RoofStyle        6\n",
       "RoofMatl         7\n",
       "MasVnrType       4\n",
       "Foundation       6\n",
       "Heating          5\n",
       "CentralAir       2\n",
       "Electrical       5\n",
       "Functional       7\n",
       "GarageType       7\n",
       "GarageFinish     4\n",
       "PavedDrive       3\n",
       "SaleType         9\n",
       "SaleCondition    6\n",
       "dtype: int64"
      ]
     },
     "execution_count": 67,
     "metadata": {},
     "output_type": "execute_result"
    }
   ],
   "source": [
    "cols = df_train.select_dtypes(include='object').nunique().index\n",
    "ohe_columns = df_train.select_dtypes(include='object').nunique()[~cols.isin(transformed_features)]\n",
    "ohe_columns"
   ]
  },
  {
   "cell_type": "code",
   "execution_count": 68,
   "id": "dace3bfa",
   "metadata": {},
   "outputs": [],
   "source": [
    "from sklearn.preprocessing import OneHotEncoder"
   ]
  },
  {
   "cell_type": "code",
   "execution_count": 69,
   "id": "278e80f9",
   "metadata": {},
   "outputs": [],
   "source": [
    "enc = OneHotEncoder(drop='first', handle_unknown='ignore', sparse=False)"
   ]
  },
  {
   "cell_type": "code",
   "execution_count": 70,
   "id": "3508aec1",
   "metadata": {},
   "outputs": [],
   "source": [
    "X_train= enc.fit_transform(df_train[ohe_columns.index])"
   ]
  },
  {
   "cell_type": "code",
   "execution_count": 71,
   "id": "7fb7adec",
   "metadata": {},
   "outputs": [
    {
     "name": "stderr",
     "output_type": "stream",
     "text": [
      "/home/betor94/anaconda3/envs/DS/lib/python3.9/site-packages/sklearn/preprocessing/_encoders.py:170: UserWarning: Found unknown categories in columns [12, 15, 17] during transform. These unknown categories will be encoded as all zeros\n",
      "  warnings.warn(\n",
      "/home/betor94/anaconda3/envs/DS/lib/python3.9/site-packages/sklearn/preprocessing/_encoders.py:170: UserWarning: Found unknown categories in columns [0, 4, 18, 22] during transform. These unknown categories will be encoded as all zeros\n",
      "  warnings.warn(\n"
     ]
    }
   ],
   "source": [
    "X_val= enc.transform(df_val[ohe_columns.index])\n",
    "X_test = enc.transform(df_test[ohe_columns.index])"
   ]
  },
  {
   "cell_type": "code",
   "execution_count": 72,
   "id": "d4a067fa",
   "metadata": {},
   "outputs": [],
   "source": [
    "X_train_df = pd.DataFrame(X_train, columns=enc.get_feature_names_out())\n",
    "X_val_df = pd.DataFrame(X_val, columns=enc.get_feature_names_out())\n",
    "X_test_df = pd.DataFrame(X_test, columns=enc.get_feature_names_out())"
   ]
  },
  {
   "cell_type": "code",
   "execution_count": 73,
   "id": "4927ec08",
   "metadata": {},
   "outputs": [],
   "source": [
    "df_train_enc = pd.concat([df_train, X_train_df], axis=1)\n",
    "df_val_enc = pd.concat([df_val, X_val_df], axis=1)\n",
    "df_test_enc = pd.concat([df_test, X_test_df], axis=1)"
   ]
  },
  {
   "cell_type": "code",
   "execution_count": 74,
   "id": "da79c701",
   "metadata": {},
   "outputs": [
    {
     "data": {
      "text/html": [
       "<div>\n",
       "<style scoped>\n",
       "    .dataframe tbody tr th:only-of-type {\n",
       "        vertical-align: middle;\n",
       "    }\n",
       "\n",
       "    .dataframe tbody tr th {\n",
       "        vertical-align: top;\n",
       "    }\n",
       "\n",
       "    .dataframe thead th {\n",
       "        text-align: right;\n",
       "    }\n",
       "</style>\n",
       "<table border=\"1\" class=\"dataframe\">\n",
       "  <thead>\n",
       "    <tr style=\"text-align: right;\">\n",
       "      <th></th>\n",
       "      <th>train</th>\n",
       "      <th>validation</th>\n",
       "      <th>test</th>\n",
       "      <th>type</th>\n",
       "    </tr>\n",
       "  </thead>\n",
       "  <tbody>\n",
       "  </tbody>\n",
       "</table>\n",
       "</div>"
      ],
      "text/plain": [
       "Empty DataFrame\n",
       "Columns: [train, validation, test, type]\n",
       "Index: []"
      ]
     },
     "execution_count": 74,
     "metadata": {},
     "output_type": "execute_result"
    }
   ],
   "source": [
    "missing_df = missing_values_cols([df_train_enc, df_val_enc, df_test_enc], ['train', 'validation', 'test'])\n",
    "missing_df"
   ]
  },
  {
   "cell_type": "code",
   "execution_count": 81,
   "id": "d2acf68c",
   "metadata": {},
   "outputs": [],
   "source": [
    "df_train_enc.to_csv('train_end.csv', index=False)\n",
    "df_val_enc.to_csv('val_end.csv', index=False)\n",
    "df_test_enc.to_csv('test_end.csv', index=False)"
   ]
  }
 ],
 "metadata": {
  "kernelspec": {
   "display_name": "Python 3 (ipykernel)",
   "language": "python",
   "name": "python3"
  },
  "language_info": {
   "codemirror_mode": {
    "name": "ipython",
    "version": 3
   },
   "file_extension": ".py",
   "mimetype": "text/x-python",
   "name": "python",
   "nbconvert_exporter": "python",
   "pygments_lexer": "ipython3",
   "version": "3.9.12"
  }
 },
 "nbformat": 4,
 "nbformat_minor": 5
}
