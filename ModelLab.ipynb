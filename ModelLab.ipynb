{
 "cells": [
  {
   "cell_type": "code",
   "execution_count": 1,
   "id": "e1222c9f-ebf1-40f4-89d4-d7bdcb3b8635",
   "metadata": {},
   "outputs": [],
   "source": [
    "# Import libraries\n",
    "import pandas as pd\n",
    "import numpy as np\n",
    "import matplotlib.pyplot as plt\n",
    "import seaborn as sns"
   ]
  },
  {
   "cell_type": "code",
   "execution_count": 2,
   "id": "43299b13-5e0c-4859-9264-404421c35696",
   "metadata": {},
   "outputs": [],
   "source": [
    "import os\n",
    "def file_path(filename, folder):\n",
    "    \"\"\"\n",
    "    Returns the path of a file given its name and the folder it resides\n",
    "\n",
    "    Parameters\n",
    "    ----------\n",
    "    file_name : str\n",
    "        Name of file\n",
    "    folder : str\n",
    "        Name of folder where the file with name 'file_name' resides. Must be\n",
    "        inside current directory\n",
    "\n",
    "    Returns\n",
    "    ----------\n",
    "        path : str\n",
    "    \"\"\"\n",
    "    path = os.path.join(os.getcwd(), folder, filename)\n",
    "    return path\n",
    "    \n",
    "train_path = file_path('train.csv', 'data')\n",
    "test_path = file_path('test.csv', 'data')"
   ]
  },
  {
   "cell_type": "code",
   "execution_count": 3,
   "id": "eab4182d-3d7a-4773-aeb4-d2190e66c5ae",
   "metadata": {},
   "outputs": [],
   "source": [
    "train = pd.read_csv(train_path)\n",
    "test = pd.read_csv(test_path)"
   ]
  },
  {
   "cell_type": "markdown",
   "id": "a57c76e6-262a-4882-ba8d-30dfcb45532a",
   "metadata": {},
   "source": [
    "## Exploratory Data Analysis"
   ]
  },
  {
   "cell_type": "markdown",
   "id": "3cca6ec8-ce1f-41c3-bc4b-b70963261e9d",
   "metadata": {},
   "source": [
    "To create the features that are going to be used as inputs to the tweet classification model it is important to analyze the information contained in the text of each tweet. Let's do some exploratory data analysis to extract useful information that can be transformed into features. Let's begin by exploring the keyword columnt."
   ]
  },
  {
   "cell_type": "code",
   "execution_count": 4,
   "id": "cd4268c9-7c58-42fc-9d46-9bc241ce8dd4",
   "metadata": {},
   "outputs": [
    {
     "data": {
      "text/html": [
       "<div>\n",
       "<style scoped>\n",
       "    .dataframe tbody tr th:only-of-type {\n",
       "        vertical-align: middle;\n",
       "    }\n",
       "\n",
       "    .dataframe tbody tr th {\n",
       "        vertical-align: top;\n",
       "    }\n",
       "\n",
       "    .dataframe thead th {\n",
       "        text-align: right;\n",
       "    }\n",
       "</style>\n",
       "<table border=\"1\" class=\"dataframe\">\n",
       "  <thead>\n",
       "    <tr style=\"text-align: right;\">\n",
       "      <th></th>\n",
       "      <th>id</th>\n",
       "      <th>keyword</th>\n",
       "      <th>location</th>\n",
       "      <th>text</th>\n",
       "      <th>target</th>\n",
       "    </tr>\n",
       "  </thead>\n",
       "  <tbody>\n",
       "    <tr>\n",
       "      <th>0</th>\n",
       "      <td>1</td>\n",
       "      <td>NaN</td>\n",
       "      <td>NaN</td>\n",
       "      <td>Our Deeds are the Reason of this #earthquake M...</td>\n",
       "      <td>1</td>\n",
       "    </tr>\n",
       "    <tr>\n",
       "      <th>1</th>\n",
       "      <td>4</td>\n",
       "      <td>NaN</td>\n",
       "      <td>NaN</td>\n",
       "      <td>Forest fire near La Ronge Sask. Canada</td>\n",
       "      <td>1</td>\n",
       "    </tr>\n",
       "    <tr>\n",
       "      <th>2</th>\n",
       "      <td>5</td>\n",
       "      <td>NaN</td>\n",
       "      <td>NaN</td>\n",
       "      <td>All residents asked to 'shelter in place' are ...</td>\n",
       "      <td>1</td>\n",
       "    </tr>\n",
       "    <tr>\n",
       "      <th>3</th>\n",
       "      <td>6</td>\n",
       "      <td>NaN</td>\n",
       "      <td>NaN</td>\n",
       "      <td>13,000 people receive #wildfires evacuation or...</td>\n",
       "      <td>1</td>\n",
       "    </tr>\n",
       "    <tr>\n",
       "      <th>4</th>\n",
       "      <td>7</td>\n",
       "      <td>NaN</td>\n",
       "      <td>NaN</td>\n",
       "      <td>Just got sent this photo from Ruby #Alaska as ...</td>\n",
       "      <td>1</td>\n",
       "    </tr>\n",
       "  </tbody>\n",
       "</table>\n",
       "</div>"
      ],
      "text/plain": [
       "   id keyword location                                               text  \\\n",
       "0   1     NaN      NaN  Our Deeds are the Reason of this #earthquake M...   \n",
       "1   4     NaN      NaN             Forest fire near La Ronge Sask. Canada   \n",
       "2   5     NaN      NaN  All residents asked to 'shelter in place' are ...   \n",
       "3   6     NaN      NaN  13,000 people receive #wildfires evacuation or...   \n",
       "4   7     NaN      NaN  Just got sent this photo from Ruby #Alaska as ...   \n",
       "\n",
       "   target  \n",
       "0       1  \n",
       "1       1  \n",
       "2       1  \n",
       "3       1  \n",
       "4       1  "
      ]
     },
     "execution_count": 4,
     "metadata": {},
     "output_type": "execute_result"
    }
   ],
   "source": [
    "train.head()"
   ]
  },
  {
   "cell_type": "code",
   "execution_count": 5,
   "id": "22dac9cf-d307-4810-8837-7aa18679f3c8",
   "metadata": {},
   "outputs": [
    {
     "data": {
      "text/html": [
       "<div>\n",
       "<style scoped>\n",
       "    .dataframe tbody tr th:only-of-type {\n",
       "        vertical-align: middle;\n",
       "    }\n",
       "\n",
       "    .dataframe tbody tr th {\n",
       "        vertical-align: top;\n",
       "    }\n",
       "\n",
       "    .dataframe thead th {\n",
       "        text-align: right;\n",
       "    }\n",
       "</style>\n",
       "<table border=\"1\" class=\"dataframe\">\n",
       "  <thead>\n",
       "    <tr style=\"text-align: right;\">\n",
       "      <th></th>\n",
       "      <th>id</th>\n",
       "      <th>keyword</th>\n",
       "      <th>location</th>\n",
       "      <th>text</th>\n",
       "    </tr>\n",
       "  </thead>\n",
       "  <tbody>\n",
       "    <tr>\n",
       "      <th>0</th>\n",
       "      <td>0</td>\n",
       "      <td>NaN</td>\n",
       "      <td>NaN</td>\n",
       "      <td>Just happened a terrible car crash</td>\n",
       "    </tr>\n",
       "    <tr>\n",
       "      <th>1</th>\n",
       "      <td>2</td>\n",
       "      <td>NaN</td>\n",
       "      <td>NaN</td>\n",
       "      <td>Heard about #earthquake is different cities, s...</td>\n",
       "    </tr>\n",
       "    <tr>\n",
       "      <th>2</th>\n",
       "      <td>3</td>\n",
       "      <td>NaN</td>\n",
       "      <td>NaN</td>\n",
       "      <td>there is a forest fire at spot pond, geese are...</td>\n",
       "    </tr>\n",
       "    <tr>\n",
       "      <th>3</th>\n",
       "      <td>9</td>\n",
       "      <td>NaN</td>\n",
       "      <td>NaN</td>\n",
       "      <td>Apocalypse lighting. #Spokane #wildfires</td>\n",
       "    </tr>\n",
       "    <tr>\n",
       "      <th>4</th>\n",
       "      <td>11</td>\n",
       "      <td>NaN</td>\n",
       "      <td>NaN</td>\n",
       "      <td>Typhoon Soudelor kills 28 in China and Taiwan</td>\n",
       "    </tr>\n",
       "  </tbody>\n",
       "</table>\n",
       "</div>"
      ],
      "text/plain": [
       "   id keyword location                                               text\n",
       "0   0     NaN      NaN                 Just happened a terrible car crash\n",
       "1   2     NaN      NaN  Heard about #earthquake is different cities, s...\n",
       "2   3     NaN      NaN  there is a forest fire at spot pond, geese are...\n",
       "3   9     NaN      NaN           Apocalypse lighting. #Spokane #wildfires\n",
       "4  11     NaN      NaN      Typhoon Soudelor kills 28 in China and Taiwan"
      ]
     },
     "execution_count": 5,
     "metadata": {},
     "output_type": "execute_result"
    }
   ],
   "source": [
    "test.head()"
   ]
  },
  {
   "cell_type": "code",
   "execution_count": 6,
   "id": "f7a4d0a4-6aab-4876-9ad8-3e6018e7b0f7",
   "metadata": {},
   "outputs": [
    {
     "name": "stdout",
     "output_type": "stream",
     "text": [
      "<class 'pandas.core.frame.DataFrame'>\n",
      "RangeIndex: 7613 entries, 0 to 7612\n",
      "Data columns (total 5 columns):\n",
      " #   Column    Non-Null Count  Dtype \n",
      "---  ------    --------------  ----- \n",
      " 0   id        7613 non-null   int64 \n",
      " 1   keyword   7552 non-null   object\n",
      " 2   location  5080 non-null   object\n",
      " 3   text      7613 non-null   object\n",
      " 4   target    7613 non-null   int64 \n",
      "dtypes: int64(2), object(3)\n",
      "memory usage: 297.5+ KB\n"
     ]
    }
   ],
   "source": [
    "train.info()"
   ]
  },
  {
   "cell_type": "code",
   "execution_count": 7,
   "id": "71e6bbee-318a-4ff2-b14a-5fc6a92a1066",
   "metadata": {},
   "outputs": [],
   "source": [
    "# Let's look at keyword column bby creating a dictionary\n",
    "keywords = dict(train.keyword.value_counts())\n",
    "# sort the dictionary by value\n",
    "keywords = dict(sorted(keywords.items(), key=lambda item: item[1], reverse=True))"
   ]
  },
  {
   "cell_type": "code",
   "execution_count": 8,
   "id": "83a308d4-ebf3-4dce-ac5e-c45d8050da23",
   "metadata": {},
   "outputs": [
    {
     "data": {
      "text/plain": [
       "221"
      ]
     },
     "execution_count": 8,
     "metadata": {},
     "output_type": "execute_result"
    }
   ],
   "source": [
    "len(keywords)"
   ]
  },
  {
   "cell_type": "markdown",
   "id": "6877a3e6-0087-4bec-bb53-67deb175a24e",
   "metadata": {},
   "source": [
    "The keyword column contains relevant information, as seen in the following figure. Words like armageddon or blaze are more frequent in fake disaster tweets. Note, however, that the keyword column is a categorical column of large cardinality, and therefore one-hot vectors is not an appropriate encoding technique. To encode this column, we can use target encoding.For this purpose, let's create a new function."
   ]
  },
  {
   "cell_type": "code",
   "execution_count": 9,
   "id": "00cf210c-353a-430d-8bfa-201b2106d0b5",
   "metadata": {},
   "outputs": [
    {
     "data": {
      "text/plain": [
       "<Axes: xlabel='count', ylabel='keyword'>"
      ]
     },
     "execution_count": 9,
     "metadata": {},
     "output_type": "execute_result"
    },
    {
     "data": {
      "image/png": "[encoded data removed]",
      "text/plain": [
       "<Figure size 700x1200 with 1 Axes>"
      ]
     },
     "metadata": {},
     "output_type": "display_data"
    }
   ],
   "source": [
    "fig, ax = plt.subplots(1, 1, figsize=(7,12)) \n",
    "\n",
    "sns.countplot(data = train[train['keyword'].isin(list(keywords.keys())[:50])], y='keyword', hue='target', ax=ax)"
   ]
  },
  {
   "cell_type": "code",
   "execution_count": 4,
   "id": "0c2d62e4-aed5-472b-ba58-7f2909042d26",
   "metadata": {},
   "outputs": [],
   "source": [
    "train['keyword'] = train['keyword'].fillna('Unknown')\n",
    "test['keyword'] = test['keyword'].fillna('Unknown')"
   ]
  },
  {
   "cell_type": "code",
   "execution_count": 11,
   "id": "c39caf15-1d90-4fba-9f88-79b2aa83d592",
   "metadata": {},
   "outputs": [
    {
     "data": {
      "text/plain": [
       "keyword\n",
       "Unknown                  61\n",
       "fatalities               45\n",
       "deluge                   42\n",
       "armageddon               42\n",
       "sinking                  41\n",
       "                         ..\n",
       "forest%20fire            19\n",
       "epicentre                12\n",
       "threat                   11\n",
       "inundation               10\n",
       "radiation%20emergency     9\n",
       "Name: count, Length: 222, dtype: int64"
      ]
     },
     "execution_count": 11,
     "metadata": {},
     "output_type": "execute_result"
    }
   ],
   "source": [
    "train['keyword'].value_counts()"
   ]
  },
  {
   "cell_type": "code",
   "execution_count": 5,
   "id": "7a62f05a-f0c1-442d-8601-6e1cd09d76bc",
   "metadata": {},
   "outputs": [],
   "source": [
    "# define a function to apply target encoding using cross-validatio\n",
    "\n",
    "from sklearn.model_selection import KFold\n",
    "\n",
    "def target_encode_train(dataframe, column, target, n_splits=5, crossing=10, rate=20):\n",
    "    \"\"\"\n",
    "    Performs target encoding on 'column' using Kfold cross-vaidation\n",
    "\n",
    "    Parameters\n",
    "    ----------\n",
    "    dataframe : Pandas DataFrame\n",
    "        Dataframe that contains columns\n",
    "    \n",
    "    column : string\n",
    "        Column to apply target encoding\n",
    "\n",
    "    target : string\n",
    "        Target columns use to encode 'column'\n",
    "\n",
    "    suffix (optional) : string, default = 'target'\n",
    "        String used to rename the new target-encoded column\n",
    "\n",
    "    Returns\n",
    "    ----------\n",
    "    dataframe : Pandas Dataframe\n",
    "        Dataframe containing the transformed columns\n",
    "    \"\"\"\n",
    "    temp = dataframe[[column, target]].copy()\n",
    "    kf = KFold(n_splits = n_splits, shuffle=True)\n",
    "\n",
    "    prior = np.mean(temp['target'])\n",
    "    \n",
    "    lamb = lambda x : (1/(1+np.exp(-(x-crossing)/rate))) if x > 0 else 0 \n",
    "    \n",
    "    folds = []\n",
    "    indices = []\n",
    "    for result in kf.split(temp):\n",
    "        train_df = temp.iloc[result[0]].groupby(column)[target].agg(['count','mean']).reset_index(drop=False)\n",
    "        test_df = temp.iloc[result[1]].merge(train_df, on=column, how='left')[[column, 'count','mean']]\n",
    "        test_df.fillna({'count':0, 'mean':0}, inplace=True)\n",
    "        test_df['weight'] =  test_df['count'].apply(lamb)\n",
    "        test_df['Z'] = test_df['weight'] * test_df['mean'] + (1 - test_df['weight']) * prior\n",
    "        indices.append(result[1])\n",
    "        folds.append(test_df)\n",
    "\n",
    "    indices = np.concatenate(indices)\n",
    "    df = pd.concat(folds, ignore_index=True)\n",
    "    df.set_index(indices, inplace=True)\n",
    "    df.sort_index(inplace=True)\n",
    "    \n",
    "    return df[['Z']]\n",
    "\n",
    "def target_encode_test(dataframe_train, dataframe_test, column, target, crossing=10, rate=20):\n",
    "    \"\"\"\n",
    "    Performs target encoding on 'column' using Kfold cross-vaidation\n",
    "\n",
    "    Parameters\n",
    "    ----------\n",
    "    dataframe : Pandas DataFrame\n",
    "        Dataframe that contains columns\n",
    "    \n",
    "    column : string\n",
    "        Column to apply target encoding\n",
    "\n",
    "    target : string\n",
    "        Target columns use to encode 'column'\n",
    "\n",
    "    suffix (optional) : string, default = 'target'\n",
    "        String used to rename the new target-encoded column\n",
    "\n",
    "    Returns\n",
    "    ----------\n",
    "    dataframe : Pandas Dataframe\n",
    "        Dataframe containing the transformed columns\n",
    "    \"\"\"\n",
    "\n",
    "    temp_train = dataframe_train[[column, target]].copy()\n",
    "    temp_test = dataframe_test[[column]].copy()\n",
    "\n",
    "    prior = np.mean(temp_train['target'])\n",
    "    \n",
    "    lamb = lambda x : (1/(1+np.exp(-(x-crossing)/rate))) if x > 0 else 0 \n",
    "    \n",
    "    train_df = temp_train.groupby(column)[target].agg(['count', 'mean']).reset_index(drop=False)\n",
    "    test_df = temp_test.merge(train_df, on=column, how='left')[['count', 'mean']]\n",
    "    test_df.fillna({'count':0, 'mean':0}, inplace=True)\n",
    "    test_df['weight'] =  test_df['count'].apply(lamb)\n",
    "    test_df['Z'] = test_df['weight'] * test_df['mean'] + (1 - test_df['weight']) * prior\n",
    "\n",
    "    return  test_df[['Z']]"
   ]
  },
  {
   "cell_type": "code",
   "execution_count": 6,
   "id": "eac5ca70-8129-4877-8e6a-25fa3ae95806",
   "metadata": {},
   "outputs": [],
   "source": [
    "# encode keyword column using target encoding\n",
    "train['keyword_target_enc'] =  target_encode_train(train, 'keyword', 'target')\n",
    "test['keyword_target_enc'] =  target_encode_test(train, test, 'keyword', 'target')"
   ]
  },
  {
   "cell_type": "markdown",
   "id": "bc3fe48e-c8cb-4c9b-bd6a-387827f689e4",
   "metadata": {},
   "source": [
    "Now we turn our attention to the 'text' column. Before analyzing these data, we must perform a series of preprocessing steps to remove stopwords and punctuation, lowercase capitalized words and apply lemmatization. Note that in text classification, we want the differences between classes to stand out; words like of, the, or and are present in all types of documents and therefore do not help differentiate between documents.   \n",
    "\n",
    "First, let's explore some tweets to understand what data we are working with. Note that there are a lot of variations across the texts. Some of them contain mentions, hashtags, and URLs.\n",
    "\n",
    "I will define functions to create some basic features, such as the number of words of each token, the number of mentions, hashtags, and URLs in each tweet. "
   ]
  },
  {
   "cell_type": "code",
   "execution_count": 9,
   "id": "ac8f9d8c-9e1f-4e9c-a910-492b9817daed",
   "metadata": {},
   "outputs": [
    {
     "name": "stdout",
     "output_type": "stream",
     "text": [
      "Deputies: Man shot before Brighton home set ablaze http://t.co/gWNRhMSO8k\n",
      "Man wife get six years jail for setting ablaze niece\n",
      "http://t.co/eV1ahOUCZA\n",
      "SANTA CRUZ ÛÓ Head of the St Elizabeth Police Superintendent Lanford Salmon has r ... - http://t.co/vplR5Hka2u http://t.co/SxHW2TNNLf\n",
      "Police: Arsonist Deliberately Set Black Church In North CarolinaåÊAblaze http://t.co/pcXarbH9An\n",
      "Noches El-Bestia '@Alexis_Sanchez: happy to see my teammates and training hard ?? goodnight gunners.?????? http://t.co/uc4j4jHvGR'\n",
      "#Kurds trampling on Turkmen flag later set it ablaze while others vandalized offices of Turkmen Front in #Diyala http://t.co/4IzFdYC3cg\n",
      "TRUCK ABLAZE : R21. VOORTREKKER AVE. OUTSIDE OR TAMBO INTL. CARGO SECTION. http://t.co/8kscqKfKkF\n",
      "Set our hearts ablaze and every city was a gift And every skyline was like a kiss upon the lips @Û_ https://t.co/cYoMPZ1A0Z\n",
      "They sky was ablaze tonight in Los Angeles. I'm expecting IG and FB to be filled with sunset shots if I know my peeps!!\n",
      "How the West was burned: Thousands of wildfires ablaze in #California alone http://t.co/iCSjGZ9tE1 #climate #energy http://t.co/9FxmN0l0Bd\n",
      "Revel in yours wmv videos by means of mac farewell ablaze wmv en route to dvd: GtxRWm\n",
      "Progressive greetings!\n",
      "\n",
      "In about a month students would have set their pens ablaze in The Torch Publications'... http://t.co/9FxPiXQuJt\n",
      "Rene Ablaze &amp; Jacinta - Secret 2k13 (Fallen Skies Edit) - Mar 30 2013  https://t.co/7MLMsUzV1Z\n",
      "@Navista7 Steve these fires out here are something else! California is a tinderbox - and this clown was setting my 'hood ablaze @News24680\n",
      "#NowPlaying: Rene Ablaze &amp; Ian Buff - Magnitude http://t.co/Av2JSjfFtc  #EDM\n",
      "@nxwestmidlands huge fire at Wholesale markets ablaze http://t.co/rwzbFVNXER\n",
      "@ablaze what time does your talk go until? I don't know if I can make it due to work.\n",
      "'I can't have kids cuz I got in a bicycle accident &amp; split my testicles. it's impossible for me to have kids' MICHAEL YOU ARE THE FATHER\n",
      "Accident on I-24 W #NashvilleTraffic. Traffic moving 8m slower than usual. https://t.co/0GHk693EgJ\n",
      "Accident center lane blocked in #SantaClara on US-101 NB before Great America Pkwy #BayArea #Traffic http://t.co/pmlOhZuRWR\n",
      "http://t.co/GKYe6gjTk5 Had a #personalinjury accident this summer? Read our advice &amp; see how a #solicitor can help #OtleyHour\n",
      "#stlouis #caraccidentlawyer Speeding Among Top Causes of Teen Accidents https://t.co/k4zoMOF319 https://t.co/S2kXVM0cBA Car Accident teeÛ_\n",
      "Reported motor vehicle accident in Curry on Herman Rd near Stephenson involving an overturned vehicle. Please use... http://t.co/YbJezKuRW1\n",
      "BigRigRadio Live Accident Awareness\n",
      "I-77 Mile Marker 31 South Mooresville  Iredell Vehicle Accident Ramp Closed at 8/6 1:18 PM\n",
      "RT @SleepJunkies: Sleeping pills double your risk of a car accident http://t.co/7s9Nm1fiCT\n",
      "'By accident' they knew what was gon happen https://t.co/Ysxun5vCeh\n",
      "Traffic accident N CABRILLO HWY/MAGELLAN AV MIR (08/06/15 11:03:58)\n",
      "I-77 Mile Marker 31 to 40 South Mooresville  Iredell Vehicle Accident Congestion at 8/6 1:18 PM\n",
      "the pastor was not in the scene of the accident......who was the owner of the range rover ?\n",
      "mom: 'we didn't get home as fast as we wished' \n",
      "me: 'why is that?'\n",
      "mom: 'there was an accident and some truck spilt mayonnaise all over ??????\n",
      "I was in a horrible car accident this past Sunday. I'm finally able to get around. Thank you GOD??\n",
      "Can wait to see how pissed Donnie is when I tell him I was in ANOTHER accident??\n",
      "#TruckCrash Overturns On #FortWorth Interstate http://t.co/Rs22LJ4qFp Click here if you've been in a crash&gt;http://t.co/Ld0unIYw4k\n",
      "Accident in #Ashville on US 23 SB before SR 752 #traffic http://t.co/hylMo0WgFI\n",
      "Carolina accident: Motorcyclist Dies in I-540 Crash With Car That Crossed Median: A motorcycle rider traveling... http://t.co/p18lzRlmy6\n",
      "FYI CAD:FYI: ;ACCIDENT PROPERTY DAMAGE;NHS;999 PINER RD/HORNDALE DR\n",
      "RT nAAYf: First accident in years. Turning onto Chandanee Magu from near MMA. Taxi rammed into me while I was halfway turned. Everyone confÛ_\n",
      "Accident left lane blocked in #Manchester on Rt 293 NB before Eddy Rd stop and go traffic back to NH-3A delay of 4 mins #traffic\n",
      ";ACCIDENT PROPERTY DAMAGE; PINER RD/HORNDALE DR\n",
      "???? it was an accident http://t.co/Oia5fxi4gM\n",
      "FYI CAD:FYI: ;ACCIDENT PROPERTY DAMAGE;WPD;1600 S 17TH ST\n",
      "8/6/2015@2:09 PM: TRAFFIC ACCIDENT NO INJURY at 2781 WILLIS FOREMAN RD http://t.co/VCkIT6EDEv\n",
      "Aashiqui Actress Anu Aggarwal On Her Near-Fatal Accident http://t.co/6Otfp31LqW\n",
      "Suffield Alberta Accident https://t.co/bPTmlF4P10\n",
      "9 Mile backup on I-77 South...accident blocking the Right 2 Lanes at Exit 31 Langtree Rd...consider NC 115 or NC 150 to NC 16 as alternate\n",
      "Has an accident changed your life? We will help you determine options that can financially support life care plans and on-going treatment.\n",
      "#BREAKING: there was a deadly motorcycle car accident that happened to #Hagerstown today. I'll have more details at 5 @Your4State. #WHAG\n",
      "@flowri were you marinading it or was it an accident?\n",
      "only had a car for not even a week and got in a fucking car accident .. Mfs can't fucking drive .\n"
     ]
    }
   ],
   "source": [
    "print(*train['text'].iloc[50:100], sep='\\n')"
   ]
  },
  {
   "cell_type": "code",
   "execution_count": 7,
   "id": "8e991c19-f7ca-4e69-8950-24a17312d421",
   "metadata": {},
   "outputs": [],
   "source": [
    "import re\n",
    "pm = re.compile(r'@\\w+')\n",
    "\n",
    "def mention_count(tweet):\n",
    "    \"\"\"\n",
    "    Returns the number of mentions in each tweet\n",
    "\n",
    "    Parameters\n",
    "    ----------\n",
    "    tweet : str\n",
    "        Text of tweet\n",
    "        \n",
    "    Returns\n",
    "    ----------\n",
    "        count : int\n",
    "    \"\"\"\n",
    "    count = len(pm.findall(tweet))\n",
    "    return count\n",
    "\n",
    "\n",
    "ph = re.compile(r'#\\w+')\n",
    "\n",
    "def hashtag_count(tweet):\n",
    "    \"\"\"\n",
    "    Returns the number of hashtags in each tweet\n",
    "\n",
    "    Parameters\n",
    "    ----------\n",
    "    tweet : str\n",
    "        Text of tweet\n",
    "        \n",
    "    Returns\n",
    "    ----------\n",
    "        count : int\n",
    "    \"\"\"\n",
    "    count = len(ph.findall(tweet))\n",
    "    return count\n",
    "\n",
    "\n",
    "purls = re.compile(r'http[s]?:\\/\\/\\S+')\n",
    "\n",
    "def url_count(tweet):\n",
    "    \"\"\"\n",
    "    Returns the number of urls in each tweet\n",
    "\n",
    "    Parameters\n",
    "    ----------\n",
    "    tweet : str\n",
    "        Text of tweet\n",
    "        \n",
    "    Returns\n",
    "    ----------\n",
    "        count : int\n",
    "    \"\"\"\n",
    "    count = len(purls.findall(tweet))\n",
    "    return count\n",
    "\n",
    "\n",
    "def token_count(tweet):\n",
    "    \"\"\"\n",
    "    Returns the number of unprocessed tokens in each tweet\n",
    "\n",
    "    Parameters\n",
    "    ----------\n",
    "    tweet : str\n",
    "        Text of tweet\n",
    "        \n",
    "    Returns\n",
    "    ----------\n",
    "        len : int\n",
    "    \"\"\"\n",
    "    tokens = tweet.split()\n",
    "    return len(tokens)\n",
    "\n",
    "\n",
    "def char_count(tweet):\n",
    "    \"\"\"\n",
    "    Returns the number of characters in each tweet\n",
    "\n",
    "    Parameters\n",
    "    ----------\n",
    "    tweet : str\n",
    "        Text of tweet\n",
    "        \n",
    "    Returns\n",
    "    ----------\n",
    "        len : int\n",
    "    \"\"\"\n",
    "    return len(tweet)\n",
    "\n",
    "\n",
    "def avg_word_length(tweet):\n",
    "    \"\"\"\n",
    "    Returns the average length of words of each tweet\n",
    "\n",
    "    Parameters\n",
    "    ----------\n",
    "    tweet : str\n",
    "        Text of tweet\n",
    "        \n",
    "    Returns\n",
    "    ----------\n",
    "        avg_len : float\n",
    "    \"\"\"\n",
    "    tokens = tweet.split()\n",
    "    lens = [len(word) for word in tokens]\n",
    "    avg_len = sum(lens)/len(lens)\n",
    "    return avg_len\n",
    "\n",
    "def median_word_length(tweet):\n",
    "    \"\"\"\n",
    "    Returns the median of length of words in each tweet\n",
    "\n",
    "    Parameters\n",
    "    ----------\n",
    "    tweet : str\n",
    "        Text of tweet\n",
    "        \n",
    "    Returns\n",
    "    ----------\n",
    "        med_len : float\n",
    "    \"\"\"\n",
    "    tokens = tweet.split()\n",
    "    lens = [len(word) for word in tokens]\n",
    "    med_len = np.median(lens)\n",
    "    return med_len"
   ]
  },
  {
   "cell_type": "code",
   "execution_count": 8,
   "id": "83f593ce-1c5b-412e-9e36-ae49cad0e14c",
   "metadata": {
    "scrolled": true
   },
   "outputs": [
    {
     "name": "stdout",
     "output_type": "stream",
     "text": [
      "Number of mentions: 2\n",
      "Number of hashtags: 3\n",
      "Number of urls: 3\n"
     ]
    }
   ],
   "source": [
    "# just testing the functions\n",
    "tweet = \"@Navista7 Steve these fires out here are something else! California is a tinderbox - and this clown was setting my 'hood ablaze @News24680\"\n",
    "count = mention_count(tweet)\n",
    "print(f\"Number of mentions: {count}\")\n",
    "\n",
    "tweet = \"#BREAKING: there was a deadly motorcycle car accident that happened to #Hagerstown today. I'll have more details at 5 @Your4State. #WHAG\"\n",
    "count = hashtag_count(tweet)\n",
    "print(f\"Number of hashtags: {count}\")\n",
    "\n",
    "tweet = \"Aashiqui Actress Anu Aggarwal On Her Near-Fatal Accident http://t.co/6Otfp31LqW Suffield Alberta Accident https://t.co/bPTmlF4P10 https://www.kaggle.com/competitions/nlp-getting-started/data\"\n",
    "count = url_count(tweet)\n",
    "print(f\"Number of urls: {count}\")"
   ]
  },
  {
   "cell_type": "code",
   "execution_count": 9,
   "id": "7db6f00b-e8ab-457b-8399-102c6961bdb6",
   "metadata": {},
   "outputs": [],
   "source": [
    "train['number_of_mentions'] = train['text'].apply(mention_count)\n",
    "train['number_of_hashtags'] = train['text'].apply(hashtag_count)\n",
    "train['number_of_urls'] = train['text'].apply(url_count)\n",
    "\n",
    "train['token_count'] = train['text'].apply(token_count)\n",
    "train['char_count'] = train['text'].apply(char_count)\n",
    "train['avg_word_length'] = train['text'].apply(avg_word_length)\n",
    "train['median_word_length'] = train['text'].apply(median_word_length)"
   ]
  },
  {
   "cell_type": "code",
   "execution_count": 10,
   "id": "914c6465-370d-4f15-8a41-361de40d0564",
   "metadata": {},
   "outputs": [],
   "source": [
    "test['number_of_mentions'] = test['text'].apply(mention_count)\n",
    "test['number_of_hashtags'] = test['text'].apply(hashtag_count)\n",
    "test['number_of_urls'] = test['text'].apply(url_count)\n",
    "\n",
    "test['token_count'] = test['text'].apply(token_count)\n",
    "test['char_count'] = test['text'].apply(char_count)\n",
    "test['avg_word_length'] = test['text'].apply(avg_word_length)\n",
    "test['median_word_length'] = test['text'].apply(median_word_length)"
   ]
  },
  {
   "cell_type": "code",
   "execution_count": 10,
   "id": "ca16970f-5fd1-4d1a-9114-e1d48ea0cb72",
   "metadata": {},
   "outputs": [
    {
     "name": "stdout",
     "output_type": "stream",
     "text": [
      "target                 0     1\n",
      "number_of_mentions            \n",
      "0                   2999  2605\n",
      "1                   1019   512\n",
      "2                    237   101\n",
      "3                     47    39\n",
      "4                     19    11\n",
      "5                     14     3\n",
      "6                      5     0\n",
      "7                      1     0\n",
      "8                      1     0\n",
      "target                 0     1\n",
      "number_of_hashtags            \n",
      "0                   3457  2413\n",
      "1                    486   478\n",
      "2                    199   208\n",
      "3                    108    94\n",
      "4                     44    27\n",
      "5                     17    22\n",
      "6                     20     7\n",
      "7                      3     4\n",
      "8                      1     7\n",
      "9                      2     0\n",
      "10                     3     7\n",
      "11                     2     0\n",
      "13                     0     4\n",
      "target             0     1\n",
      "number_of_urls            \n",
      "0               2543  1099\n",
      "1               1414  1835\n",
      "2                369   328\n",
      "3                 13     9\n",
      "4                  3     0\n"
     ]
    }
   ],
   "source": [
    "print(pd.crosstab(train['number_of_mentions'], train['target']))\n",
    "print(pd.crosstab(train['number_of_hashtags'], train['target']))\n",
    "print(pd.crosstab(train['number_of_urls'], train['target']))"
   ]
  },
  {
   "cell_type": "code",
   "execution_count": 12,
   "id": "7a9ececd-fc7e-42a5-b77f-6296fdda8040",
   "metadata": {},
   "outputs": [
    {
     "data": {
      "text/plain": [
       "<Axes: xlabel='number_of_mentions', ylabel='Density'>"
      ]
     },
     "execution_count": 12,
     "metadata": {},
     "output_type": "execute_result"
    },
    {
     "data": {
      "image/png": "[encoded data removed]",
      "text/plain": [
       "<Figure size 640x480 with 1 Axes>"
      ]
     },
     "metadata": {},
     "output_type": "display_data"
    }
   ],
   "source": [
    "# apparently fake tweets have a larger number of mentions\n",
    "sns.histplot(data=train, x='number_of_mentions', hue='target', stat='density', common_bins=False)"
   ]
  },
  {
   "cell_type": "code",
   "execution_count": 16,
   "id": "2f73035a-66b9-40d5-8a18-b47a6af974a3",
   "metadata": {},
   "outputs": [
    {
     "data": {
      "text/plain": [
       "<Axes: xlabel='char_count', ylabel='Percent'>"
      ]
     },
     "execution_count": 16,
     "metadata": {},
     "output_type": "execute_result"
    },
    {
     "data": {
      "image/png": "[encoded data removed]",
      "text/plain": [
       "<Figure size 700x1200 with 2 Axes>"
      ]
     },
     "metadata": {},
     "output_type": "display_data"
    }
   ],
   "source": [
    "# apparently fake tweets have a larger number of mentions\n",
    "fig, ax = plt.subplots(2,1, figsize=(7,12))\n",
    "sns.histplot(data=train, x='token_count', hue='target', bins=30, kde=True, ax=ax[0], stat='percent')\n",
    "sns.histplot(data=train, x='char_count', hue='target', bins=30, kde=True, ax=ax[1], stat='percent')"
   ]
  },
  {
   "cell_type": "code",
   "execution_count": 21,
   "id": "98477245-a035-4c49-84b6-fc0929d0e862",
   "metadata": {},
   "outputs": [
    {
     "data": {
      "text/plain": [
       "<Axes: xlabel='median_word_length', ylabel='Percent'>"
      ]
     },
     "execution_count": 21,
     "metadata": {},
     "output_type": "execute_result"
    },
    {
     "data": {
      "image/png": "[encoded data removed]",
      "text/plain": [
       "<Figure size 700x1200 with 2 Axes>"
      ]
     },
     "metadata": {},
     "output_type": "display_data"
    }
   ],
   "source": [
    "fig, ax = plt.subplots(2,1, figsize=(7,12))\n",
    "\n",
    "sns.histplot(data=train, x='avg_word_length', hue='target', bins=30, kde=True, stat='percent', ax=ax[0])\n",
    "sns.histplot(data=train, x='median_word_length', hue='target', bins=30, kde=True, stat='percent', ax=ax[1])"
   ]
  },
  {
   "cell_type": "markdown",
   "id": "effea667-ebb9-49e4-ac24-971af6f7e9b9",
   "metadata": {},
   "source": [
    "Now we can proceed to tokenize the texts and apply the preprocessing steps. This process will take the text of each tweet and transform it into a list of tokens that will serve as features. For now, I will focus on simple features consisting of 1-grams and simple statistics. Once we have built a simple, functional model, we will add more complex features and use sophisticated algorithms."
   ]
  },
  {
   "cell_type": "code",
   "execution_count": null,
   "id": "cca46452-23a4-413d-93c5-15727f41076e",
   "metadata": {},
   "outputs": [],
   "source": [
    "\"\"\"\n",
    "    Returns the number of unprocessed tokens in each tweet\n",
    "\n",
    "    Parameters\n",
    "    ----------\n",
    "    tweet : str\n",
    "        Text of tweet\n",
    "        \n",
    "    Returns\n",
    "    ----------\n",
    "        len : int\n",
    "    \"\"\""
   ]
  },
  {
   "cell_type": "markdown",
   "id": "7649a492-4040-47f1-b1ba-b6cdd9211f40",
   "metadata": {},
   "source": [
    "### Tokenization"
   ]
  },
  {
   "cell_type": "code",
   "execution_count": 11,
   "id": "30d6f3f2-12db-42a2-9ea8-52546cf6e2b8",
   "metadata": {},
   "outputs": [],
   "source": [
    "from nltk.tokenize import RegexpTokenizer, sent_tokenize, word_tokenize, TweetTokenizer\n",
    "from nltk.tag import pos_tag, pos_tag_sents\n",
    "from nltk.stem import WordNetLemmatizer\n",
    "from nltk.corpus import stopwords\n",
    "from collections import Counter\n",
    "import string\n",
    "import nltk\n",
    "import itertools\n",
    "import re\n",
    "\n",
    "# lowercase the words in tweet\n",
    "def lowercase(tweet):\n",
    "    \"\"\"\n",
    "    Convert capitalized words to lowercase.\n",
    "\n",
    "    Parameters\n",
    "    ----------\n",
    "    tweet : str\n",
    "        Text of tweet\n",
    "\n",
    "    Returns\n",
    "    ----------\n",
    "    tweet : str\n",
    "        Lowercased version of tweet\n",
    "        \n",
    "    \"\"\"\n",
    "    tweet = tweet.lower()\n",
    "    return tweet\n",
    "    \n",
    "\n",
    "def tokenize(tweet, tokenizer = 'word_tokenize'):\n",
    "    \"\"\"\n",
    "    Returns a list of tokens from 'tweet' using 'tokenizer'.\n",
    "\n",
    "    Parameters\n",
    "    ----------\n",
    "    tweet : str\n",
    "        Text of tweet\n",
    "\n",
    "    tokenizer : str, default = 'word_tokenizer'\n",
    "        Controls which tokenizer is used. Options are: 'word_tokenize', 'TweetTokenizer'\n",
    "\n",
    "    Returns\n",
    "    ----------\n",
    "    tokens : list\n",
    "        list of tokens\n",
    "        \n",
    "    \"\"\"\n",
    "    if tokenizer == 'word_tokenize':\n",
    "        tokens = word_tokenize(tweet)\n",
    "        \n",
    "    elif tokenizer == 'TweetTokenizer':\n",
    "        tknzr =  TweetTokenizer(reduce_len=True)\n",
    "        tokens =  tknzr.tokenize(tweet)\n",
    "\n",
    "    return tokens\n",
    "#nltk.download(\n",
    "\n",
    "\n",
    "def remove_punctuation(tokens):\n",
    "    \"\"\"\n",
    "    Returns a list of tokens with punctuation removed.\n",
    "\n",
    "    Parameters\n",
    "    ----------\n",
    "    tokens : list\n",
    "        List of tokens\n",
    "\n",
    "    stopwords : list\n",
    "        List of stopwords to remove\n",
    "\n",
    "    Returns\n",
    "    ----------\n",
    "    tokens : list\n",
    "        \n",
    "    \"\"\"\n",
    "    tokens = [word for word in tokens if word not in string.punctuation]\n",
    "    return tokens\n",
    "    \n",
    "\n",
    "def remove_stopwords(tokens, stopwords):\n",
    "    \"\"\"\n",
    "    Returns a list of tokens with stopwords removed.\n",
    "\n",
    "    Parameters\n",
    "    ----------\n",
    "    tokens : list\n",
    "        List of tokens\n",
    "\n",
    "    stopwords : list\n",
    "        List of stopwords to remove\n",
    "\n",
    "    Returns\n",
    "    ----------\n",
    "    tokens : list\n",
    "        \n",
    "    \"\"\"\n",
    "    tokens = [token for token in tokens if token not in stopwords]\n",
    "    return tokens\n",
    "\n",
    "\n",
    "def remove_regex(tokens, regex):\n",
    "    \"\"\"\n",
    "    Removes token that match regex pattern.\n",
    "\n",
    "    Parameters\n",
    "    ----------\n",
    "    tokens : list\n",
    "        List of tokens\n",
    "\n",
    "    regex : string\n",
    "        Regular expresion pattern\n",
    "\n",
    "    Returns\n",
    "    ----------\n",
    "    tokens : list\n",
    "        \n",
    "    \"\"\"\n",
    "\n",
    "    tokens = [token for token in tokens if not re.match(regex, token)]\n",
    "    return tokens"
   ]
  },
  {
   "cell_type": "code",
   "execution_count": 12,
   "id": "0930d310-051b-420a-a9e8-c5aee09bdb19",
   "metadata": {},
   "outputs": [],
   "source": [
    "from sklearn.feature_extraction.text import TfidfVectorizer\n",
    "from scipy.sparse import linalg"
   ]
  },
  {
   "cell_type": "code",
   "execution_count": 13,
   "id": "1f4de3df-3f5f-4308-b073-a2b87ae4ae1a",
   "metadata": {},
   "outputs": [],
   "source": [
    "train['tokens'] = train['text'].apply(lowercase)\n",
    "train['tokens'] = train['tokens'].apply(tokenize, tokenizer='TweetTokenizer')\n",
    "train['tokens'] = train['tokens'].apply(remove_punctuation)\n",
    "train['tokens'] = train['tokens'].apply(remove_regex, regex=r'\\d+')\n",
    "#train['tokens'] = train['tokens'].apply(remove_regex, regex=r'\\[xu]\\w+')\n",
    "\n",
    "stpws = stopwords.words('english')\n",
    "train['tokens'] = train['tokens'].apply(remove_stopwords, stopwords=stpws)"
   ]
  },
  {
   "cell_type": "code",
   "execution_count": 14,
   "id": "3fa5787f-6e49-4ee1-aa01-cf3eaa05dbbd",
   "metadata": {},
   "outputs": [],
   "source": [
    "test['tokens'] = test['text'].apply(lowercase)\n",
    "test['tokens'] = test['tokens'].apply(tokenize, tokenizer='TweetTokenizer')\n",
    "test['tokens'] = test['tokens'].apply(remove_punctuation)\n",
    "test['tokens'] = test['tokens'].apply(remove_regex, regex=r'\\d+')\n",
    "#train['tokens'] = train['tokens'].apply(remove_regex, regex=r'\\[xu]\\w+')\n",
    "\n",
    "#stpws = stopwords.words('english')\n",
    "test['tokens'] = test['tokens'].apply(remove_stopwords, stopwords=stpws)"
   ]
  },
  {
   "cell_type": "code",
   "execution_count": 22,
   "id": "2c7125ff-54d2-4f95-8d30-730d89d64056",
   "metadata": {},
   "outputs": [
    {
     "data": {
      "text/plain": [
       "0    [deeds, reason, #earthquake, may, allah, forgi...\n",
       "1        [forest, fire, near, la, ronge, sask, canada]\n",
       "2    [residents, asked, shelter, place, notified, o...\n",
       "3    [people, receive, #wildfires, evacuation, orde...\n",
       "4    [got, sent, photo, ruby, #alaska, smoke, #wild...\n",
       "Name: tokens, dtype: object"
      ]
     },
     "execution_count": 22,
     "metadata": {},
     "output_type": "execute_result"
    }
   ],
   "source": [
    "train['tokens'].head()"
   ]
  },
  {
   "cell_type": "markdown",
   "id": "7c20e9c0-ee7f-4b5c-b089-4b39f3c41dae",
   "metadata": {},
   "source": [
    "Before converting tokens to vectors, using the TF-IDF vectorizer, we need to rejoin tokens into a single string. "
   ]
  },
  {
   "cell_type": "code",
   "execution_count": 15,
   "id": "dee0e97b-697c-406e-9dc3-94b45dcb0025",
   "metadata": {},
   "outputs": [],
   "source": [
    "train['new_text'] = train['tokens'].apply(lambda token_list: ' '.join(token_list))"
   ]
  },
  {
   "cell_type": "code",
   "execution_count": 16,
   "id": "31e7fcd1-76fc-4e93-a79a-4ab47bd61d19",
   "metadata": {},
   "outputs": [],
   "source": [
    "test['new_text'] = test['tokens'].apply(lambda token_list: ' '.join(token_list))"
   ]
  },
  {
   "cell_type": "code",
   "execution_count": 17,
   "id": "63d869e0-d680-4b46-b6da-dc0e64259443",
   "metadata": {},
   "outputs": [],
   "source": [
    "# Save train file to use in application\n",
    "train.to_csv('processed_train.csv', index=False)"
   ]
  },
  {
   "cell_type": "markdown",
   "id": "bfe141b9-93c9-49d3-8efa-ebd23bbacf4a",
   "metadata": {},
   "source": [
    "### Tf-Idf"
   ]
  },
  {
   "cell_type": "code",
   "execution_count": 42,
   "id": "3ed238b3-7ad7-493c-ac1d-17d6d1f744ba",
   "metadata": {},
   "outputs": [],
   "source": [
    "tfidf_vectorizer = TfidfVectorizer(max_features=10000)\n",
    "train_vectors = tfidf_vectorizer.fit_transform(train[\"new_text\"].iloc[0:])\n",
    "test_vectors = tfidf_vectorizer.transform(test['new_text'].iloc[0:])"
   ]
  },
  {
   "cell_type": "code",
   "execution_count": 43,
   "id": "27abe61e-7454-4d16-8113-523d5c6cf829",
   "metadata": {},
   "outputs": [],
   "source": [
    "# Apply SVD to reduce dimensionality\n",
    "U, s, Vh = linalg.svds(train_vectors.transpose(), k=150)"
   ]
  },
  {
   "cell_type": "markdown",
   "id": "521b3ade-0705-481f-84fa-dd5cf6417233",
   "metadata": {},
   "source": [
    "Using SVD, we reduced the dimensionality of word and document vectors, as seen from the resulting matrices' size. This reduction allows bringing vectors closer in distance and making similarities stand out."
   ]
  },
  {
   "cell_type": "code",
   "execution_count": 44,
   "id": "8c4a541b-ebd7-4212-a62e-8190c905bc63",
   "metadata": {},
   "outputs": [
    {
     "data": {
      "text/plain": [
       "((10000, 150), (150,), (150, 7613))"
      ]
     },
     "execution_count": 44,
     "metadata": {},
     "output_type": "execute_result"
    }
   ],
   "source": [
    "U.shape, s.shape, Vh.shape"
   ]
  },
  {
   "cell_type": "code",
   "execution_count": 45,
   "id": "071539f6-0e3c-42c6-8960-b50f1e7889a6",
   "metadata": {
    "scrolled": true
   },
   "outputs": [],
   "source": [
    "from sklearn.metrics.pairwise import cosine_similarity\n",
    "def similarity(word1, word2, vectorizer, U=U, s=s, Vh=Vh):\n",
    "    \"\"\"\n",
    "    Computes cosine similarity from Singular Value Decomposition\n",
    "    matrices.\n",
    "\n",
    "    Parameters\n",
    "    ----------\n",
    "    word1 : string\n",
    "        First word\n",
    "    \n",
    "    word2 : string\n",
    "        Second word\n",
    "\n",
    "    vectorizer: Transformer\n",
    "        Vectorizer that contains the vocabulary as a dictionary\n",
    "\n",
    "    Returns\n",
    "    ----------\n",
    "        similarity : int\n",
    "    \"\"\"\n",
    "    ind1 = vectorizer.vocabulary_[word1]\n",
    "    ind2 = vectorizer.vocabulary_[word2]\n",
    "\n",
    "    k = U.shape[1]\n",
    "\n",
    "    vec1 = (np.diag(s) @ U[ind1]).reshape((1,k))\n",
    "    vec2 = (np.diag(s) @ U[ind2]).reshape((1,k))\n",
    "\n",
    "    return cosine_similarity(vec1, vec2)[0,0]"
   ]
  },
  {
   "cell_type": "code",
   "execution_count": 46,
   "id": "4b9e28eb-f264-4c26-a3e4-8dd3c76f2cec",
   "metadata": {},
   "outputs": [],
   "source": [
    "similarity_dict = dict()\n",
    "for word in list(tfidf_vectorizer.vocabulary_.keys())[0:]:\n",
    "    similarity_dict[word] = similarity('emergency', word, tfidf_vectorizer)\n",
    "\n",
    "similarity_dict = dict(sorted(similarity_dict.items(), key=lambda item: item[1], reverse=True))"
   ]
  },
  {
   "cell_type": "code",
   "execution_count": 47,
   "id": "3f9008c6-9400-4c3d-bc35-bf985f9bb195",
   "metadata": {},
   "outputs": [
    {
     "data": {
      "text/plain": [
       "[('emergency', 1.0),\n",
       " ('tookitlikeaman', 0.9808246667055006),\n",
       " ('shutdown', 0.9780562919141506),\n",
       " ('surgery', 0.9720473507671216),\n",
       " ('radychildrens', 0.9711985809310402),\n",
       " ('plumbing', 0.9576015146726511),\n",
       " ('medicine', 0.9558678400712878),\n",
       " ('rebeccaforreal', 0.9533177414902475),\n",
       " ('wisconsin', 0.9533177414902475),\n",
       " ('nbc15', 0.9533177414902475),\n",
       " ('pis0aivrbr', 0.9533177414902475),\n",
       " ('printable', 0.9466630784871031),\n",
       " ('naex0q1ax0', 0.9466630784871031),\n",
       " ('odai', 0.944814168761306),\n",
       " ('pjigxpvpl0', 0.944814168761306),\n",
       " ('wipp', 0.9440290212492984),\n",
       " ('procedures', 0.9425149282072287),\n",
       " ('practitioner', 0.9333548352177873),\n",
       " ('recruitment', 0.9333548352177873),\n",
       " ('specialists', 0.9301652564631994),\n",
       " ('presents', 0.929837877789722),\n",
       " ('yennora', 0.9284002494944995),\n",
       " ('unsure', 0.9239560159082909),\n",
       " ('paging', 0.9239560159082909),\n",
       " ('uxqkieqdyf', 0.9239560159082909),\n",
       " ('nueva', 0.9210789432531947),\n",
       " ('newyorkcity', 0.9210186919951724),\n",
       " ('chemical', 0.916749362237427),\n",
       " ('supervisor', 0.9099044008023857),\n",
       " ('reinstate', 0.9093838307605498),\n",
       " ('buffer', 0.9093838307605498),\n",
       " ('protectdenaliwolves', 0.9093838307605498),\n",
       " ('ak', 0.9091582524453449),\n",
       " ('healthcare', 0.9091582524453448),\n",
       " ('ueppjwvlcb', 0.9065333012510511),\n",
       " ('radiation', 0.8985213527189702),\n",
       " ('tjoz4u4txl', 0.8964608390854885),\n",
       " ('kodiak', 0.8942570117945551),\n",
       " ('rdovqauax5', 0.8835911060183423),\n",
       " ('umqbyrupbd', 0.8777809685704105),\n",
       " ('bits', 0.8679908255458145),\n",
       " ('ndgpwyxu6h', 0.865893251503688),\n",
       " ('dental', 0.8584692785614799),\n",
       " ('ntvde', 0.8584285525958575),\n",
       " ('pme0hojvya', 0.8502488558549197),\n",
       " ('plan', 0.846870421783139),\n",
       " ('systems', 0.8410875117510037),\n",
       " ('simulate', 0.8387159908091426),\n",
       " ('nu', 0.8387159908091426),\n",
       " ('activated', 0.8340550261964227),\n",
       " ('operations', 0.8223116217229),\n",
       " ('cruise', 0.8174955801532954),\n",
       " ('hazmat', 0.8156103711296204),\n",
       " ('pqhuthss3i', 0.811426060320326),\n",
       " ('rar', 0.811426060320326),\n",
       " ('oem', 0.8103759457278793),\n",
       " ('y8xknpqmnj', 0.8103759457278793),\n",
       " ('recognised', 0.8096742656817943),\n",
       " ('offsite', 0.8080255160439975),\n",
       " ('providence', 0.8077774070612178),\n",
       " ('vietnamese', 0.8043827913326548),\n",
       " ('repairs', 0.8022033074541388),\n",
       " ('units', 0.7926467682414093),\n",
       " ('committee', 0.7805145172276576),\n",
       " ('krefeld', 0.7778502249976174),\n",
       " ('principles', 0.7759108383119954),\n",
       " ('practices', 0.7759108383119954),\n",
       " ('evanston', 0.7730300973012711),\n",
       " ('pediatric', 0.7729098437151416),\n",
       " ('northwestern', 0.7504713658004407),\n",
       " ('sf', 0.7466951462101427),\n",
       " ('zcvfc500yy', 0.7464416364523961),\n",
       " ('response', 0.7448239635185162),\n",
       " ('preparedness', 0.7431393849315631),\n",
       " ('q9zixci8e6', 0.7411688710209439),\n",
       " ('nurses', 0.73798408761381),\n",
       " ('peacetime', 0.7351415840808634),\n",
       " ('fund', 0.7333531227569761),\n",
       " ('municipal', 0.7301490266439612),\n",
       " ('dependency', 0.7292766109682484),\n",
       " ('counselor', 0.7292766109682484),\n",
       " ('intern', 0.7292766109682484),\n",
       " ('skqpwsnoin', 0.7270385360595681),\n",
       " ('department', 0.7189195194951742),\n",
       " ('activates', 0.7136476080579905),\n",
       " ('ul5xdblmbk', 0.7121441581775952),\n",
       " ('vjhpvlnbaw', 0.7121441581775952),\n",
       " ('sustainability', 0.7105978232571891),\n",
       " ('recommend', 0.7086042513126242),\n",
       " ('olympia', 0.7061702332222105),\n",
       " ('yu6nue7gfb', 0.7061702332222105),\n",
       " ('rd10ex6hvt', 0.7033611546907481),\n",
       " ('object', 0.6963915135502211),\n",
       " ('volunteers', 0.6949091073712155),\n",
       " ('participate', 0.6949091073712155),\n",
       " ('nwv2rvghf3', 0.6949091073712155),\n",
       " ('denali', 0.6945932089310778),\n",
       " ('usar2015', 0.6894203485806701),\n",
       " ('usar15', 0.6894203485806701),\n",
       " ('trained', 0.6828230854575035)]"
      ]
     },
     "execution_count": 47,
     "metadata": {},
     "output_type": "execute_result"
    }
   ],
   "source": [
    "list(similarity_dict.items())[0:100]"
   ]
  },
  {
   "cell_type": "code",
   "execution_count": 68,
   "id": "80202dd3-83fb-4927-8ef6-b644b8c7f40d",
   "metadata": {},
   "outputs": [
    {
     "data": {
      "text/html": [
       "<div>\n",
       "<style scoped>\n",
       "    .dataframe tbody tr th:only-of-type {\n",
       "        vertical-align: middle;\n",
       "    }\n",
       "\n",
       "    .dataframe tbody tr th {\n",
       "        vertical-align: top;\n",
       "    }\n",
       "\n",
       "    .dataframe thead th {\n",
       "        text-align: right;\n",
       "    }\n",
       "</style>\n",
       "<table border=\"1\" class=\"dataframe\">\n",
       "  <thead>\n",
       "    <tr style=\"text-align: right;\">\n",
       "      <th></th>\n",
       "      <th>feature1</th>\n",
       "      <th>feature2</th>\n",
       "      <th>feature3</th>\n",
       "      <th>feature4</th>\n",
       "      <th>feature5</th>\n",
       "      <th>feature6</th>\n",
       "      <th>feature7</th>\n",
       "      <th>feature8</th>\n",
       "      <th>feature9</th>\n",
       "      <th>feature10</th>\n",
       "      <th>...</th>\n",
       "      <th>feature91</th>\n",
       "      <th>feature92</th>\n",
       "      <th>feature93</th>\n",
       "      <th>feature94</th>\n",
       "      <th>feature95</th>\n",
       "      <th>feature96</th>\n",
       "      <th>feature97</th>\n",
       "      <th>feature98</th>\n",
       "      <th>feature99</th>\n",
       "      <th>feature100</th>\n",
       "    </tr>\n",
       "  </thead>\n",
       "  <tbody>\n",
       "    <tr>\n",
       "      <th>0</th>\n",
       "      <td>-0.007857</td>\n",
       "      <td>0.019074</td>\n",
       "      <td>-0.019468</td>\n",
       "      <td>0.010963</td>\n",
       "      <td>0.006087</td>\n",
       "      <td>-0.006449</td>\n",
       "      <td>-0.016292</td>\n",
       "      <td>0.015233</td>\n",
       "      <td>0.003668</td>\n",
       "      <td>-0.006458</td>\n",
       "      <td>...</td>\n",
       "      <td>0.094905</td>\n",
       "      <td>0.021958</td>\n",
       "      <td>-0.009447</td>\n",
       "      <td>0.012319</td>\n",
       "      <td>0.001725</td>\n",
       "      <td>0.000261</td>\n",
       "      <td>-0.016147</td>\n",
       "      <td>0.006599</td>\n",
       "      <td>-0.009180</td>\n",
       "      <td>-0.019513</td>\n",
       "    </tr>\n",
       "    <tr>\n",
       "      <th>1</th>\n",
       "      <td>-0.000772</td>\n",
       "      <td>-0.019701</td>\n",
       "      <td>0.002829</td>\n",
       "      <td>-0.019804</td>\n",
       "      <td>0.033770</td>\n",
       "      <td>-0.011489</td>\n",
       "      <td>0.003246</td>\n",
       "      <td>-0.006070</td>\n",
       "      <td>-0.000416</td>\n",
       "      <td>-0.009382</td>\n",
       "      <td>...</td>\n",
       "      <td>-0.010493</td>\n",
       "      <td>0.007613</td>\n",
       "      <td>-0.045589</td>\n",
       "      <td>0.034208</td>\n",
       "      <td>-0.007889</td>\n",
       "      <td>-0.009318</td>\n",
       "      <td>-0.033412</td>\n",
       "      <td>0.017331</td>\n",
       "      <td>-0.000458</td>\n",
       "      <td>-0.029432</td>\n",
       "    </tr>\n",
       "    <tr>\n",
       "      <th>2</th>\n",
       "      <td>-0.001747</td>\n",
       "      <td>-0.020925</td>\n",
       "      <td>-0.000287</td>\n",
       "      <td>0.000678</td>\n",
       "      <td>0.000813</td>\n",
       "      <td>0.014812</td>\n",
       "      <td>-0.003191</td>\n",
       "      <td>0.008235</td>\n",
       "      <td>-0.022375</td>\n",
       "      <td>-0.014339</td>\n",
       "      <td>...</td>\n",
       "      <td>0.000528</td>\n",
       "      <td>0.000459</td>\n",
       "      <td>-0.004670</td>\n",
       "      <td>0.006248</td>\n",
       "      <td>-0.000374</td>\n",
       "      <td>-0.000043</td>\n",
       "      <td>-0.008206</td>\n",
       "      <td>0.003392</td>\n",
       "      <td>-0.004407</td>\n",
       "      <td>-0.009977</td>\n",
       "    </tr>\n",
       "    <tr>\n",
       "      <th>3</th>\n",
       "      <td>0.002082</td>\n",
       "      <td>-0.019941</td>\n",
       "      <td>-0.005219</td>\n",
       "      <td>0.022490</td>\n",
       "      <td>0.000888</td>\n",
       "      <td>-0.025570</td>\n",
       "      <td>-0.036403</td>\n",
       "      <td>0.036307</td>\n",
       "      <td>-0.015787</td>\n",
       "      <td>-0.027242</td>\n",
       "      <td>...</td>\n",
       "      <td>-0.019332</td>\n",
       "      <td>-0.036883</td>\n",
       "      <td>-0.122780</td>\n",
       "      <td>0.029775</td>\n",
       "      <td>0.028888</td>\n",
       "      <td>-0.008390</td>\n",
       "      <td>-0.022886</td>\n",
       "      <td>-0.048513</td>\n",
       "      <td>-0.019710</td>\n",
       "      <td>-0.038887</td>\n",
       "    </tr>\n",
       "    <tr>\n",
       "      <th>4</th>\n",
       "      <td>0.006498</td>\n",
       "      <td>0.015122</td>\n",
       "      <td>0.023498</td>\n",
       "      <td>-0.015039</td>\n",
       "      <td>0.022063</td>\n",
       "      <td>-0.011672</td>\n",
       "      <td>-0.088181</td>\n",
       "      <td>-0.014385</td>\n",
       "      <td>-0.012388</td>\n",
       "      <td>-0.020297</td>\n",
       "      <td>...</td>\n",
       "      <td>0.001226</td>\n",
       "      <td>-0.005668</td>\n",
       "      <td>-0.024199</td>\n",
       "      <td>0.013808</td>\n",
       "      <td>0.000686</td>\n",
       "      <td>0.008784</td>\n",
       "      <td>-0.030489</td>\n",
       "      <td>0.017101</td>\n",
       "      <td>-0.012249</td>\n",
       "      <td>-0.017056</td>\n",
       "    </tr>\n",
       "  </tbody>\n",
       "</table>\n",
       "<p>5 rows × 100 columns</p>\n",
       "</div>"
      ],
      "text/plain": [
       "   feature1  feature2  feature3  feature4  feature5  feature6  feature7  \\\n",
       "0 -0.007857  0.019074 -0.019468  0.010963  0.006087 -0.006449 -0.016292   \n",
       "1 -0.000772 -0.019701  0.002829 -0.019804  0.033770 -0.011489  0.003246   \n",
       "2 -0.001747 -0.020925 -0.000287  0.000678  0.000813  0.014812 -0.003191   \n",
       "3  0.002082 -0.019941 -0.005219  0.022490  0.000888 -0.025570 -0.036403   \n",
       "4  0.006498  0.015122  0.023498 -0.015039  0.022063 -0.011672 -0.088181   \n",
       "\n",
       "   feature8  feature9  feature10  ...  feature91  feature92  feature93  \\\n",
       "0  0.015233  0.003668  -0.006458  ...   0.094905   0.021958  -0.009447   \n",
       "1 -0.006070 -0.000416  -0.009382  ...  -0.010493   0.007613  -0.045589   \n",
       "2  0.008235 -0.022375  -0.014339  ...   0.000528   0.000459  -0.004670   \n",
       "3  0.036307 -0.015787  -0.027242  ...  -0.019332  -0.036883  -0.122780   \n",
       "4 -0.014385 -0.012388  -0.020297  ...   0.001226  -0.005668  -0.024199   \n",
       "\n",
       "   feature94  feature95  feature96  feature97  feature98  feature99  \\\n",
       "0   0.012319   0.001725   0.000261  -0.016147   0.006599  -0.009180   \n",
       "1   0.034208  -0.007889  -0.009318  -0.033412   0.017331  -0.000458   \n",
       "2   0.006248  -0.000374  -0.000043  -0.008206   0.003392  -0.004407   \n",
       "3   0.029775   0.028888  -0.008390  -0.022886  -0.048513  -0.019710   \n",
       "4   0.013808   0.000686   0.008784  -0.030489   0.017101  -0.012249   \n",
       "\n",
       "   feature100  \n",
       "0   -0.019513  \n",
       "1   -0.029432  \n",
       "2   -0.009977  \n",
       "3   -0.038887  \n",
       "4   -0.017056  \n",
       "\n",
       "[5 rows x 100 columns]"
      ]
     },
     "execution_count": 68,
     "metadata": {},
     "output_type": "execute_result"
    }
   ],
   "source": [
    "# we can use the matrix Vh to create the new features\n",
    "features = (np.diag(s) @ Vh).T\n",
    "columns = [f\"feature{i}\" for i in range(1,101)]\n",
    "new_features = pd.DataFrame(data=features, columns=columns)\n",
    "new_features.head()"
   ]
  },
  {
   "cell_type": "code",
   "execution_count": 69,
   "id": "1d0e8e73-da48-4804-a8b7-e1ec2361270c",
   "metadata": {
    "scrolled": true
   },
   "outputs": [
    {
     "data": {
      "text/html": [
       "<div>\n",
       "<style scoped>\n",
       "    .dataframe tbody tr th:only-of-type {\n",
       "        vertical-align: middle;\n",
       "    }\n",
       "\n",
       "    .dataframe tbody tr th {\n",
       "        vertical-align: top;\n",
       "    }\n",
       "\n",
       "    .dataframe thead th {\n",
       "        text-align: right;\n",
       "    }\n",
       "</style>\n",
       "<table border=\"1\" class=\"dataframe\">\n",
       "  <thead>\n",
       "    <tr style=\"text-align: right;\">\n",
       "      <th></th>\n",
       "      <th>id</th>\n",
       "      <th>keyword</th>\n",
       "      <th>location</th>\n",
       "      <th>text</th>\n",
       "      <th>target</th>\n",
       "      <th>keyword_target_enc</th>\n",
       "      <th>number_of_mentions</th>\n",
       "      <th>number_of_hashtags</th>\n",
       "      <th>number_of_urls</th>\n",
       "      <th>token_count</th>\n",
       "      <th>...</th>\n",
       "      <th>feature91</th>\n",
       "      <th>feature92</th>\n",
       "      <th>feature93</th>\n",
       "      <th>feature94</th>\n",
       "      <th>feature95</th>\n",
       "      <th>feature96</th>\n",
       "      <th>feature97</th>\n",
       "      <th>feature98</th>\n",
       "      <th>feature99</th>\n",
       "      <th>feature100</th>\n",
       "    </tr>\n",
       "  </thead>\n",
       "  <tbody>\n",
       "    <tr>\n",
       "      <th>0</th>\n",
       "      <td>1</td>\n",
       "      <td>Unknown</td>\n",
       "      <td>NaN</td>\n",
       "      <td>Our Deeds are the Reason of this #earthquake M...</td>\n",
       "      <td>1</td>\n",
       "      <td>0.646721</td>\n",
       "      <td>0</td>\n",
       "      <td>1</td>\n",
       "      <td>0</td>\n",
       "      <td>13</td>\n",
       "      <td>...</td>\n",
       "      <td>0.094905</td>\n",
       "      <td>0.021958</td>\n",
       "      <td>-0.009447</td>\n",
       "      <td>0.012319</td>\n",
       "      <td>0.001725</td>\n",
       "      <td>0.000261</td>\n",
       "      <td>-0.016147</td>\n",
       "      <td>0.006599</td>\n",
       "      <td>-0.009180</td>\n",
       "      <td>-0.019513</td>\n",
       "    </tr>\n",
       "    <tr>\n",
       "      <th>1</th>\n",
       "      <td>4</td>\n",
       "      <td>Unknown</td>\n",
       "      <td>NaN</td>\n",
       "      <td>Forest fire near La Ronge Sask. Canada</td>\n",
       "      <td>1</td>\n",
       "      <td>0.646721</td>\n",
       "      <td>0</td>\n",
       "      <td>0</td>\n",
       "      <td>0</td>\n",
       "      <td>7</td>\n",
       "      <td>...</td>\n",
       "      <td>-0.010493</td>\n",
       "      <td>0.007613</td>\n",
       "      <td>-0.045589</td>\n",
       "      <td>0.034208</td>\n",
       "      <td>-0.007889</td>\n",
       "      <td>-0.009318</td>\n",
       "      <td>-0.033412</td>\n",
       "      <td>0.017331</td>\n",
       "      <td>-0.000458</td>\n",
       "      <td>-0.029432</td>\n",
       "    </tr>\n",
       "    <tr>\n",
       "      <th>2</th>\n",
       "      <td>5</td>\n",
       "      <td>Unknown</td>\n",
       "      <td>NaN</td>\n",
       "      <td>All residents asked to 'shelter in place' are ...</td>\n",
       "      <td>1</td>\n",
       "      <td>0.653953</td>\n",
       "      <td>0</td>\n",
       "      <td>0</td>\n",
       "      <td>0</td>\n",
       "      <td>22</td>\n",
       "      <td>...</td>\n",
       "      <td>0.000528</td>\n",
       "      <td>0.000459</td>\n",
       "      <td>-0.004670</td>\n",
       "      <td>0.006248</td>\n",
       "      <td>-0.000374</td>\n",
       "      <td>-0.000043</td>\n",
       "      <td>-0.008206</td>\n",
       "      <td>0.003392</td>\n",
       "      <td>-0.004407</td>\n",
       "      <td>-0.009977</td>\n",
       "    </tr>\n",
       "    <tr>\n",
       "      <th>3</th>\n",
       "      <td>6</td>\n",
       "      <td>Unknown</td>\n",
       "      <td>NaN</td>\n",
       "      <td>13,000 people receive #wildfires evacuation or...</td>\n",
       "      <td>1</td>\n",
       "      <td>0.663654</td>\n",
       "      <td>0</td>\n",
       "      <td>1</td>\n",
       "      <td>0</td>\n",
       "      <td>8</td>\n",
       "      <td>...</td>\n",
       "      <td>-0.019332</td>\n",
       "      <td>-0.036883</td>\n",
       "      <td>-0.122780</td>\n",
       "      <td>0.029775</td>\n",
       "      <td>0.028888</td>\n",
       "      <td>-0.008390</td>\n",
       "      <td>-0.022886</td>\n",
       "      <td>-0.048513</td>\n",
       "      <td>-0.019710</td>\n",
       "      <td>-0.038887</td>\n",
       "    </tr>\n",
       "    <tr>\n",
       "      <th>4</th>\n",
       "      <td>7</td>\n",
       "      <td>Unknown</td>\n",
       "      <td>NaN</td>\n",
       "      <td>Just got sent this photo from Ruby #Alaska as ...</td>\n",
       "      <td>1</td>\n",
       "      <td>0.646721</td>\n",
       "      <td>0</td>\n",
       "      <td>2</td>\n",
       "      <td>0</td>\n",
       "      <td>16</td>\n",
       "      <td>...</td>\n",
       "      <td>0.001226</td>\n",
       "      <td>-0.005668</td>\n",
       "      <td>-0.024199</td>\n",
       "      <td>0.013808</td>\n",
       "      <td>0.000686</td>\n",
       "      <td>0.008784</td>\n",
       "      <td>-0.030489</td>\n",
       "      <td>0.017101</td>\n",
       "      <td>-0.012249</td>\n",
       "      <td>-0.017056</td>\n",
       "    </tr>\n",
       "    <tr>\n",
       "      <th>...</th>\n",
       "      <td>...</td>\n",
       "      <td>...</td>\n",
       "      <td>...</td>\n",
       "      <td>...</td>\n",
       "      <td>...</td>\n",
       "      <td>...</td>\n",
       "      <td>...</td>\n",
       "      <td>...</td>\n",
       "      <td>...</td>\n",
       "      <td>...</td>\n",
       "      <td>...</td>\n",
       "      <td>...</td>\n",
       "      <td>...</td>\n",
       "      <td>...</td>\n",
       "      <td>...</td>\n",
       "      <td>...</td>\n",
       "      <td>...</td>\n",
       "      <td>...</td>\n",
       "      <td>...</td>\n",
       "      <td>...</td>\n",
       "      <td>...</td>\n",
       "    </tr>\n",
       "    <tr>\n",
       "      <th>7608</th>\n",
       "      <td>10869</td>\n",
       "      <td>Unknown</td>\n",
       "      <td>NaN</td>\n",
       "      <td>Two giant cranes holding a bridge collapse int...</td>\n",
       "      <td>1</td>\n",
       "      <td>0.667775</td>\n",
       "      <td>0</td>\n",
       "      <td>0</td>\n",
       "      <td>1</td>\n",
       "      <td>11</td>\n",
       "      <td>...</td>\n",
       "      <td>-0.008333</td>\n",
       "      <td>-0.032056</td>\n",
       "      <td>-0.138887</td>\n",
       "      <td>0.007951</td>\n",
       "      <td>0.050800</td>\n",
       "      <td>-0.052218</td>\n",
       "      <td>0.015994</td>\n",
       "      <td>-0.077344</td>\n",
       "      <td>-0.015289</td>\n",
       "      <td>-0.147797</td>\n",
       "    </tr>\n",
       "    <tr>\n",
       "      <th>7609</th>\n",
       "      <td>10870</td>\n",
       "      <td>Unknown</td>\n",
       "      <td>NaN</td>\n",
       "      <td>@aria_ahrary @TheTawniest The out of control w...</td>\n",
       "      <td>1</td>\n",
       "      <td>0.646721</td>\n",
       "      <td>2</td>\n",
       "      <td>0</td>\n",
       "      <td>0</td>\n",
       "      <td>20</td>\n",
       "      <td>...</td>\n",
       "      <td>-0.031826</td>\n",
       "      <td>-0.058979</td>\n",
       "      <td>-0.175417</td>\n",
       "      <td>0.027731</td>\n",
       "      <td>0.033443</td>\n",
       "      <td>-0.009288</td>\n",
       "      <td>-0.042546</td>\n",
       "      <td>-0.118171</td>\n",
       "      <td>-0.025632</td>\n",
       "      <td>-0.044653</td>\n",
       "    </tr>\n",
       "    <tr>\n",
       "      <th>7610</th>\n",
       "      <td>10871</td>\n",
       "      <td>Unknown</td>\n",
       "      <td>NaN</td>\n",
       "      <td>M1.94 [01:04 UTC]?5km S of Volcano Hawaii. htt...</td>\n",
       "      <td>1</td>\n",
       "      <td>0.653953</td>\n",
       "      <td>0</td>\n",
       "      <td>0</td>\n",
       "      <td>1</td>\n",
       "      <td>8</td>\n",
       "      <td>...</td>\n",
       "      <td>-0.000566</td>\n",
       "      <td>0.011616</td>\n",
       "      <td>0.011478</td>\n",
       "      <td>-0.006391</td>\n",
       "      <td>0.007696</td>\n",
       "      <td>-0.023012</td>\n",
       "      <td>0.021759</td>\n",
       "      <td>-0.009675</td>\n",
       "      <td>-0.005582</td>\n",
       "      <td>-0.137165</td>\n",
       "    </tr>\n",
       "    <tr>\n",
       "      <th>7611</th>\n",
       "      <td>10872</td>\n",
       "      <td>Unknown</td>\n",
       "      <td>NaN</td>\n",
       "      <td>Police investigating after an e-bike collided ...</td>\n",
       "      <td>1</td>\n",
       "      <td>0.653953</td>\n",
       "      <td>0</td>\n",
       "      <td>0</td>\n",
       "      <td>0</td>\n",
       "      <td>19</td>\n",
       "      <td>...</td>\n",
       "      <td>-0.005297</td>\n",
       "      <td>0.006480</td>\n",
       "      <td>-0.010814</td>\n",
       "      <td>0.018645</td>\n",
       "      <td>-0.001657</td>\n",
       "      <td>0.010178</td>\n",
       "      <td>-0.025968</td>\n",
       "      <td>0.020328</td>\n",
       "      <td>-0.011447</td>\n",
       "      <td>-0.021562</td>\n",
       "    </tr>\n",
       "    <tr>\n",
       "      <th>7612</th>\n",
       "      <td>10873</td>\n",
       "      <td>Unknown</td>\n",
       "      <td>NaN</td>\n",
       "      <td>The Latest: More Homes Razed by Northern Calif...</td>\n",
       "      <td>1</td>\n",
       "      <td>0.663654</td>\n",
       "      <td>0</td>\n",
       "      <td>0</td>\n",
       "      <td>1</td>\n",
       "      <td>13</td>\n",
       "      <td>...</td>\n",
       "      <td>-0.045527</td>\n",
       "      <td>-0.192768</td>\n",
       "      <td>-0.593233</td>\n",
       "      <td>0.020417</td>\n",
       "      <td>0.156881</td>\n",
       "      <td>-0.128745</td>\n",
       "      <td>0.026065</td>\n",
       "      <td>-0.409252</td>\n",
       "      <td>-0.040075</td>\n",
       "      <td>-0.215265</td>\n",
       "    </tr>\n",
       "  </tbody>\n",
       "</table>\n",
       "<p>7613 rows × 115 columns</p>\n",
       "</div>"
      ],
      "text/plain": [
       "         id  keyword location  \\\n",
       "0         1  Unknown      NaN   \n",
       "1         4  Unknown      NaN   \n",
       "2         5  Unknown      NaN   \n",
       "3         6  Unknown      NaN   \n",
       "4         7  Unknown      NaN   \n",
       "...     ...      ...      ...   \n",
       "7608  10869  Unknown      NaN   \n",
       "7609  10870  Unknown      NaN   \n",
       "7610  10871  Unknown      NaN   \n",
       "7611  10872  Unknown      NaN   \n",
       "7612  10873  Unknown      NaN   \n",
       "\n",
       "                                                   text  target  \\\n",
       "0     Our Deeds are the Reason of this #earthquake M...       1   \n",
       "1                Forest fire near La Ronge Sask. Canada       1   \n",
       "2     All residents asked to 'shelter in place' are ...       1   \n",
       "3     13,000 people receive #wildfires evacuation or...       1   \n",
       "4     Just got sent this photo from Ruby #Alaska as ...       1   \n",
       "...                                                 ...     ...   \n",
       "7608  Two giant cranes holding a bridge collapse int...       1   \n",
       "7609  @aria_ahrary @TheTawniest The out of control w...       1   \n",
       "7610  M1.94 [01:04 UTC]?5km S of Volcano Hawaii. htt...       1   \n",
       "7611  Police investigating after an e-bike collided ...       1   \n",
       "7612  The Latest: More Homes Razed by Northern Calif...       1   \n",
       "\n",
       "      keyword_target_enc  number_of_mentions  number_of_hashtags  \\\n",
       "0               0.646721                   0                   1   \n",
       "1               0.646721                   0                   0   \n",
       "2               0.653953                   0                   0   \n",
       "3               0.663654                   0                   1   \n",
       "4               0.646721                   0                   2   \n",
       "...                  ...                 ...                 ...   \n",
       "7608            0.667775                   0                   0   \n",
       "7609            0.646721                   2                   0   \n",
       "7610            0.653953                   0                   0   \n",
       "7611            0.653953                   0                   0   \n",
       "7612            0.663654                   0                   0   \n",
       "\n",
       "      number_of_urls  token_count  ...  feature91  feature92  feature93  \\\n",
       "0                  0           13  ...   0.094905   0.021958  -0.009447   \n",
       "1                  0            7  ...  -0.010493   0.007613  -0.045589   \n",
       "2                  0           22  ...   0.000528   0.000459  -0.004670   \n",
       "3                  0            8  ...  -0.019332  -0.036883  -0.122780   \n",
       "4                  0           16  ...   0.001226  -0.005668  -0.024199   \n",
       "...              ...          ...  ...        ...        ...        ...   \n",
       "7608               1           11  ...  -0.008333  -0.032056  -0.138887   \n",
       "7609               0           20  ...  -0.031826  -0.058979  -0.175417   \n",
       "7610               1            8  ...  -0.000566   0.011616   0.011478   \n",
       "7611               0           19  ...  -0.005297   0.006480  -0.010814   \n",
       "7612               1           13  ...  -0.045527  -0.192768  -0.593233   \n",
       "\n",
       "     feature94 feature95  feature96  feature97  feature98  feature99  \\\n",
       "0     0.012319  0.001725   0.000261  -0.016147   0.006599  -0.009180   \n",
       "1     0.034208 -0.007889  -0.009318  -0.033412   0.017331  -0.000458   \n",
       "2     0.006248 -0.000374  -0.000043  -0.008206   0.003392  -0.004407   \n",
       "3     0.029775  0.028888  -0.008390  -0.022886  -0.048513  -0.019710   \n",
       "4     0.013808  0.000686   0.008784  -0.030489   0.017101  -0.012249   \n",
       "...        ...       ...        ...        ...        ...        ...   \n",
       "7608  0.007951  0.050800  -0.052218   0.015994  -0.077344  -0.015289   \n",
       "7609  0.027731  0.033443  -0.009288  -0.042546  -0.118171  -0.025632   \n",
       "7610 -0.006391  0.007696  -0.023012   0.021759  -0.009675  -0.005582   \n",
       "7611  0.018645 -0.001657   0.010178  -0.025968   0.020328  -0.011447   \n",
       "7612  0.020417  0.156881  -0.128745   0.026065  -0.409252  -0.040075   \n",
       "\n",
       "      feature100  \n",
       "0      -0.019513  \n",
       "1      -0.029432  \n",
       "2      -0.009977  \n",
       "3      -0.038887  \n",
       "4      -0.017056  \n",
       "...          ...  \n",
       "7608   -0.147797  \n",
       "7609   -0.044653  \n",
       "7610   -0.137165  \n",
       "7611   -0.021562  \n",
       "7612   -0.215265  \n",
       "\n",
       "[7613 rows x 115 columns]"
      ]
     },
     "execution_count": 69,
     "metadata": {},
     "output_type": "execute_result"
    }
   ],
   "source": [
    "# we now join this new dataframe with our old df\n",
    "train_ = pd.concat([train, new_features], axis=1)\n",
    "train_"
   ]
  },
  {
   "cell_type": "code",
   "execution_count": 70,
   "id": "51235859-f568-403d-bb72-1c89ad1e5659",
   "metadata": {},
   "outputs": [
    {
     "data": {
      "text/plain": [
       "(7613, 115)"
      ]
     },
     "execution_count": 70,
     "metadata": {},
     "output_type": "execute_result"
    }
   ],
   "source": [
    "# remove nan values\n",
    "train_ = train_.dropna(axis=0, subset=['keyword'])\n",
    "train_.shape"
   ]
  },
  {
   "cell_type": "code",
   "execution_count": 71,
   "id": "e3eeccd3-bc0b-427a-8976-f0617da7be9c",
   "metadata": {},
   "outputs": [],
   "source": [
    "feature_cols = list(train_.columns)\n",
    "remove = ['id', 'keyword', 'location', 'text', 'target', 'tokens', 'new_text']\n",
    "feature_cols = [col for col in feature_cols if col not in remove]"
   ]
  },
  {
   "cell_type": "markdown",
   "id": "cc50d63d-aec6-4266-9949-890f54389c26",
   "metadata": {},
   "source": [
    "## Model training"
   ]
  },
  {
   "cell_type": "code",
   "execution_count": 18,
   "id": "3b832a17-8a88-4cec-a559-0b7effe6fa72",
   "metadata": {},
   "outputs": [],
   "source": [
    "from sklearn.model_selection import train_test_split, cross_val_score, GridSearchCV\n",
    "from sklearn.ensemble import RandomForestClassifier, AdaBoostClassifier, GradientBoostingClassifier\n",
    "from sklearn.linear_model import LogisticRegression\n",
    "from sklearn.naive_bayes import ComplementNB, MultinomialNB, GaussianNB\n",
    "from sklearn.preprocessing import RobustScaler, StandardScaler"
   ]
  },
  {
   "cell_type": "code",
   "execution_count": 74,
   "id": "f96a5132-7e2b-486b-8c45-b55495652d9c",
   "metadata": {},
   "outputs": [],
   "source": [
    "# define train data\n",
    "X_train = train_[feature_cols].values\n",
    "# Scale data to apply logistic regression\n",
    "scaler = RobustScaler()\n",
    "X_train_scaled = scaler.fit_transform(X_train)\n",
    "y_train = train_['target'].values"
   ]
  },
  {
   "cell_type": "code",
   "execution_count": 202,
   "id": "35dc77c3-3121-485b-b751-602667d8b830",
   "metadata": {},
   "outputs": [
    {
     "data": {
      "text/plain": [
       "(7613, 108)"
      ]
     },
     "execution_count": 202,
     "metadata": {},
     "output_type": "execute_result"
    }
   ],
   "source": [
    "X_train_scaled.shape"
   ]
  },
  {
   "cell_type": "markdown",
   "id": "f3664469-89d1-455a-b0f9-b39262d291f7",
   "metadata": {},
   "source": [
    "### Random Forest Classifier"
   ]
  },
  {
   "cell_type": "code",
   "execution_count": 75,
   "id": "c37cc151-88fb-4140-8e53-e6d81b36de68",
   "metadata": {},
   "outputs": [],
   "source": [
    "# Train a random forest model\n",
    "rfc = RandomForestClassifier()\n",
    "\n",
    "parameters = {'n_estimators':[115, 120, 125, 130], 'criterion':['entropy']}\n",
    "\n",
    "clf = GridSearchCV(rfc, parameters, scoring=['accuracy', 'f1'], refit='f1')"
   ]
  },
  {
   "cell_type": "code",
   "execution_count": 76,
   "id": "70109f11-abdc-4079-bf9c-e6a54e61713c",
   "metadata": {},
   "outputs": [
    {
     "data": {
      "text/html": [
       "<style>#sk-container-id-1 {color: black;}#sk-container-id-1 pre{padding: 0;}#sk-container-id-1 div.sk-toggleable {background-color: white;}#sk-container-id-1 label.sk-toggleable__label {cursor: pointer;display: block;width: 100%;margin-bottom: 0;padding: 0.3em;box-sizing: border-box;text-align: center;}#sk-container-id-1 label.sk-toggleable__label-arrow:before {content: \"▸\";float: left;margin-right: 0.25em;color: #696969;}#sk-container-id-1 label.sk-toggleable__label-arrow:hover:before {color: black;}#sk-container-id-1 div.sk-estimator:hover label.sk-toggleable__label-arrow:before {color: black;}#sk-container-id-1 div.sk-toggleable__content {max-height: 0;max-width: 0;overflow: hidden;text-align: left;background-color: #f0f8ff;}#sk-container-id-1 div.sk-toggleable__content pre {margin: 0.2em;color: black;border-radius: 0.25em;background-color: #f0f8ff;}#sk-container-id-1 input.sk-toggleable__control:checked~div.sk-toggleable__content {max-height: 200px;max-width: 100%;overflow: auto;}#sk-container-id-1 input.sk-toggleable__control:checked~label.sk-toggleable__label-arrow:before {content: \"▾\";}#sk-container-id-1 div.sk-estimator input.sk-toggleable__control:checked~label.sk-toggleable__label {background-color: #d4ebff;}#sk-container-id-1 div.sk-label input.sk-toggleable__control:checked~label.sk-toggleable__label {background-color: #d4ebff;}#sk-container-id-1 input.sk-hidden--visually {border: 0;clip: rect(1px 1px 1px 1px);clip: rect(1px, 1px, 1px, 1px);height: 1px;margin: -1px;overflow: hidden;padding: 0;position: absolute;width: 1px;}#sk-container-id-1 div.sk-estimator {font-family: monospace;background-color: #f0f8ff;border: 1px dotted black;border-radius: 0.25em;box-sizing: border-box;margin-bottom: 0.5em;}#sk-container-id-1 div.sk-estimator:hover {background-color: #d4ebff;}#sk-container-id-1 div.sk-parallel-item::after {content: \"\";width: 100%;border-bottom: 1px solid gray;flex-grow: 1;}#sk-container-id-1 div.sk-label:hover label.sk-toggleable__label {background-color: #d4ebff;}#sk-container-id-1 div.sk-serial::before {content: \"\";position: absolute;border-left: 1px solid gray;box-sizing: border-box;top: 0;bottom: 0;left: 50%;z-index: 0;}#sk-container-id-1 div.sk-serial {display: flex;flex-direction: column;align-items: center;background-color: white;padding-right: 0.2em;padding-left: 0.2em;position: relative;}#sk-container-id-1 div.sk-item {position: relative;z-index: 1;}#sk-container-id-1 div.sk-parallel {display: flex;align-items: stretch;justify-content: center;background-color: white;position: relative;}#sk-container-id-1 div.sk-item::before, #sk-container-id-1 div.sk-parallel-item::before {content: \"\";position: absolute;border-left: 1px solid gray;box-sizing: border-box;top: 0;bottom: 0;left: 50%;z-index: -1;}#sk-container-id-1 div.sk-parallel-item {display: flex;flex-direction: column;z-index: 1;position: relative;background-color: white;}#sk-container-id-1 div.sk-parallel-item:first-child::after {align-self: flex-end;width: 50%;}#sk-container-id-1 div.sk-parallel-item:last-child::after {align-self: flex-start;width: 50%;}#sk-container-id-1 div.sk-parallel-item:only-child::after {width: 0;}#sk-container-id-1 div.sk-dashed-wrapped {border: 1px dashed gray;margin: 0 0.4em 0.5em 0.4em;box-sizing: border-box;padding-bottom: 0.4em;background-color: white;}#sk-container-id-1 div.sk-label label {font-family: monospace;font-weight: bold;display: inline-block;line-height: 1.2em;}#sk-container-id-1 div.sk-label-container {text-align: center;}#sk-container-id-1 div.sk-container {/* jupyter's `normalize.less` sets `[hidden] { display: none; }` but bootstrap.min.css set `[hidden] { display: none !important; }` so we also need the `!important` here to be able to override the default hidden behavior on the sphinx rendered scikit-learn.org. See: https://github.com/scikit-learn/scikit-learn/issues/21755 */display: inline-block !important;position: relative;}#sk-container-id-1 div.sk-text-repr-fallback {display: none;}</style><div id=\"sk-container-id-1\" class=\"sk-top-container\"><div class=\"sk-text-repr-fallback\"><pre>GridSearchCV(estimator=RandomForestClassifier(),\n",
       "             param_grid={&#x27;criterion&#x27;: [&#x27;entropy&#x27;],\n",
       "                         &#x27;n_estimators&#x27;: [115, 120, 125, 130]},\n",
       "             refit=&#x27;f1&#x27;, scoring=[&#x27;accuracy&#x27;, &#x27;f1&#x27;])</pre><b>In a Jupyter environment, please rerun this cell to show the HTML representation or trust the notebook. <br />On GitHub, the HTML representation is unable to render, please try loading this page with nbviewer.org.</b></div><div class=\"sk-container\" hidden><div class=\"sk-item sk-dashed-wrapped\"><div class=\"sk-label-container\"><div class=\"sk-label sk-toggleable\"><input class=\"sk-toggleable__control sk-hidden--visually\" id=\"sk-estimator-id-1\" type=\"checkbox\" ><label for=\"sk-estimator-id-1\" class=\"sk-toggleable__label sk-toggleable__label-arrow\">GridSearchCV</label><div class=\"sk-toggleable__content\"><pre>GridSearchCV(estimator=RandomForestClassifier(),\n",
       "             param_grid={&#x27;criterion&#x27;: [&#x27;entropy&#x27;],\n",
       "                         &#x27;n_estimators&#x27;: [115, 120, 125, 130]},\n",
       "             refit=&#x27;f1&#x27;, scoring=[&#x27;accuracy&#x27;, &#x27;f1&#x27;])</pre></div></div></div><div class=\"sk-parallel\"><div class=\"sk-parallel-item\"><div class=\"sk-item\"><div class=\"sk-label-container\"><div class=\"sk-label sk-toggleable\"><input class=\"sk-toggleable__control sk-hidden--visually\" id=\"sk-estimator-id-2\" type=\"checkbox\" ><label for=\"sk-estimator-id-2\" class=\"sk-toggleable__label sk-toggleable__label-arrow\">estimator: RandomForestClassifier</label><div class=\"sk-toggleable__content\"><pre>RandomForestClassifier()</pre></div></div></div><div class=\"sk-serial\"><div class=\"sk-item\"><div class=\"sk-estimator sk-toggleable\"><input class=\"sk-toggleable__control sk-hidden--visually\" id=\"sk-estimator-id-3\" type=\"checkbox\" ><label for=\"sk-estimator-id-3\" class=\"sk-toggleable__label sk-toggleable__label-arrow\">RandomForestClassifier</label><div class=\"sk-toggleable__content\"><pre>RandomForestClassifier()</pre></div></div></div></div></div></div></div></div></div></div>"
      ],
      "text/plain": [
       "GridSearchCV(estimator=RandomForestClassifier(),\n",
       "             param_grid={'criterion': ['entropy'],\n",
       "                         'n_estimators': [115, 120, 125, 130]},\n",
       "             refit='f1', scoring=['accuracy', 'f1'])"
      ]
     },
     "execution_count": 76,
     "metadata": {},
     "output_type": "execute_result"
    }
   ],
   "source": [
    "clf.fit(X_train, y_train)"
   ]
  },
  {
   "cell_type": "code",
   "execution_count": 77,
   "id": "3c2a5a44-0959-494d-9183-5693cf036333",
   "metadata": {},
   "outputs": [
    {
     "data": {
      "text/plain": [
       "{'criterion': 'entropy', 'n_estimators': 130}"
      ]
     },
     "execution_count": 77,
     "metadata": {},
     "output_type": "execute_result"
    }
   ],
   "source": [
    "clf.best_params_"
   ]
  },
  {
   "cell_type": "code",
   "execution_count": 78,
   "id": "4621bfec-1fd3-452d-ab73-2572b9d21728",
   "metadata": {},
   "outputs": [
    {
     "data": {
      "text/plain": [
       "{'mean_fit_time': array([34.83087363, 31.23627028, 31.57824516, 36.93235593]),\n",
       " 'std_fit_time': array([4.82050208, 6.50915146, 5.13887098, 6.83834694]),\n",
       " 'mean_score_time': array([0.24518499, 0.0863297 , 0.09268179, 0.09948883]),\n",
       " 'std_score_time': array([0.3134442 , 0.000559  , 0.00291199, 0.00802391]),\n",
       " 'param_criterion': masked_array(data=['entropy', 'entropy', 'entropy', 'entropy'],\n",
       "              mask=[False, False, False, False],\n",
       "        fill_value='?',\n",
       "             dtype=object),\n",
       " 'param_n_estimators': masked_array(data=[115, 120, 125, 130],\n",
       "              mask=[False, False, False, False],\n",
       "        fill_value='?',\n",
       "             dtype=object),\n",
       " 'params': [{'criterion': 'entropy', 'n_estimators': 115},\n",
       "  {'criterion': 'entropy', 'n_estimators': 120},\n",
       "  {'criterion': 'entropy', 'n_estimators': 125},\n",
       "  {'criterion': 'entropy', 'n_estimators': 130}],\n",
       " 'split0_test_accuracy': array([0.74064347, 0.74523966, 0.73276428, 0.75114905]),\n",
       " 'split1_test_accuracy': array([0.71897571, 0.72685489, 0.73407748, 0.7235719 ]),\n",
       " 'split2_test_accuracy': array([0.71503611, 0.71175312, 0.71109652, 0.7202889 ]),\n",
       " 'split3_test_accuracy': array([0.73193167, 0.73455979, 0.73455979, 0.72996058]),\n",
       " 'split4_test_accuracy': array([0.80289093, 0.80026281, 0.8022339 , 0.80486202]),\n",
       " 'mean_test_accuracy': array([0.74189558, 0.74373405, 0.74294639, 0.74596649]),\n",
       " 'std_test_accuracy': array([0.03183719, 0.03029726, 0.03092601, 0.03134514]),\n",
       " 'rank_test_accuracy': array([4, 2, 3, 1], dtype=int32),\n",
       " 'split0_test_f1': array([0.66036113, 0.65905097, 0.65361702, 0.66783523]),\n",
       " 'split1_test_f1': array([0.63790186, 0.6432247 , 0.65994962, 0.64769874]),\n",
       " 'split2_test_f1': array([0.67466267, 0.66462949, 0.6656535 , 0.67530488]),\n",
       " 'split3_test_f1': array([0.66936791, 0.67207792, 0.67524116, 0.66339066]),\n",
       " 'split4_test_f1': array([0.76190476, 0.75834658, 0.76167854, 0.76372315]),\n",
       " 'mean_test_f1': array([0.68083967, 0.67946593, 0.68322797, 0.68359053]),\n",
       " 'std_test_f1': array([0.04243662, 0.04056367, 0.03986435, 0.04107158]),\n",
       " 'rank_test_f1': array([3, 4, 2, 1], dtype=int32)}"
      ]
     },
     "execution_count": 78,
     "metadata": {},
     "output_type": "execute_result"
    }
   ],
   "source": [
    "clf.cv_results_"
   ]
  },
  {
   "cell_type": "markdown",
   "id": "aaf3ab64-0fdd-4c5a-8746-7d4ea3cfac56",
   "metadata": {},
   "source": [
    "### Logistic Regression"
   ]
  },
  {
   "cell_type": "code",
   "execution_count": 87,
   "id": "cbb595a7-40b8-4a66-84b9-4da9619c6f40",
   "metadata": {},
   "outputs": [
    {
     "data": {
      "text/html": [
       "<style>#sk-container-id-4 {color: black;}#sk-container-id-4 pre{padding: 0;}#sk-container-id-4 div.sk-toggleable {background-color: white;}#sk-container-id-4 label.sk-toggleable__label {cursor: pointer;display: block;width: 100%;margin-bottom: 0;padding: 0.3em;box-sizing: border-box;text-align: center;}#sk-container-id-4 label.sk-toggleable__label-arrow:before {content: \"▸\";float: left;margin-right: 0.25em;color: #696969;}#sk-container-id-4 label.sk-toggleable__label-arrow:hover:before {color: black;}#sk-container-id-4 div.sk-estimator:hover label.sk-toggleable__label-arrow:before {color: black;}#sk-container-id-4 div.sk-toggleable__content {max-height: 0;max-width: 0;overflow: hidden;text-align: left;background-color: #f0f8ff;}#sk-container-id-4 div.sk-toggleable__content pre {margin: 0.2em;color: black;border-radius: 0.25em;background-color: #f0f8ff;}#sk-container-id-4 input.sk-toggleable__control:checked~div.sk-toggleable__content {max-height: 200px;max-width: 100%;overflow: auto;}#sk-container-id-4 input.sk-toggleable__control:checked~label.sk-toggleable__label-arrow:before {content: \"▾\";}#sk-container-id-4 div.sk-estimator input.sk-toggleable__control:checked~label.sk-toggleable__label {background-color: #d4ebff;}#sk-container-id-4 div.sk-label input.sk-toggleable__control:checked~label.sk-toggleable__label {background-color: #d4ebff;}#sk-container-id-4 input.sk-hidden--visually {border: 0;clip: rect(1px 1px 1px 1px);clip: rect(1px, 1px, 1px, 1px);height: 1px;margin: -1px;overflow: hidden;padding: 0;position: absolute;width: 1px;}#sk-container-id-4 div.sk-estimator {font-family: monospace;background-color: #f0f8ff;border: 1px dotted black;border-radius: 0.25em;box-sizing: border-box;margin-bottom: 0.5em;}#sk-container-id-4 div.sk-estimator:hover {background-color: #d4ebff;}#sk-container-id-4 div.sk-parallel-item::after {content: \"\";width: 100%;border-bottom: 1px solid gray;flex-grow: 1;}#sk-container-id-4 div.sk-label:hover label.sk-toggleable__label {background-color: #d4ebff;}#sk-container-id-4 div.sk-serial::before {content: \"\";position: absolute;border-left: 1px solid gray;box-sizing: border-box;top: 0;bottom: 0;left: 50%;z-index: 0;}#sk-container-id-4 div.sk-serial {display: flex;flex-direction: column;align-items: center;background-color: white;padding-right: 0.2em;padding-left: 0.2em;position: relative;}#sk-container-id-4 div.sk-item {position: relative;z-index: 1;}#sk-container-id-4 div.sk-parallel {display: flex;align-items: stretch;justify-content: center;background-color: white;position: relative;}#sk-container-id-4 div.sk-item::before, #sk-container-id-4 div.sk-parallel-item::before {content: \"\";position: absolute;border-left: 1px solid gray;box-sizing: border-box;top: 0;bottom: 0;left: 50%;z-index: -1;}#sk-container-id-4 div.sk-parallel-item {display: flex;flex-direction: column;z-index: 1;position: relative;background-color: white;}#sk-container-id-4 div.sk-parallel-item:first-child::after {align-self: flex-end;width: 50%;}#sk-container-id-4 div.sk-parallel-item:last-child::after {align-self: flex-start;width: 50%;}#sk-container-id-4 div.sk-parallel-item:only-child::after {width: 0;}#sk-container-id-4 div.sk-dashed-wrapped {border: 1px dashed gray;margin: 0 0.4em 0.5em 0.4em;box-sizing: border-box;padding-bottom: 0.4em;background-color: white;}#sk-container-id-4 div.sk-label label {font-family: monospace;font-weight: bold;display: inline-block;line-height: 1.2em;}#sk-container-id-4 div.sk-label-container {text-align: center;}#sk-container-id-4 div.sk-container {/* jupyter's `normalize.less` sets `[hidden] { display: none; }` but bootstrap.min.css set `[hidden] { display: none !important; }` so we also need the `!important` here to be able to override the default hidden behavior on the sphinx rendered scikit-learn.org. See: https://github.com/scikit-learn/scikit-learn/issues/21755 */display: inline-block !important;position: relative;}#sk-container-id-4 div.sk-text-repr-fallback {display: none;}</style><div id=\"sk-container-id-4\" class=\"sk-top-container\"><div class=\"sk-text-repr-fallback\"><pre>GridSearchCV(estimator=LogisticRegression(max_iter=300),\n",
       "             param_grid={&#x27;C&#x27;: [8.6, 8.8, 9.0, 9.2, 9.4], &#x27;solver&#x27;: [&#x27;lbfgs&#x27;]},\n",
       "             refit=&#x27;f1&#x27;, scoring=[&#x27;accuracy&#x27;, &#x27;f1&#x27;])</pre><b>In a Jupyter environment, please rerun this cell to show the HTML representation or trust the notebook. <br />On GitHub, the HTML representation is unable to render, please try loading this page with nbviewer.org.</b></div><div class=\"sk-container\" hidden><div class=\"sk-item sk-dashed-wrapped\"><div class=\"sk-label-container\"><div class=\"sk-label sk-toggleable\"><input class=\"sk-toggleable__control sk-hidden--visually\" id=\"sk-estimator-id-10\" type=\"checkbox\" ><label for=\"sk-estimator-id-10\" class=\"sk-toggleable__label sk-toggleable__label-arrow\">GridSearchCV</label><div class=\"sk-toggleable__content\"><pre>GridSearchCV(estimator=LogisticRegression(max_iter=300),\n",
       "             param_grid={&#x27;C&#x27;: [8.6, 8.8, 9.0, 9.2, 9.4], &#x27;solver&#x27;: [&#x27;lbfgs&#x27;]},\n",
       "             refit=&#x27;f1&#x27;, scoring=[&#x27;accuracy&#x27;, &#x27;f1&#x27;])</pre></div></div></div><div class=\"sk-parallel\"><div class=\"sk-parallel-item\"><div class=\"sk-item\"><div class=\"sk-label-container\"><div class=\"sk-label sk-toggleable\"><input class=\"sk-toggleable__control sk-hidden--visually\" id=\"sk-estimator-id-11\" type=\"checkbox\" ><label for=\"sk-estimator-id-11\" class=\"sk-toggleable__label sk-toggleable__label-arrow\">estimator: LogisticRegression</label><div class=\"sk-toggleable__content\"><pre>LogisticRegression(max_iter=300)</pre></div></div></div><div class=\"sk-serial\"><div class=\"sk-item\"><div class=\"sk-estimator sk-toggleable\"><input class=\"sk-toggleable__control sk-hidden--visually\" id=\"sk-estimator-id-12\" type=\"checkbox\" ><label for=\"sk-estimator-id-12\" class=\"sk-toggleable__label sk-toggleable__label-arrow\">LogisticRegression</label><div class=\"sk-toggleable__content\"><pre>LogisticRegression(max_iter=300)</pre></div></div></div></div></div></div></div></div></div></div>"
      ],
      "text/plain": [
       "GridSearchCV(estimator=LogisticRegression(max_iter=300),\n",
       "             param_grid={'C': [8.6, 8.8, 9.0, 9.2, 9.4], 'solver': ['lbfgs']},\n",
       "             refit='f1', scoring=['accuracy', 'f1'])"
      ]
     },
     "execution_count": 87,
     "metadata": {},
     "output_type": "execute_result"
    }
   ],
   "source": [
    "# Train a logistic regression model\n",
    "abc = LogisticRegression(max_iter=300)\n",
    "\n",
    "parameters2 = {'C':[8.6, 8.8, 9.0, 9.2, 9.4], 'solver':['lbfgs']}\n",
    "\n",
    "clf2 = GridSearchCV(abc, parameters2, scoring=['accuracy', 'f1'], refit='f1')\n",
    "\n",
    "clf2.fit(X_train_scaled, y_train)"
   ]
  },
  {
   "cell_type": "code",
   "execution_count": 101,
   "id": "7919f2f8-2e4c-453a-b2b8-3f828cedd30d",
   "metadata": {},
   "outputs": [
    {
     "data": {
      "text/plain": [
       "{'C': 1.0, 'solver': 'lbfgs'}"
      ]
     },
     "execution_count": 101,
     "metadata": {},
     "output_type": "execute_result"
    }
   ],
   "source": [
    "clf2.best_params_"
   ]
  },
  {
   "cell_type": "code",
   "execution_count": 89,
   "id": "4b617f57-58ab-448b-b519-163f3ade5333",
   "metadata": {},
   "outputs": [
    {
     "data": {
      "text/plain": [
       "{'mean_fit_time': array([1.10223832, 1.26376238, 1.22660775, 1.30172234, 1.21572833]),\n",
       " 'std_fit_time': array([0.49929684, 0.25771139, 0.14918242, 0.07441432, 0.16415523]),\n",
       " 'mean_score_time': array([0.01222196, 0.00994964, 0.00928068, 0.00934577, 0.00917664]),\n",
       " 'std_score_time': array([3.25685476e-03, 5.40059530e-04, 1.33164578e-04, 1.06011207e-04,\n",
       "        8.52447750e-05]),\n",
       " 'param_C': masked_array(data=[8.6, 8.8, 9.0, 9.2, 9.4],\n",
       "              mask=[False, False, False, False, False],\n",
       "        fill_value='?',\n",
       "             dtype=object),\n",
       " 'param_solver': masked_array(data=['lbfgs', 'lbfgs', 'lbfgs', 'lbfgs', 'lbfgs'],\n",
       "              mask=[False, False, False, False, False],\n",
       "        fill_value='?',\n",
       "             dtype=object),\n",
       " 'params': [{'C': 8.6, 'solver': 'lbfgs'},\n",
       "  {'C': 8.8, 'solver': 'lbfgs'},\n",
       "  {'C': 9.0, 'solver': 'lbfgs'},\n",
       "  {'C': 9.2, 'solver': 'lbfgs'},\n",
       "  {'C': 9.4, 'solver': 'lbfgs'}],\n",
       " 'split0_test_accuracy': array([0.75837163, 0.75837163, 0.75837163, 0.75837163, 0.75837163]),\n",
       " 'split1_test_accuracy': array([0.71503611, 0.71437951, 0.71503611, 0.71437951, 0.71437951]),\n",
       " 'split2_test_accuracy': array([0.70321733, 0.70321733, 0.70387393, 0.70256074, 0.70256074]),\n",
       " 'split3_test_accuracy': array([0.760841, 0.760841, 0.760841, 0.760841, 0.760841]),\n",
       " 'split4_test_accuracy': array([0.80749014, 0.80749014, 0.80749014, 0.80749014, 0.80749014]),\n",
       " 'mean_test_accuracy': array([0.74899125, 0.74885993, 0.74912256, 0.74872861, 0.74872861]),\n",
       " 'std_test_accuracy': array([0.03714494, 0.03726571, 0.03698369, 0.03742713, 0.03742713]),\n",
       " 'rank_test_accuracy': array([2, 3, 1, 4, 4], dtype=int32),\n",
       " 'split0_test_f1': array([0.66846847, 0.66846847, 0.66846847, 0.66846847, 0.66846847]),\n",
       " 'split1_test_f1': array([0.66146646, 0.66042155, 0.66146646, 0.66042155, 0.66042155]),\n",
       " 'split2_test_f1': array([0.6474259 , 0.6474259 , 0.64848012, 0.64637002, 0.64637002]),\n",
       " 'split3_test_f1': array([0.69152542, 0.69152542, 0.69152542, 0.69152542, 0.69152542]),\n",
       " 'split4_test_f1': array([0.77513431, 0.77513431, 0.77513431, 0.77513431, 0.77513431]),\n",
       " 'mean_test_f1': array([0.68880411, 0.68859513, 0.68901496, 0.68838395, 0.68838395]),\n",
       " 'std_test_f1': array([0.04546064, 0.04558806, 0.04527029, 0.04578031, 0.04578031]),\n",
       " 'rank_test_f1': array([2, 3, 1, 4, 4], dtype=int32)}"
      ]
     },
     "execution_count": 89,
     "metadata": {},
     "output_type": "execute_result"
    }
   ],
   "source": [
    "clf2.cv_results_"
   ]
  },
  {
   "cell_type": "markdown",
   "id": "080cedff-9ecb-4c2f-916e-670edfacc02e",
   "metadata": {},
   "source": [
    "We have built a model that uses simple features but could be better at making predictions. All of the trained models show a f1 score of less than 0.66. To improve our model, we must create new features that encode more significant class differences. First, we will transform the keyword column using target encoding. Next, we will create 2-gram sequences that provide the model with additional details about the context of every tweet and reduce the dimensionality of the feature space using SDV. To implement all these steps we are going to create a pipeline that automates the process. "
   ]
  },
  {
   "cell_type": "code",
   "execution_count": 90,
   "id": "de4b62f9-b566-49b5-b5b2-f5cb07ae2d84",
   "metadata": {},
   "outputs": [
    {
     "data": {
      "text/plain": [
       "(15, 14)"
      ]
     },
     "execution_count": 90,
     "metadata": {},
     "output_type": "execute_result"
    }
   ],
   "source": [
    "len(train.columns), len(test.columns)"
   ]
  },
  {
   "cell_type": "code",
   "execution_count": 19,
   "id": "69f2d244-a51a-42b7-b200-abf8242d82dd",
   "metadata": {},
   "outputs": [],
   "source": [
    "from sklearn.model_selection import train_test_split\n",
    "from sklearn.decomposition import TruncatedSVD\n",
    "from sklearn.pipeline import Pipeline, FeatureUnion\n",
    "from sklearn.compose import ColumnTransformer\n",
    "from sklearn.preprocessing import FunctionTransformer\n",
    "from sklearn.neural_network import MLPClassifier\n",
    "from sklearn import metrics\n",
    "\n",
    "from tempfile import mkdtemp\n",
    "from shutil import rmtree"
   ]
  },
  {
   "cell_type": "code",
   "execution_count": 20,
   "id": "12f0df47-424f-45c0-a607-b4e46b95abfa",
   "metadata": {},
   "outputs": [],
   "source": [
    "feature_cols = list(train.columns)\n",
    "remove = ['id', 'keyword', 'location', 'text', 'target', 'tokens']\n",
    "feature_cols = [col for col in feature_cols if col not in remove]\n",
    "\n",
    "X_train = train[feature_cols]\n",
    "y_train = train['target']\n",
    "\n",
    "X_test = test[feature_cols]"
   ]
  },
  {
   "cell_type": "code",
   "execution_count": 21,
   "id": "0e7d5e4b-c73b-4109-a1a1-f2544ffd2c19",
   "metadata": {},
   "outputs": [
    {
     "data": {
      "text/plain": [
       "Index(['keyword_target_enc', 'number_of_mentions', 'number_of_hashtags',\n",
       "       'number_of_urls', 'token_count', 'char_count', 'avg_word_length',\n",
       "       'median_word_length', 'new_text'],\n",
       "      dtype='object')"
      ]
     },
     "execution_count": 21,
     "metadata": {},
     "output_type": "execute_result"
    }
   ],
   "source": [
    "X_train.columns"
   ]
  },
  {
   "cell_type": "code",
   "execution_count": 8,
   "id": "14f4c3e8-5944-4f37-88b9-c2ac07d278a2",
   "metadata": {},
   "outputs": [],
   "source": [
    "def remove_cols(X, cols_to_remove):\n",
    "    return X[[col for col in X.columns if col not in cols_to_remove]]\n",
    "\n",
    "def keep_col(X, col):\n",
    "    return X[col]"
   ]
  },
  {
   "cell_type": "code",
   "execution_count": 22,
   "id": "0dd3ce6c-ed58-4154-80de-59b0c070e93f",
   "metadata": {},
   "outputs": [],
   "source": [
    "from utils import keep_col, remove_cols"
   ]
  },
  {
   "cell_type": "code",
   "execution_count": 23,
   "id": "e749fc96-a2fc-4ff7-90c5-390f83102824",
   "metadata": {},
   "outputs": [],
   "source": [
    "RemoveTextColumns = FunctionTransformer(remove_cols, kw_args={'cols_to_remove':['new_text']})\n",
    "RemoveNumColumns = FunctionTransformer(keep_col, kw_args={'col':'new_text'}, feature_names_out='one-to-one')"
   ]
  },
  {
   "cell_type": "code",
   "execution_count": 24,
   "id": "a812f50b-4d06-4a81-b42f-f6da79607a54",
   "metadata": {},
   "outputs": [],
   "source": [
    "text_steps = [('extract_text', RemoveNumColumns), ('tfidf_vectorizer', TfidfVectorizer(max_features=15000, ngram_range=(1,3))), ('reduce_dim', TruncatedSVD(n_components=150))]\n",
    "#text_steps = [('extract_text', RemoveNumColumns), ('tfidf_vectorizer', TfidfVectorizer(max_features=60000, sublinear_tf=True, ngram_range=(1,2)))]\n",
    "text_pipeline = Pipeline(steps=text_steps)\n",
    "\n",
    "num_steps = [('extract', RemoveTextColumns)]\n",
    "num_pipeline = Pipeline(steps=num_steps)\n",
    "\n",
    "union_estimators = [('text_transform', text_pipeline), ('num_transform', num_pipeline)]\n",
    "union = FeatureUnion(union_estimators)\n",
    "\n",
    "overall_steps = [('union', union), ('scaler', StandardScaler())]\n",
    "overall_pipeline = Pipeline(overall_steps)"
   ]
  },
  {
   "cell_type": "code",
   "execution_count": 25,
   "id": "a5b3f814-a42d-45ef-ad88-599b9a86dcde",
   "metadata": {},
   "outputs": [],
   "source": [
    "res = overall_pipeline.fit_transform(X_train.iloc[0:])\n",
    "res_test = overall_pipeline.transform(X_test.iloc[0:])"
   ]
  },
  {
   "cell_type": "code",
   "execution_count": 4,
   "id": "aecd4fe3-707b-450b-85eb-63bf61df6b41",
   "metadata": {},
   "outputs": [
    {
     "ename": "NameError",
     "evalue": "name 'res' is not defined",
     "output_type": "error",
     "traceback": [
      "\u001b[0;31m---------------------------------------------------------------------------\u001b[0m",
      "\u001b[0;31mNameError\u001b[0m                                 Traceback (most recent call last)",
      "Cell \u001b[0;32mIn[4], line 1\u001b[0m\n\u001b[0;32m----> 1\u001b[0m \u001b[43mres\u001b[49m\u001b[38;5;241m.\u001b[39mcolumns\n",
      "\u001b[0;31mNameError\u001b[0m: name 'res' is not defined"
     ]
    }
   ],
   "source": [
    "res.columns"
   ]
  },
  {
   "cell_type": "code",
   "execution_count": 217,
   "id": "f10e7033-3d12-4007-a32c-697007497d74",
   "metadata": {},
   "outputs": [
    {
     "data": {
      "text/html": [
       "<style>#sk-container-id-16 {color: black;}#sk-container-id-16 pre{padding: 0;}#sk-container-id-16 div.sk-toggleable {background-color: white;}#sk-container-id-16 label.sk-toggleable__label {cursor: pointer;display: block;width: 100%;margin-bottom: 0;padding: 0.3em;box-sizing: border-box;text-align: center;}#sk-container-id-16 label.sk-toggleable__label-arrow:before {content: \"▸\";float: left;margin-right: 0.25em;color: #696969;}#sk-container-id-16 label.sk-toggleable__label-arrow:hover:before {color: black;}#sk-container-id-16 div.sk-estimator:hover label.sk-toggleable__label-arrow:before {color: black;}#sk-container-id-16 div.sk-toggleable__content {max-height: 0;max-width: 0;overflow: hidden;text-align: left;background-color: #f0f8ff;}#sk-container-id-16 div.sk-toggleable__content pre {margin: 0.2em;color: black;border-radius: 0.25em;background-color: #f0f8ff;}#sk-container-id-16 input.sk-toggleable__control:checked~div.sk-toggleable__content {max-height: 200px;max-width: 100%;overflow: auto;}#sk-container-id-16 input.sk-toggleable__control:checked~label.sk-toggleable__label-arrow:before {content: \"▾\";}#sk-container-id-16 div.sk-estimator input.sk-toggleable__control:checked~label.sk-toggleable__label {background-color: #d4ebff;}#sk-container-id-16 div.sk-label input.sk-toggleable__control:checked~label.sk-toggleable__label {background-color: #d4ebff;}#sk-container-id-16 input.sk-hidden--visually {border: 0;clip: rect(1px 1px 1px 1px);clip: rect(1px, 1px, 1px, 1px);height: 1px;margin: -1px;overflow: hidden;padding: 0;position: absolute;width: 1px;}#sk-container-id-16 div.sk-estimator {font-family: monospace;background-color: #f0f8ff;border: 1px dotted black;border-radius: 0.25em;box-sizing: border-box;margin-bottom: 0.5em;}#sk-container-id-16 div.sk-estimator:hover {background-color: #d4ebff;}#sk-container-id-16 div.sk-parallel-item::after {content: \"\";width: 100%;border-bottom: 1px solid gray;flex-grow: 1;}#sk-container-id-16 div.sk-label:hover label.sk-toggleable__label {background-color: #d4ebff;}#sk-container-id-16 div.sk-serial::before {content: \"\";position: absolute;border-left: 1px solid gray;box-sizing: border-box;top: 0;bottom: 0;left: 50%;z-index: 0;}#sk-container-id-16 div.sk-serial {display: flex;flex-direction: column;align-items: center;background-color: white;padding-right: 0.2em;padding-left: 0.2em;position: relative;}#sk-container-id-16 div.sk-item {position: relative;z-index: 1;}#sk-container-id-16 div.sk-parallel {display: flex;align-items: stretch;justify-content: center;background-color: white;position: relative;}#sk-container-id-16 div.sk-item::before, #sk-container-id-16 div.sk-parallel-item::before {content: \"\";position: absolute;border-left: 1px solid gray;box-sizing: border-box;top: 0;bottom: 0;left: 50%;z-index: -1;}#sk-container-id-16 div.sk-parallel-item {display: flex;flex-direction: column;z-index: 1;position: relative;background-color: white;}#sk-container-id-16 div.sk-parallel-item:first-child::after {align-self: flex-end;width: 50%;}#sk-container-id-16 div.sk-parallel-item:last-child::after {align-self: flex-start;width: 50%;}#sk-container-id-16 div.sk-parallel-item:only-child::after {width: 0;}#sk-container-id-16 div.sk-dashed-wrapped {border: 1px dashed gray;margin: 0 0.4em 0.5em 0.4em;box-sizing: border-box;padding-bottom: 0.4em;background-color: white;}#sk-container-id-16 div.sk-label label {font-family: monospace;font-weight: bold;display: inline-block;line-height: 1.2em;}#sk-container-id-16 div.sk-label-container {text-align: center;}#sk-container-id-16 div.sk-container {/* jupyter's `normalize.less` sets `[hidden] { display: none; }` but bootstrap.min.css set `[hidden] { display: none !important; }` so we also need the `!important` here to be able to override the default hidden behavior on the sphinx rendered scikit-learn.org. See: https://github.com/scikit-learn/scikit-learn/issues/21755 */display: inline-block !important;position: relative;}#sk-container-id-16 div.sk-text-repr-fallback {display: none;}</style><div id=\"sk-container-id-16\" class=\"sk-top-container\"><div class=\"sk-text-repr-fallback\"><pre>GridSearchCV(estimator=LogisticRegression(class_weight=&#x27;balanced&#x27;,\n",
       "                                          max_iter=500),\n",
       "             param_grid={&#x27;C&#x27;: [0.01, 0.1, 0.5, 1.0, 2.0, 3.0, 4.0],\n",
       "                         &#x27;solver&#x27;: [&#x27;lbfgs&#x27;]},\n",
       "             refit=&#x27;f1&#x27;, scoring=[&#x27;f1&#x27;])</pre><b>In a Jupyter environment, please rerun this cell to show the HTML representation or trust the notebook. <br />On GitHub, the HTML representation is unable to render, please try loading this page with nbviewer.org.</b></div><div class=\"sk-container\" hidden><div class=\"sk-item sk-dashed-wrapped\"><div class=\"sk-label-container\"><div class=\"sk-label sk-toggleable\"><input class=\"sk-toggleable__control sk-hidden--visually\" id=\"sk-estimator-id-46\" type=\"checkbox\" ><label for=\"sk-estimator-id-46\" class=\"sk-toggleable__label sk-toggleable__label-arrow\">GridSearchCV</label><div class=\"sk-toggleable__content\"><pre>GridSearchCV(estimator=LogisticRegression(class_weight=&#x27;balanced&#x27;,\n",
       "                                          max_iter=500),\n",
       "             param_grid={&#x27;C&#x27;: [0.01, 0.1, 0.5, 1.0, 2.0, 3.0, 4.0],\n",
       "                         &#x27;solver&#x27;: [&#x27;lbfgs&#x27;]},\n",
       "             refit=&#x27;f1&#x27;, scoring=[&#x27;f1&#x27;])</pre></div></div></div><div class=\"sk-parallel\"><div class=\"sk-parallel-item\"><div class=\"sk-item\"><div class=\"sk-label-container\"><div class=\"sk-label sk-toggleable\"><input class=\"sk-toggleable__control sk-hidden--visually\" id=\"sk-estimator-id-47\" type=\"checkbox\" ><label for=\"sk-estimator-id-47\" class=\"sk-toggleable__label sk-toggleable__label-arrow\">estimator: LogisticRegression</label><div class=\"sk-toggleable__content\"><pre>LogisticRegression(class_weight=&#x27;balanced&#x27;, max_iter=500)</pre></div></div></div><div class=\"sk-serial\"><div class=\"sk-item\"><div class=\"sk-estimator sk-toggleable\"><input class=\"sk-toggleable__control sk-hidden--visually\" id=\"sk-estimator-id-48\" type=\"checkbox\" ><label for=\"sk-estimator-id-48\" class=\"sk-toggleable__label sk-toggleable__label-arrow\">LogisticRegression</label><div class=\"sk-toggleable__content\"><pre>LogisticRegression(class_weight=&#x27;balanced&#x27;, max_iter=500)</pre></div></div></div></div></div></div></div></div></div></div>"
      ],
      "text/plain": [
       "GridSearchCV(estimator=LogisticRegression(class_weight='balanced',\n",
       "                                          max_iter=500),\n",
       "             param_grid={'C': [0.01, 0.1, 0.5, 1.0, 2.0, 3.0, 4.0],\n",
       "                         'solver': ['lbfgs']},\n",
       "             refit='f1', scoring=['f1'])"
      ]
     },
     "execution_count": 217,
     "metadata": {},
     "output_type": "execute_result"
    }
   ],
   "source": [
    "# Train a logistic regression model\n",
    "model = LogisticRegression(max_iter=500, class_weight='balanced')\n",
    "#model = clf = MLPClassifier(hidden_layer_sizes=(30, 5), max_iter=300, random_state=1)\n",
    "\n",
    "parameters = {'C':[0.01, 0.1, 0.5, 1.0, 2.0, 3.0, 4.0], 'solver':['lbfgs']}\n",
    "#parameters = {'alpha': 10.0 ** -np.arange(0, 3)}\n",
    "\n",
    "\n",
    "clf2 = GridSearchCV(model, parameters, scoring=['f1'], refit='f1')\n",
    "\n",
    "clf2.fit(res[0:], y_train.iloc[0:])"
   ]
  },
  {
   "cell_type": "code",
   "execution_count": 218,
   "id": "1f3360fb-f717-476c-901a-5b55415c898f",
   "metadata": {},
   "outputs": [
    {
     "data": {
      "text/plain": [
       "{'C': 0.01, 'solver': 'lbfgs'}"
      ]
     },
     "execution_count": 218,
     "metadata": {},
     "output_type": "execute_result"
    }
   ],
   "source": [
    "clf2.best_params_"
   ]
  },
  {
   "cell_type": "code",
   "execution_count": 219,
   "id": "e5e6e21e-1b06-4c2d-a962-9c2f603dccc8",
   "metadata": {},
   "outputs": [
    {
     "data": {
      "text/plain": [
       "{'mean_fit_time': array([0.14434056, 0.20495567, 0.28591361, 0.24413433, 0.25141096,\n",
       "        0.39422145, 0.41177626]),\n",
       " 'std_fit_time': array([0.03300145, 0.03948196, 0.11154823, 0.02732227, 0.03064009,\n",
       "        0.0864074 , 0.06171405]),\n",
       " 'mean_score_time': array([0.00954194, 0.00903025, 0.00916262, 0.00899572, 0.00904775,\n",
       "        0.01107359, 0.01090503]),\n",
       " 'std_score_time': array([7.34694926e-04, 1.80145936e-04, 9.32265302e-05, 1.13894369e-04,\n",
       "        3.27660346e-05, 3.13255467e-03, 2.48819017e-03]),\n",
       " 'param_C': masked_array(data=[0.01, 0.1, 0.5, 1.0, 2.0, 3.0, 4.0],\n",
       "              mask=[False, False, False, False, False, False, False],\n",
       "        fill_value='?',\n",
       "             dtype=object),\n",
       " 'param_solver': masked_array(data=['lbfgs', 'lbfgs', 'lbfgs', 'lbfgs', 'lbfgs', 'lbfgs',\n",
       "                    'lbfgs'],\n",
       "              mask=[False, False, False, False, False, False, False],\n",
       "        fill_value='?',\n",
       "             dtype=object),\n",
       " 'params': [{'C': 0.01, 'solver': 'lbfgs'},\n",
       "  {'C': 0.1, 'solver': 'lbfgs'},\n",
       "  {'C': 0.5, 'solver': 'lbfgs'},\n",
       "  {'C': 1.0, 'solver': 'lbfgs'},\n",
       "  {'C': 2.0, 'solver': 'lbfgs'},\n",
       "  {'C': 3.0, 'solver': 'lbfgs'},\n",
       "  {'C': 4.0, 'solver': 'lbfgs'}],\n",
       " 'split0_test_f1': array([0.69301934, 0.66948436, 0.67004219, 0.67004219, 0.66891892,\n",
       "        0.66779374, 0.66779374]),\n",
       " 'split1_test_f1': array([0.66424946, 0.6647482 , 0.66235632, 0.65997131, 0.65853659,\n",
       "        0.65948276, 0.65948276]),\n",
       " 'split2_test_f1': array([0.68181818, 0.66248257, 0.66202091, 0.66248257, 0.6615492 ,\n",
       "        0.66061453, 0.66061453]),\n",
       " 'split3_test_f1': array([0.72542902, 0.67788462, 0.67684887, 0.6773934 , 0.6763285 ,\n",
       "        0.6763285 , 0.6763285 ]),\n",
       " 'split4_test_f1': array([0.766787  , 0.72099853, 0.71491876, 0.71491876, 0.71386431,\n",
       "        0.71386431, 0.71291513]),\n",
       " 'mean_test_f1': array([0.7062606 , 0.67911966, 0.67723741, 0.67696165, 0.6758395 ,\n",
       "        0.67561677, 0.67542693]),\n",
       " 'std_test_f1': array([0.0362452 , 0.02159415, 0.01962037, 0.01993551, 0.01998811,\n",
       "        0.02004971, 0.0196879 ]),\n",
       " 'rank_test_f1': array([1, 2, 3, 4, 5, 6, 7], dtype=int32)}"
      ]
     },
     "execution_count": 219,
     "metadata": {},
     "output_type": "execute_result"
    }
   ],
   "source": [
    "clf2.cv_results_"
   ]
  },
  {
   "cell_type": "code",
   "execution_count": 210,
   "id": "1e310e73-8ec9-41e5-858c-84e6a00ed52b",
   "metadata": {},
   "outputs": [],
   "source": [
    "res_train =  overall_pipeline.transform(X_train.iloc[6000:])"
   ]
  },
  {
   "cell_type": "code",
   "execution_count": 211,
   "id": "858eca0c-ced4-44a0-b956-12484e7399f3",
   "metadata": {},
   "outputs": [
    {
     "name": "stdout",
     "output_type": "stream",
     "text": [
      "              precision    recall  f1-score   support\n",
      "\n",
      "           0       0.78      0.88      0.82       859\n",
      "           1       0.83      0.71      0.77       754\n",
      "\n",
      "    accuracy                           0.80      1613\n",
      "   macro avg       0.81      0.80      0.80      1613\n",
      "weighted avg       0.80      0.80      0.80      1613\n",
      "\n",
      "[[752 107]\n",
      " [215 539]]\n"
     ]
    }
   ],
   "source": [
    "f1_scores = []\n",
    "acc_scores = []\n",
    "auc_scores = []\n",
    "\n",
    "thresholds = 0.005*np.arange(0,200)\n",
    "\n",
    "for thresh in thresholds:\n",
    "    y_pred = (clf2.best_estimator_.predict_proba(res_train) > thresh)[:,1]\n",
    "    y_true = y_train[6000:]\n",
    "    f1_scores.append(metrics.f1_score(y_true, y_pred))\n",
    "    acc_scores.append(metrics.accuracy_score(y_true, y_pred))\n",
    "    auc_scores.append(metrics.roc_auc_score(y_true, y_pred))\n",
    "\n",
    "y_pred = (clf2.best_estimator_.predict_proba(res_train) > thresholds[np.argmax(f1_scores)])[:,1]\n",
    "y_true = y_train[6000:]\n",
    "print(metrics.classification_report(y_true, y_pred))\n",
    "print(metrics.confusion_matrix(y_true, y_pred))"
   ]
  },
  {
   "cell_type": "code",
   "execution_count": 212,
   "id": "8e4f40d5-4264-4587-9965-0af7801532f2",
   "metadata": {},
   "outputs": [
    {
     "data": {
      "text/plain": [
       "200"
      ]
     },
     "execution_count": 212,
     "metadata": {},
     "output_type": "execute_result"
    }
   ],
   "source": [
    "len(f1_scores)"
   ]
  },
  {
   "cell_type": "code",
   "execution_count": 222,
   "id": "be40a6f7-a830-4bfb-b61a-85fa2f64e6c3",
   "metadata": {},
   "outputs": [
    {
     "data": {
      "text/plain": [
       "(0.545, 0.77, 0.8003719776813392, 0.795145332769274)"
      ]
     },
     "execution_count": 222,
     "metadata": {},
     "output_type": "execute_result"
    }
   ],
   "source": [
    "thresholds[np.argmax(f1_scores)], f1_scores[np.argmax(f1_scores)], acc_scores[np.argmax(f1_scores)],  auc_scores[np.argmax(f1_scores)]"
   ]
  },
  {
   "cell_type": "code",
   "execution_count": 223,
   "id": "619124eb-2392-4406-a3b4-266a68643a0e",
   "metadata": {},
   "outputs": [
    {
     "data": {
      "text/plain": [
       "array([ True,  True,  True, ...,  True,  True,  True])"
      ]
     },
     "execution_count": 223,
     "metadata": {},
     "output_type": "execute_result"
    }
   ],
   "source": [
    "predictions = (clf2.best_estimator_.predict_proba(res_test) > thresholds[np.argmax(f1_scores)])[:,1]\n",
    "predictions"
   ]
  },
  {
   "cell_type": "code",
   "execution_count": 224,
   "id": "0312466e-d1fb-4b39-9b97-2426d1a8af98",
   "metadata": {},
   "outputs": [
    {
     "data": {
      "text/html": [
       "<div>\n",
       "<style scoped>\n",
       "    .dataframe tbody tr th:only-of-type {\n",
       "        vertical-align: middle;\n",
       "    }\n",
       "\n",
       "    .dataframe tbody tr th {\n",
       "        vertical-align: top;\n",
       "    }\n",
       "\n",
       "    .dataframe thead th {\n",
       "        text-align: right;\n",
       "    }\n",
       "</style>\n",
       "<table border=\"1\" class=\"dataframe\">\n",
       "  <thead>\n",
       "    <tr style=\"text-align: right;\">\n",
       "      <th></th>\n",
       "      <th>id</th>\n",
       "      <th>target</th>\n",
       "    </tr>\n",
       "  </thead>\n",
       "  <tbody>\n",
       "    <tr>\n",
       "      <th>0</th>\n",
       "      <td>0</td>\n",
       "      <td>1</td>\n",
       "    </tr>\n",
       "    <tr>\n",
       "      <th>1</th>\n",
       "      <td>2</td>\n",
       "      <td>1</td>\n",
       "    </tr>\n",
       "    <tr>\n",
       "      <th>2</th>\n",
       "      <td>3</td>\n",
       "      <td>1</td>\n",
       "    </tr>\n",
       "    <tr>\n",
       "      <th>3</th>\n",
       "      <td>9</td>\n",
       "      <td>1</td>\n",
       "    </tr>\n",
       "    <tr>\n",
       "      <th>4</th>\n",
       "      <td>11</td>\n",
       "      <td>1</td>\n",
       "    </tr>\n",
       "    <tr>\n",
       "      <th>...</th>\n",
       "      <td>...</td>\n",
       "      <td>...</td>\n",
       "    </tr>\n",
       "    <tr>\n",
       "      <th>3258</th>\n",
       "      <td>10861</td>\n",
       "      <td>1</td>\n",
       "    </tr>\n",
       "    <tr>\n",
       "      <th>3259</th>\n",
       "      <td>10865</td>\n",
       "      <td>1</td>\n",
       "    </tr>\n",
       "    <tr>\n",
       "      <th>3260</th>\n",
       "      <td>10868</td>\n",
       "      <td>1</td>\n",
       "    </tr>\n",
       "    <tr>\n",
       "      <th>3261</th>\n",
       "      <td>10874</td>\n",
       "      <td>1</td>\n",
       "    </tr>\n",
       "    <tr>\n",
       "      <th>3262</th>\n",
       "      <td>10875</td>\n",
       "      <td>1</td>\n",
       "    </tr>\n",
       "  </tbody>\n",
       "</table>\n",
       "<p>3263 rows × 2 columns</p>\n",
       "</div>"
      ],
      "text/plain": [
       "         id  target\n",
       "0         0       1\n",
       "1         2       1\n",
       "2         3       1\n",
       "3         9       1\n",
       "4        11       1\n",
       "...     ...     ...\n",
       "3258  10861       1\n",
       "3259  10865       1\n",
       "3260  10868       1\n",
       "3261  10874       1\n",
       "3262  10875       1\n",
       "\n",
       "[3263 rows x 2 columns]"
      ]
     },
     "execution_count": 224,
     "metadata": {},
     "output_type": "execute_result"
    }
   ],
   "source": [
    "submission = test[['id']].copy()\n",
    "submission['target'] = predictions.astype(int)\n",
    "submission"
   ]
  },
  {
   "cell_type": "code",
   "execution_count": 225,
   "id": "db7220a9-d5be-4903-9b70-e5188de7b2bc",
   "metadata": {},
   "outputs": [],
   "source": [
    "submission.to_csv('submission2.csv', index=False)"
   ]
  },
  {
   "cell_type": "code",
   "execution_count": 27,
   "id": "6773138b-936a-4c7f-9420-2f509a053612",
   "metadata": {},
   "outputs": [],
   "source": [
    "import joblib\n",
    "joblib.dump(clf2.best_estimator_, 'model.joblib')"
   ]
  },
  {
   "cell_type": "code",
   "execution_count": 28,
   "id": "008464fb-e97a-4662-9748-58437ab466e8",
   "metadata": {},
   "outputs": [
    {
     "data": {
      "text/plain": [
       "['pipeline.joblib']"
      ]
     },
     "execution_count": 28,
     "metadata": {},
     "output_type": "execute_result"
    }
   ],
   "source": [
    "joblib.dump(overall_pipeline, 'pipeline.joblib')"
   ]
  },
  {
   "cell_type": "code",
   "execution_count": 1,
   "id": "f8d4dca7-f2a2-4171-9008-a947e5c86dcb",
   "metadata": {},
   "outputs": [],
   "source": [
    "from sklearn.feature_extraction.text import TfidfVectorizer\n",
    "from sklearn.pipeline import Pipeline, FeatureUnion\n",
    "from sklearn.compose import ColumnTransformer\n",
    "from sklearn.preprocessing import FunctionTransformer"
   ]
  },
  {
   "cell_type": "code",
   "execution_count": 1,
   "id": "9310a7f9-5071-48a3-b94c-7ba07f3e21b1",
   "metadata": {},
   "outputs": [],
   "source": [
    "def remove_cols(X, cols_to_remove):\n",
    "    return X[[col for col in X.columns if col not in cols_to_remove]]\n",
    "\n",
    "def keep_col(X, col):\n",
    "    return X[col]"
   ]
  },
  {
   "cell_type": "code",
   "execution_count": 5,
   "id": "0c536572-cf94-429b-896b-c699ebc322b2",
   "metadata": {},
   "outputs": [],
   "source": [
    "from utils import keep_col, remove_cols"
   ]
  },
  {
   "cell_type": "code",
   "execution_count": 1,
   "id": "306802b3-7c5f-4361-ade1-7c7c05547ea6",
   "metadata": {},
   "outputs": [],
   "source": [
    "import joblib"
   ]
  },
  {
   "cell_type": "code",
   "execution_count": 2,
   "id": "fd0e47c9-3f8e-42d8-ba00-6d64dddee36f",
   "metadata": {},
   "outputs": [],
   "source": [
    "model = joblib.load('model.joblib')"
   ]
  },
  {
   "cell_type": "code",
   "execution_count": 3,
   "id": "97e9e27b-a453-4fce-ac8b-ce79d23d7582",
   "metadata": {},
   "outputs": [],
   "source": [
    "pipe = joblib.load('pipeline.joblib')"
   ]
  },
  {
   "cell_type": "code",
   "execution_count": 8,
   "id": "9d44e097-8a3a-475c-ac86-b5542257268b",
   "metadata": {},
   "outputs": [
    {
     "data": {
      "text/plain": [
       "{'steps': [('union',\n",
       "   FeatureUnion(transformer_list=[('text_transform',\n",
       "                                   Pipeline(steps=[('extract_text',\n",
       "                                                    FunctionTransformer(feature_names_out='one-to-one',\n",
       "                                                                        func=<function keep_col at 0x7f3b3f31aee0>,\n",
       "                                                                        kw_args={'col': 'new_text'})),\n",
       "                                                   ('tfidf_vectorizer',\n",
       "                                                    TfidfVectorizer(max_features=15000,\n",
       "                                                                    ngram_range=(1,\n",
       "                                                                                 3))),\n",
       "                                                   ('reduce_dim',\n",
       "                                                    TruncatedSVD(n_components=150))])),\n",
       "                                  ('num_transform',\n",
       "                                   Pipeline(steps=[('extract',\n",
       "                                                    FunctionTransformer(func=<function remove_cols at 0x7f3b3f31ae50>,\n",
       "                                                                        kw_args={'cols_to_remove': ['new_text']}))]))])),\n",
       "  ('scaler', StandardScaler())],\n",
       " 'memory': None,\n",
       " 'verbose': False}"
      ]
     },
     "execution_count": 8,
     "metadata": {},
     "output_type": "execute_result"
    }
   ],
   "source": [
    "pipe.__dict__"
   ]
  },
  {
   "cell_type": "code",
   "execution_count": 9,
   "id": "c78ebfef-05a1-413f-88d4-a59cd7a9b66a",
   "metadata": {},
   "outputs": [],
   "source": [
    "import pandas as pd"
   ]
  },
  {
   "cell_type": "code",
   "execution_count": 16,
   "id": "cd1a59c0-48a5-4b45-a4cd-e65083baef9c",
   "metadata": {},
   "outputs": [],
   "source": [
    "df = train.iloc[0:10]\n",
    "df.to_json('test.json', orient='table', index=False)"
   ]
  },
  {
   "cell_type": "code",
   "execution_count": 18,
   "id": "77e50290-3e43-44b2-b665-c73e7580b451",
   "metadata": {},
   "outputs": [
    {
     "data": {
      "text/plain": [
       "61"
      ]
     },
     "execution_count": 18,
     "metadata": {},
     "output_type": "execute_result"
    }
   ],
   "source": [
    "train['keyword'].isna().sum()"
   ]
  },
  {
   "cell_type": "markdown",
   "id": "4a8bec54-aa9e-4f53-a8d3-405294c419c1",
   "metadata": {},
   "source": [
    "## The End"
   ]
  },
  {
   "cell_type": "code",
   "execution_count": 255,
   "id": "542c8469-fa43-4eab-8bd3-70ff6dfa039a",
   "metadata": {},
   "outputs": [],
   "source": [
    "kf = KFold(n_splits=10, shuffle=True)\n",
    "threshold =  0.41\n",
    "\n",
    "#logreg = RandomForestClassifier(125, n_jobs=2, class_weight=\"balanced\")\n",
    "#logreg = LogisticRegression(C=6.0, n_jobs=2, max_iter=300, class_weight=\"balanced\")\n",
    "logreg = clf2.best_estimator_\n",
    "#logreg =  GaussianNB()\n",
    "\n",
    "scores_f1 = []\n",
    "scores_auc = []\n",
    "scores_acc = []\n",
    "for dev_index, val_index in kf.split(res):\n",
    "    #logreg.fit(res[dev_index], y_train[dev_index])\n",
    "    y_pred = (logreg.predict_proba(res[val_index]) > threshold)[:,1]\n",
    "    y_true =  y_train[val_index]\n",
    "    scores_f1.append(metrics.f1_score(y_true, y_pred))\n",
    "    scores_auc.append(metrics.roc_auc_score(y_true, y_pred))\n",
    "    scores_acc.append(metrics.accuracy_score(y_true, y_pred))"
   ]
  },
  {
   "cell_type": "code",
   "execution_count": 256,
   "id": "8c5185de-22ec-4604-8cb1-f0143845d221",
   "metadata": {},
   "outputs": [
    {
     "data": {
      "text/plain": [
       "[0.8945686900958466,\n",
       " 0.8687782805429864,\n",
       " 0.8875739644970413,\n",
       " 0.8998505231689088,\n",
       " 0.8926380368098159,\n",
       " 0.9122807017543859,\n",
       " 0.8959537572254336,\n",
       " 0.8906752411575561,\n",
       " 0.8673139158576051,\n",
       " 0.8852459016393444]"
      ]
     },
     "execution_count": 256,
     "metadata": {},
     "output_type": "execute_result"
    }
   ],
   "source": [
    "scores_f1"
   ]
  },
  {
   "cell_type": "code",
   "execution_count": 257,
   "id": "992da626-d15a-42f9-92ea-04b02d9e5f1d",
   "metadata": {},
   "outputs": [
    {
     "data": {
      "text/plain": [
       "[0.9090561088859745,\n",
       " 0.8834813834813835,\n",
       " 0.8987426515199063,\n",
       " 0.9110641014846623,\n",
       " 0.9046933183446919,\n",
       " 0.9205732439603408,\n",
       " 0.9042400712476691,\n",
       " 0.905376985818626,\n",
       " 0.8887073191708952,\n",
       " 0.9046916388345041]"
      ]
     },
     "execution_count": 257,
     "metadata": {},
     "output_type": "execute_result"
    }
   ],
   "source": [
    "scores_auc"
   ]
  },
  {
   "cell_type": "code",
   "execution_count": 125,
   "id": "de66004e-5da7-4b09-8adb-14652d7b71e3",
   "metadata": {},
   "outputs": [
    {
     "data": {
      "text/plain": [
       "<7613x130615 sparse matrix of type '<class 'numpy.float64'>'\n",
       "\twith 223132 stored elements in Compressed Sparse Row format>"
      ]
     },
     "execution_count": 125,
     "metadata": {},
     "output_type": "execute_result"
    }
   ],
   "source": [
    "tfidf_vectorizer = TfidfVectorizer(ngram_range=(1,3))\n",
    "train_vectors = tfidf_vectorizer.fit_transform(train[\"new_text\"].values)\n",
    "train_vectors\n",
    "\n",
    "#svd = TruncatedSVD(n_components=150)\n",
    "#features_2 = svd.fit_transform(train_vectors_2)"
   ]
  },
  {
   "cell_type": "code",
   "execution_count": 288,
   "id": "f5ec6c2e-5ae7-4bec-99e8-6aac772d6c4f",
   "metadata": {},
   "outputs": [
    {
     "data": {
      "text/plain": [
       "array([1, 2, 3])"
      ]
     },
     "execution_count": 288,
     "metadata": {},
     "output_type": "execute_result"
    }
   ],
   "source": [
    "np.arange(1,4)"
   ]
  },
  {
   "cell_type": "code",
   "execution_count": 399,
   "id": "0469980b-4ab2-47bc-8e47-0c934d5b04a9",
   "metadata": {},
   "outputs": [
    {
     "data": {
      "text/html": [
       "<div>\n",
       "<style scoped>\n",
       "    .dataframe tbody tr th:only-of-type {\n",
       "        vertical-align: middle;\n",
       "    }\n",
       "\n",
       "    .dataframe tbody tr th {\n",
       "        vertical-align: top;\n",
       "    }\n",
       "\n",
       "    .dataframe thead th {\n",
       "        text-align: right;\n",
       "    }\n",
       "</style>\n",
       "<table border=\"1\" class=\"dataframe\">\n",
       "  <thead>\n",
       "    <tr style=\"text-align: right;\">\n",
       "      <th></th>\n",
       "      <th>feature2_1</th>\n",
       "      <th>feature2_2</th>\n",
       "      <th>feature2_3</th>\n",
       "      <th>feature2_4</th>\n",
       "      <th>feature2_5</th>\n",
       "      <th>feature2_6</th>\n",
       "      <th>feature2_7</th>\n",
       "      <th>feature2_8</th>\n",
       "      <th>feature2_9</th>\n",
       "      <th>feature2_10</th>\n",
       "      <th>...</th>\n",
       "      <th>feature2_141</th>\n",
       "      <th>feature2_142</th>\n",
       "      <th>feature2_143</th>\n",
       "      <th>feature2_144</th>\n",
       "      <th>feature2_145</th>\n",
       "      <th>feature2_146</th>\n",
       "      <th>feature2_147</th>\n",
       "      <th>feature2_148</th>\n",
       "      <th>feature2_149</th>\n",
       "      <th>feature2_150</th>\n",
       "    </tr>\n",
       "  </thead>\n",
       "  <tbody>\n",
       "    <tr>\n",
       "      <th>0</th>\n",
       "      <td>0.018122</td>\n",
       "      <td>-0.011262</td>\n",
       "      <td>-0.010999</td>\n",
       "      <td>-0.009613</td>\n",
       "      <td>-0.005452</td>\n",
       "      <td>0.006924</td>\n",
       "      <td>-0.004537</td>\n",
       "      <td>-0.013082</td>\n",
       "      <td>-0.003918</td>\n",
       "      <td>-0.066807</td>\n",
       "      <td>...</td>\n",
       "      <td>0.045609</td>\n",
       "      <td>0.021917</td>\n",
       "      <td>-0.012684</td>\n",
       "      <td>-0.012696</td>\n",
       "      <td>0.003619</td>\n",
       "      <td>0.032410</td>\n",
       "      <td>0.027895</td>\n",
       "      <td>-0.022980</td>\n",
       "      <td>-0.017420</td>\n",
       "      <td>0.013174</td>\n",
       "    </tr>\n",
       "    <tr>\n",
       "      <th>1</th>\n",
       "      <td>0.039022</td>\n",
       "      <td>-0.006754</td>\n",
       "      <td>-0.030218</td>\n",
       "      <td>-0.044792</td>\n",
       "      <td>-0.023745</td>\n",
       "      <td>0.015228</td>\n",
       "      <td>-0.055979</td>\n",
       "      <td>-0.030084</td>\n",
       "      <td>-0.031409</td>\n",
       "      <td>-0.012062</td>\n",
       "      <td>...</td>\n",
       "      <td>0.022804</td>\n",
       "      <td>0.039184</td>\n",
       "      <td>0.001324</td>\n",
       "      <td>-0.000765</td>\n",
       "      <td>0.009757</td>\n",
       "      <td>0.057340</td>\n",
       "      <td>-0.020879</td>\n",
       "      <td>0.062408</td>\n",
       "      <td>0.007488</td>\n",
       "      <td>0.009557</td>\n",
       "    </tr>\n",
       "    <tr>\n",
       "      <th>2</th>\n",
       "      <td>0.008701</td>\n",
       "      <td>-0.005109</td>\n",
       "      <td>-0.005037</td>\n",
       "      <td>-0.005441</td>\n",
       "      <td>-0.002632</td>\n",
       "      <td>0.003292</td>\n",
       "      <td>-0.002957</td>\n",
       "      <td>-0.004916</td>\n",
       "      <td>-0.002822</td>\n",
       "      <td>-0.000452</td>\n",
       "      <td>...</td>\n",
       "      <td>-0.015575</td>\n",
       "      <td>0.009185</td>\n",
       "      <td>0.010437</td>\n",
       "      <td>0.022304</td>\n",
       "      <td>0.020761</td>\n",
       "      <td>0.007307</td>\n",
       "      <td>0.013223</td>\n",
       "      <td>0.016626</td>\n",
       "      <td>-0.014182</td>\n",
       "      <td>-0.030786</td>\n",
       "    </tr>\n",
       "    <tr>\n",
       "      <th>3</th>\n",
       "      <td>0.034970</td>\n",
       "      <td>-0.016560</td>\n",
       "      <td>0.058624</td>\n",
       "      <td>-0.086747</td>\n",
       "      <td>-0.011956</td>\n",
       "      <td>0.060832</td>\n",
       "      <td>-0.081544</td>\n",
       "      <td>0.006248</td>\n",
       "      <td>-0.010984</td>\n",
       "      <td>0.021159</td>\n",
       "      <td>...</td>\n",
       "      <td>-0.010729</td>\n",
       "      <td>-0.012837</td>\n",
       "      <td>-0.003224</td>\n",
       "      <td>0.060972</td>\n",
       "      <td>0.008397</td>\n",
       "      <td>0.024642</td>\n",
       "      <td>0.051359</td>\n",
       "      <td>0.020249</td>\n",
       "      <td>-0.018601</td>\n",
       "      <td>-0.032794</td>\n",
       "    </tr>\n",
       "    <tr>\n",
       "      <th>4</th>\n",
       "      <td>0.018814</td>\n",
       "      <td>-0.019215</td>\n",
       "      <td>-0.023682</td>\n",
       "      <td>-0.019470</td>\n",
       "      <td>0.001738</td>\n",
       "      <td>0.024389</td>\n",
       "      <td>-0.018975</td>\n",
       "      <td>-0.024388</td>\n",
       "      <td>-0.009642</td>\n",
       "      <td>0.001291</td>\n",
       "      <td>...</td>\n",
       "      <td>0.030974</td>\n",
       "      <td>-0.000254</td>\n",
       "      <td>-0.009906</td>\n",
       "      <td>-0.006824</td>\n",
       "      <td>-0.009858</td>\n",
       "      <td>-0.025758</td>\n",
       "      <td>0.027505</td>\n",
       "      <td>-0.023609</td>\n",
       "      <td>0.024987</td>\n",
       "      <td>0.003191</td>\n",
       "    </tr>\n",
       "  </tbody>\n",
       "</table>\n",
       "<p>5 rows × 150 columns</p>\n",
       "</div>"
      ],
      "text/plain": [
       "   feature2_1  feature2_2  feature2_3  feature2_4  feature2_5  feature2_6  \\\n",
       "0    0.018122   -0.011262   -0.010999   -0.009613   -0.005452    0.006924   \n",
       "1    0.039022   -0.006754   -0.030218   -0.044792   -0.023745    0.015228   \n",
       "2    0.008701   -0.005109   -0.005037   -0.005441   -0.002632    0.003292   \n",
       "3    0.034970   -0.016560    0.058624   -0.086747   -0.011956    0.060832   \n",
       "4    0.018814   -0.019215   -0.023682   -0.019470    0.001738    0.024389   \n",
       "\n",
       "   feature2_7  feature2_8  feature2_9  feature2_10  ...  feature2_141  \\\n",
       "0   -0.004537   -0.013082   -0.003918    -0.066807  ...      0.045609   \n",
       "1   -0.055979   -0.030084   -0.031409    -0.012062  ...      0.022804   \n",
       "2   -0.002957   -0.004916   -0.002822    -0.000452  ...     -0.015575   \n",
       "3   -0.081544    0.006248   -0.010984     0.021159  ...     -0.010729   \n",
       "4   -0.018975   -0.024388   -0.009642     0.001291  ...      0.030974   \n",
       "\n",
       "   feature2_142  feature2_143  feature2_144  feature2_145  feature2_146  \\\n",
       "0      0.021917     -0.012684     -0.012696      0.003619      0.032410   \n",
       "1      0.039184      0.001324     -0.000765      0.009757      0.057340   \n",
       "2      0.009185      0.010437      0.022304      0.020761      0.007307   \n",
       "3     -0.012837     -0.003224      0.060972      0.008397      0.024642   \n",
       "4     -0.000254     -0.009906     -0.006824     -0.009858     -0.025758   \n",
       "\n",
       "   feature2_147  feature2_148  feature2_149  feature2_150  \n",
       "0      0.027895     -0.022980     -0.017420      0.013174  \n",
       "1     -0.020879      0.062408      0.007488      0.009557  \n",
       "2      0.013223      0.016626     -0.014182     -0.030786  \n",
       "3      0.051359      0.020249     -0.018601     -0.032794  \n",
       "4      0.027505     -0.023609      0.024987      0.003191  \n",
       "\n",
       "[5 rows x 150 columns]"
      ]
     },
     "execution_count": 399,
     "metadata": {},
     "output_type": "execute_result"
    }
   ],
   "source": [
    "# we can use the matrix Vh to create the new features\n",
    "#features_2 = (Vh2).T\n",
    "columns_2 = [f\"feature2_{i}\" for i in range(1,151)]\n",
    "new_features2 = pd.DataFrame(data=features_2, columns=columns_2)\n",
    "new_features2.head()"
   ]
  },
  {
   "cell_type": "code",
   "execution_count": 400,
   "id": "5d65671e-e164-4b7d-b0c8-5abdb379a365",
   "metadata": {},
   "outputs": [
    {
     "data": {
      "text/plain": [
       "Index(['id', 'keyword', 'location', 'text', 'target', 'number_of_mentions',\n",
       "       'number_of_hashtags', 'number_of_urls', 'token_count', 'char_count',\n",
       "       ...\n",
       "       'feature2_141', 'feature2_142', 'feature2_143', 'feature2_144',\n",
       "       'feature2_145', 'feature2_146', 'feature2_147', 'feature2_148',\n",
       "       'feature2_149', 'feature2_150'],\n",
       "      dtype='object', length=165)"
      ]
     },
     "execution_count": 400,
     "metadata": {},
     "output_type": "execute_result"
    }
   ],
   "source": [
    "# we now join this new dataframe with our old df\n",
    "train_ = pd.concat([train, new_features2], axis=1)\n",
    "train_.columns"
   ]
  },
  {
   "cell_type": "code",
   "execution_count": 401,
   "id": "08cecab7-654a-4f20-a675-49f4bdb43861",
   "metadata": {},
   "outputs": [],
   "source": [
    "# remove nan values\n",
    "train_ = train_.dropna(axis=0, subset=['keyword'])\n",
    "feature_cols = list(train_.columns)\n",
    "remove = ['id', 'keyword', 'location', 'text', 'target', 'keyword_target','tokens', 'new_text']\n",
    "feature_cols = [col for col in feature_cols if col not in remove]"
   ]
  },
  {
   "cell_type": "code",
   "execution_count": 402,
   "id": "8baf117e-7ad8-44de-ad48-b9df41edd6b5",
   "metadata": {},
   "outputs": [],
   "source": [
    "# define train data\n",
    "X_train = train_[feature_cols].values\n",
    "scaler = RobustScaler()\n",
    "X_train_scaled = scaler.fit_transform(X_train)\n",
    "y_train = train_['target'].values"
   ]
  },
  {
   "cell_type": "code",
   "execution_count": 132,
   "id": "87351065-4906-44f2-9211-67890a0aa92b",
   "metadata": {},
   "outputs": [],
   "source": [
    "#feature_cols"
   ]
  },
  {
   "cell_type": "code",
   "execution_count": 287,
   "id": "64aff1f2-8a17-4780-9a8b-64f00c1e96cc",
   "metadata": {},
   "outputs": [],
   "source": [
    "# Train a random forest model\n",
    "rfc = RandomForestClassifier()\n",
    "\n",
    "parameters = {'n_estimators':[100, 115, 120, 125, 130], 'criterion':['entropy']}\n",
    "\n",
    "clf = GridSearchCV(rfc, parameters, scoring=['accuracy', 'f1'], refit='f1')"
   ]
  },
  {
   "cell_type": "code",
   "execution_count": 288,
   "id": "d0507ccd-9da7-426a-b048-3b2ea8bd6dc6",
   "metadata": {},
   "outputs": [
    {
     "data": {
      "text/html": [
       "<style>#sk-container-id-30 {color: black;}#sk-container-id-30 pre{padding: 0;}#sk-container-id-30 div.sk-toggleable {background-color: white;}#sk-container-id-30 label.sk-toggleable__label {cursor: pointer;display: block;width: 100%;margin-bottom: 0;padding: 0.3em;box-sizing: border-box;text-align: center;}#sk-container-id-30 label.sk-toggleable__label-arrow:before {content: \"▸\";float: left;margin-right: 0.25em;color: #696969;}#sk-container-id-30 label.sk-toggleable__label-arrow:hover:before {color: black;}#sk-container-id-30 div.sk-estimator:hover label.sk-toggleable__label-arrow:before {color: black;}#sk-container-id-30 div.sk-toggleable__content {max-height: 0;max-width: 0;overflow: hidden;text-align: left;background-color: #f0f8ff;}#sk-container-id-30 div.sk-toggleable__content pre {margin: 0.2em;color: black;border-radius: 0.25em;background-color: #f0f8ff;}#sk-container-id-30 input.sk-toggleable__control:checked~div.sk-toggleable__content {max-height: 200px;max-width: 100%;overflow: auto;}#sk-container-id-30 input.sk-toggleable__control:checked~label.sk-toggleable__label-arrow:before {content: \"▾\";}#sk-container-id-30 div.sk-estimator input.sk-toggleable__control:checked~label.sk-toggleable__label {background-color: #d4ebff;}#sk-container-id-30 div.sk-label input.sk-toggleable__control:checked~label.sk-toggleable__label {background-color: #d4ebff;}#sk-container-id-30 input.sk-hidden--visually {border: 0;clip: rect(1px 1px 1px 1px);clip: rect(1px, 1px, 1px, 1px);height: 1px;margin: -1px;overflow: hidden;padding: 0;position: absolute;width: 1px;}#sk-container-id-30 div.sk-estimator {font-family: monospace;background-color: #f0f8ff;border: 1px dotted black;border-radius: 0.25em;box-sizing: border-box;margin-bottom: 0.5em;}#sk-container-id-30 div.sk-estimator:hover {background-color: #d4ebff;}#sk-container-id-30 div.sk-parallel-item::after {content: \"\";width: 100%;border-bottom: 1px solid gray;flex-grow: 1;}#sk-container-id-30 div.sk-label:hover label.sk-toggleable__label {background-color: #d4ebff;}#sk-container-id-30 div.sk-serial::before {content: \"\";position: absolute;border-left: 1px solid gray;box-sizing: border-box;top: 0;bottom: 0;left: 50%;z-index: 0;}#sk-container-id-30 div.sk-serial {display: flex;flex-direction: column;align-items: center;background-color: white;padding-right: 0.2em;padding-left: 0.2em;position: relative;}#sk-container-id-30 div.sk-item {position: relative;z-index: 1;}#sk-container-id-30 div.sk-parallel {display: flex;align-items: stretch;justify-content: center;background-color: white;position: relative;}#sk-container-id-30 div.sk-item::before, #sk-container-id-30 div.sk-parallel-item::before {content: \"\";position: absolute;border-left: 1px solid gray;box-sizing: border-box;top: 0;bottom: 0;left: 50%;z-index: -1;}#sk-container-id-30 div.sk-parallel-item {display: flex;flex-direction: column;z-index: 1;position: relative;background-color: white;}#sk-container-id-30 div.sk-parallel-item:first-child::after {align-self: flex-end;width: 50%;}#sk-container-id-30 div.sk-parallel-item:last-child::after {align-self: flex-start;width: 50%;}#sk-container-id-30 div.sk-parallel-item:only-child::after {width: 0;}#sk-container-id-30 div.sk-dashed-wrapped {border: 1px dashed gray;margin: 0 0.4em 0.5em 0.4em;box-sizing: border-box;padding-bottom: 0.4em;background-color: white;}#sk-container-id-30 div.sk-label label {font-family: monospace;font-weight: bold;display: inline-block;line-height: 1.2em;}#sk-container-id-30 div.sk-label-container {text-align: center;}#sk-container-id-30 div.sk-container {/* jupyter's `normalize.less` sets `[hidden] { display: none; }` but bootstrap.min.css set `[hidden] { display: none !important; }` so we also need the `!important` here to be able to override the default hidden behavior on the sphinx rendered scikit-learn.org. See: https://github.com/scikit-learn/scikit-learn/issues/21755 */display: inline-block !important;position: relative;}#sk-container-id-30 div.sk-text-repr-fallback {display: none;}</style><div id=\"sk-container-id-30\" class=\"sk-top-container\"><div class=\"sk-text-repr-fallback\"><pre>GridSearchCV(estimator=RandomForestClassifier(),\n",
       "             param_grid={&#x27;criterion&#x27;: [&#x27;entropy&#x27;],\n",
       "                         &#x27;n_estimators&#x27;: [100, 115, 120, 125, 130]},\n",
       "             refit=&#x27;f1&#x27;, scoring=[&#x27;accuracy&#x27;, &#x27;f1&#x27;])</pre><b>In a Jupyter environment, please rerun this cell to show the HTML representation or trust the notebook. <br />On GitHub, the HTML representation is unable to render, please try loading this page with nbviewer.org.</b></div><div class=\"sk-container\" hidden><div class=\"sk-item sk-dashed-wrapped\"><div class=\"sk-label-container\"><div class=\"sk-label sk-toggleable\"><input class=\"sk-toggleable__control sk-hidden--visually\" id=\"sk-estimator-id-82\" type=\"checkbox\" ><label for=\"sk-estimator-id-82\" class=\"sk-toggleable__label sk-toggleable__label-arrow\">GridSearchCV</label><div class=\"sk-toggleable__content\"><pre>GridSearchCV(estimator=RandomForestClassifier(),\n",
       "             param_grid={&#x27;criterion&#x27;: [&#x27;entropy&#x27;],\n",
       "                         &#x27;n_estimators&#x27;: [100, 115, 120, 125, 130]},\n",
       "             refit=&#x27;f1&#x27;, scoring=[&#x27;accuracy&#x27;, &#x27;f1&#x27;])</pre></div></div></div><div class=\"sk-parallel\"><div class=\"sk-parallel-item\"><div class=\"sk-item\"><div class=\"sk-label-container\"><div class=\"sk-label sk-toggleable\"><input class=\"sk-toggleable__control sk-hidden--visually\" id=\"sk-estimator-id-83\" type=\"checkbox\" ><label for=\"sk-estimator-id-83\" class=\"sk-toggleable__label sk-toggleable__label-arrow\">estimator: RandomForestClassifier</label><div class=\"sk-toggleable__content\"><pre>RandomForestClassifier()</pre></div></div></div><div class=\"sk-serial\"><div class=\"sk-item\"><div class=\"sk-estimator sk-toggleable\"><input class=\"sk-toggleable__control sk-hidden--visually\" id=\"sk-estimator-id-84\" type=\"checkbox\" ><label for=\"sk-estimator-id-84\" class=\"sk-toggleable__label sk-toggleable__label-arrow\">RandomForestClassifier</label><div class=\"sk-toggleable__content\"><pre>RandomForestClassifier()</pre></div></div></div></div></div></div></div></div></div></div>"
      ],
      "text/plain": [
       "GridSearchCV(estimator=RandomForestClassifier(),\n",
       "             param_grid={'criterion': ['entropy'],\n",
       "                         'n_estimators': [100, 115, 120, 125, 130]},\n",
       "             refit='f1', scoring=['accuracy', 'f1'])"
      ]
     },
     "execution_count": 288,
     "metadata": {},
     "output_type": "execute_result"
    }
   ],
   "source": [
    "clf.fit(X_train, y_train)"
   ]
  },
  {
   "cell_type": "code",
   "execution_count": 289,
   "id": "5157aa5f-de50-444d-a1c3-125aa1966c5a",
   "metadata": {},
   "outputs": [
    {
     "data": {
      "text/plain": [
       "{'criterion': 'entropy', 'n_estimators': 125}"
      ]
     },
     "execution_count": 289,
     "metadata": {},
     "output_type": "execute_result"
    }
   ],
   "source": [
    "clf.best_params_"
   ]
  },
  {
   "cell_type": "code",
   "execution_count": 290,
   "id": "e4bd3d11-c98c-4e16-939f-f8a6f985b981",
   "metadata": {},
   "outputs": [
    {
     "data": {
      "text/plain": [
       "{'mean_fit_time': array([25.7616982 , 39.90521193, 34.88854609, 35.77819366, 35.80933728]),\n",
       " 'std_fit_time': array([1.26398895, 7.98132032, 2.33553711, 4.31049676, 2.13187659]),\n",
       " 'mean_score_time': array([0.07904782, 0.2397511 , 0.0945972 , 0.10397549, 0.10093231]),\n",
       " 'std_score_time': array([0.00328029, 0.29823026, 0.00639937, 0.00771818, 0.0052917 ]),\n",
       " 'param_criterion': masked_array(data=['entropy', 'entropy', 'entropy', 'entropy', 'entropy'],\n",
       "              mask=[False, False, False, False, False],\n",
       "        fill_value='?',\n",
       "             dtype=object),\n",
       " 'param_n_estimators': masked_array(data=[100, 115, 120, 125, 130],\n",
       "              mask=[False, False, False, False, False],\n",
       "        fill_value='?',\n",
       "             dtype=object),\n",
       " 'params': [{'criterion': 'entropy', 'n_estimators': 100},\n",
       "  {'criterion': 'entropy', 'n_estimators': 115},\n",
       "  {'criterion': 'entropy', 'n_estimators': 120},\n",
       "  {'criterion': 'entropy', 'n_estimators': 125},\n",
       "  {'criterion': 'entropy', 'n_estimators': 130}],\n",
       " 'split0_test_accuracy': array([0.7248851 , 0.7242285 , 0.73210768, 0.72816809, 0.74458306]),\n",
       " 'split1_test_accuracy': array([0.7202889 , 0.70912672, 0.71306632, 0.71766251, 0.70584373]),\n",
       " 'split2_test_accuracy': array([0.70978332, 0.69533815, 0.68614576, 0.69665135, 0.68548917]),\n",
       " 'split3_test_accuracy': array([0.70367937, 0.71287779, 0.70827858, 0.71813403, 0.72076216]),\n",
       " 'split4_test_accuracy': array([0.77529566, 0.78055191, 0.78449409, 0.79237845, 0.78646518]),\n",
       " 'mean_test_accuracy': array([0.72678647, 0.72442461, 0.72481849, 0.73059889, 0.72862866]),\n",
       " 'std_test_accuracy': array([0.02538512, 0.02954213, 0.03323122, 0.03255083, 0.03476106]),\n",
       " 'rank_test_accuracy': array([3, 5, 4, 1, 2], dtype=int32),\n",
       " 'split0_test_f1': array([0.62555853, 0.62093863, 0.63571429, 0.63747811, 0.65049416]),\n",
       " 'split1_test_f1': array([0.63212435, 0.62425785, 0.62617622, 0.61811723, 0.61643836]),\n",
       " 'split2_test_f1': array([0.63888889, 0.62398703, 0.61074919, 0.62861736, 0.6011657 ]),\n",
       " 'split3_test_f1': array([0.61353899, 0.63613655, 0.6185567 , 0.6439834 , 0.63519313]),\n",
       " 'split4_test_f1': array([0.7281399 , 0.73534073, 0.73717949, 0.75078864, 0.74062251]),\n",
       " 'mean_test_f1': array([0.64765013, 0.64813216, 0.64567518, 0.65579695, 0.64878277]),\n",
       " 'std_test_f1': array([0.0411048 , 0.04391284, 0.04649237, 0.04828468, 0.04885835]),\n",
       " 'rank_test_f1': array([4, 3, 5, 1, 2], dtype=int32)}"
      ]
     },
     "execution_count": 290,
     "metadata": {},
     "output_type": "execute_result"
    }
   ],
   "source": [
    "clf.cv_results_"
   ]
  },
  {
   "cell_type": "code",
   "execution_count": 340,
   "id": "dcb26111-40c2-4efe-8cd5-fb88d1a02dfe",
   "metadata": {},
   "outputs": [],
   "source": [
    "# Train a logistic regression model\n",
    "abc = LogisticRegression(max_iter=300)\n",
    "\n",
    "parameters2 = {'C':[0.3, 0.4, 4.0, 5.0, 6.0, 7.0], 'solver':['lbfgs']}\n",
    "\n",
    "clf2 = GridSearchCV(abc, parameters2, scoring=['roc_auc', 'f1'], refit='roc_auc', n_jobs=2)"
   ]
  },
  {
   "cell_type": "code",
   "execution_count": 341,
   "id": "193ff144-53af-4abc-8fbb-5730c4d0e47d",
   "metadata": {},
   "outputs": [
    {
     "data": {
      "text/html": [
       "<style>#sk-container-id-35 {color: black;}#sk-container-id-35 pre{padding: 0;}#sk-container-id-35 div.sk-toggleable {background-color: white;}#sk-container-id-35 label.sk-toggleable__label {cursor: pointer;display: block;width: 100%;margin-bottom: 0;padding: 0.3em;box-sizing: border-box;text-align: center;}#sk-container-id-35 label.sk-toggleable__label-arrow:before {content: \"▸\";float: left;margin-right: 0.25em;color: #696969;}#sk-container-id-35 label.sk-toggleable__label-arrow:hover:before {color: black;}#sk-container-id-35 div.sk-estimator:hover label.sk-toggleable__label-arrow:before {color: black;}#sk-container-id-35 div.sk-toggleable__content {max-height: 0;max-width: 0;overflow: hidden;text-align: left;background-color: #f0f8ff;}#sk-container-id-35 div.sk-toggleable__content pre {margin: 0.2em;color: black;border-radius: 0.25em;background-color: #f0f8ff;}#sk-container-id-35 input.sk-toggleable__control:checked~div.sk-toggleable__content {max-height: 200px;max-width: 100%;overflow: auto;}#sk-container-id-35 input.sk-toggleable__control:checked~label.sk-toggleable__label-arrow:before {content: \"▾\";}#sk-container-id-35 div.sk-estimator input.sk-toggleable__control:checked~label.sk-toggleable__label {background-color: #d4ebff;}#sk-container-id-35 div.sk-label input.sk-toggleable__control:checked~label.sk-toggleable__label {background-color: #d4ebff;}#sk-container-id-35 input.sk-hidden--visually {border: 0;clip: rect(1px 1px 1px 1px);clip: rect(1px, 1px, 1px, 1px);height: 1px;margin: -1px;overflow: hidden;padding: 0;position: absolute;width: 1px;}#sk-container-id-35 div.sk-estimator {font-family: monospace;background-color: #f0f8ff;border: 1px dotted black;border-radius: 0.25em;box-sizing: border-box;margin-bottom: 0.5em;}#sk-container-id-35 div.sk-estimator:hover {background-color: #d4ebff;}#sk-container-id-35 div.sk-parallel-item::after {content: \"\";width: 100%;border-bottom: 1px solid gray;flex-grow: 1;}#sk-container-id-35 div.sk-label:hover label.sk-toggleable__label {background-color: #d4ebff;}#sk-container-id-35 div.sk-serial::before {content: \"\";position: absolute;border-left: 1px solid gray;box-sizing: border-box;top: 0;bottom: 0;left: 50%;z-index: 0;}#sk-container-id-35 div.sk-serial {display: flex;flex-direction: column;align-items: center;background-color: white;padding-right: 0.2em;padding-left: 0.2em;position: relative;}#sk-container-id-35 div.sk-item {position: relative;z-index: 1;}#sk-container-id-35 div.sk-parallel {display: flex;align-items: stretch;justify-content: center;background-color: white;position: relative;}#sk-container-id-35 div.sk-item::before, #sk-container-id-35 div.sk-parallel-item::before {content: \"\";position: absolute;border-left: 1px solid gray;box-sizing: border-box;top: 0;bottom: 0;left: 50%;z-index: -1;}#sk-container-id-35 div.sk-parallel-item {display: flex;flex-direction: column;z-index: 1;position: relative;background-color: white;}#sk-container-id-35 div.sk-parallel-item:first-child::after {align-self: flex-end;width: 50%;}#sk-container-id-35 div.sk-parallel-item:last-child::after {align-self: flex-start;width: 50%;}#sk-container-id-35 div.sk-parallel-item:only-child::after {width: 0;}#sk-container-id-35 div.sk-dashed-wrapped {border: 1px dashed gray;margin: 0 0.4em 0.5em 0.4em;box-sizing: border-box;padding-bottom: 0.4em;background-color: white;}#sk-container-id-35 div.sk-label label {font-family: monospace;font-weight: bold;display: inline-block;line-height: 1.2em;}#sk-container-id-35 div.sk-label-container {text-align: center;}#sk-container-id-35 div.sk-container {/* jupyter's `normalize.less` sets `[hidden] { display: none; }` but bootstrap.min.css set `[hidden] { display: none !important; }` so we also need the `!important` here to be able to override the default hidden behavior on the sphinx rendered scikit-learn.org. See: https://github.com/scikit-learn/scikit-learn/issues/21755 */display: inline-block !important;position: relative;}#sk-container-id-35 div.sk-text-repr-fallback {display: none;}</style><div id=\"sk-container-id-35\" class=\"sk-top-container\"><div class=\"sk-text-repr-fallback\"><pre>GridSearchCV(estimator=LogisticRegression(max_iter=300), n_jobs=2,\n",
       "             param_grid={&#x27;C&#x27;: [0.3, 0.4, 4.0, 5.0, 6.0, 7.0],\n",
       "                         &#x27;solver&#x27;: [&#x27;lbfgs&#x27;]},\n",
       "             refit=&#x27;roc_auc&#x27;, scoring=[&#x27;roc_auc&#x27;, &#x27;f1&#x27;])</pre><b>In a Jupyter environment, please rerun this cell to show the HTML representation or trust the notebook. <br />On GitHub, the HTML representation is unable to render, please try loading this page with nbviewer.org.</b></div><div class=\"sk-container\" hidden><div class=\"sk-item sk-dashed-wrapped\"><div class=\"sk-label-container\"><div class=\"sk-label sk-toggleable\"><input class=\"sk-toggleable__control sk-hidden--visually\" id=\"sk-estimator-id-97\" type=\"checkbox\" ><label for=\"sk-estimator-id-97\" class=\"sk-toggleable__label sk-toggleable__label-arrow\">GridSearchCV</label><div class=\"sk-toggleable__content\"><pre>GridSearchCV(estimator=LogisticRegression(max_iter=300), n_jobs=2,\n",
       "             param_grid={&#x27;C&#x27;: [0.3, 0.4, 4.0, 5.0, 6.0, 7.0],\n",
       "                         &#x27;solver&#x27;: [&#x27;lbfgs&#x27;]},\n",
       "             refit=&#x27;roc_auc&#x27;, scoring=[&#x27;roc_auc&#x27;, &#x27;f1&#x27;])</pre></div></div></div><div class=\"sk-parallel\"><div class=\"sk-parallel-item\"><div class=\"sk-item\"><div class=\"sk-label-container\"><div class=\"sk-label sk-toggleable\"><input class=\"sk-toggleable__control sk-hidden--visually\" id=\"sk-estimator-id-98\" type=\"checkbox\" ><label for=\"sk-estimator-id-98\" class=\"sk-toggleable__label sk-toggleable__label-arrow\">estimator: LogisticRegression</label><div class=\"sk-toggleable__content\"><pre>LogisticRegression(max_iter=300)</pre></div></div></div><div class=\"sk-serial\"><div class=\"sk-item\"><div class=\"sk-estimator sk-toggleable\"><input class=\"sk-toggleable__control sk-hidden--visually\" id=\"sk-estimator-id-99\" type=\"checkbox\" ><label for=\"sk-estimator-id-99\" class=\"sk-toggleable__label sk-toggleable__label-arrow\">LogisticRegression</label><div class=\"sk-toggleable__content\"><pre>LogisticRegression(max_iter=300)</pre></div></div></div></div></div></div></div></div></div></div>"
      ],
      "text/plain": [
       "GridSearchCV(estimator=LogisticRegression(max_iter=300), n_jobs=2,\n",
       "             param_grid={'C': [0.3, 0.4, 4.0, 5.0, 6.0, 7.0],\n",
       "                         'solver': ['lbfgs']},\n",
       "             refit='roc_auc', scoring=['roc_auc', 'f1'])"
      ]
     },
     "execution_count": 341,
     "metadata": {},
     "output_type": "execute_result"
    }
   ],
   "source": [
    "clf2.fit(X_train_scaled, y_train)"
   ]
  },
  {
   "cell_type": "code",
   "execution_count": 342,
   "id": "a19ef836-8a3e-467c-820b-81d171c55598",
   "metadata": {},
   "outputs": [
    {
     "data": {
      "text/plain": [
       "{'C': 6.0, 'solver': 'lbfgs'}"
      ]
     },
     "execution_count": 342,
     "metadata": {},
     "output_type": "execute_result"
    }
   ],
   "source": [
    "clf2.best_params_"
   ]
  },
  {
   "cell_type": "code",
   "execution_count": 343,
   "id": "87fb77e9-98de-475b-80ef-25b034aff2f2",
   "metadata": {},
   "outputs": [
    {
     "data": {
      "text/plain": [
       "{'mean_fit_time': array([0.75759563, 0.96223693, 1.03428621, 0.99687619, 0.52387795,\n",
       "        0.93709288]),\n",
       " 'std_fit_time': array([0.20167401, 0.576297  , 0.9173701 , 0.98932033, 0.0802019 ,\n",
       "        0.80276441]),\n",
       " 'mean_score_time': array([0.01715121, 0.02031555, 0.01800685, 0.05212669, 0.01687551,\n",
       "        0.01589284]),\n",
       " 'std_score_time': array([0.00190365, 0.00504263, 0.00314941, 0.0658732 , 0.00071795,\n",
       "        0.00122558]),\n",
       " 'param_C': masked_array(data=[0.3, 0.4, 4.0, 5.0, 6.0, 7.0],\n",
       "              mask=[False, False, False, False, False, False],\n",
       "        fill_value='?',\n",
       "             dtype=object),\n",
       " 'param_solver': masked_array(data=['lbfgs', 'lbfgs', 'lbfgs', 'lbfgs', 'lbfgs', 'lbfgs'],\n",
       "              mask=[False, False, False, False, False, False],\n",
       "        fill_value='?',\n",
       "             dtype=object),\n",
       " 'params': [{'C': 0.3, 'solver': 'lbfgs'},\n",
       "  {'C': 0.4, 'solver': 'lbfgs'},\n",
       "  {'C': 4.0, 'solver': 'lbfgs'},\n",
       "  {'C': 5.0, 'solver': 'lbfgs'},\n",
       "  {'C': 6.0, 'solver': 'lbfgs'},\n",
       "  {'C': 7.0, 'solver': 'lbfgs'}],\n",
       " 'split0_test_roc_auc': array([0.73931034, 0.74011943, 0.74254318, 0.74269445, 0.74268213,\n",
       "        0.74271907]),\n",
       " 'split1_test_roc_auc': array([0.76004617, 0.76021333, 0.76053533, 0.76054588, 0.76054061,\n",
       "        0.76058107]),\n",
       " 'split2_test_roc_auc': array([0.72694545, 0.7271302 , 0.72769502, 0.72769678, 0.72770558,\n",
       "        0.7277003 ]),\n",
       " 'split3_test_roc_auc': array([0.76939941, 0.76982571, 0.77087209, 0.77091613, 0.7709725 ,\n",
       "        0.77084743]),\n",
       " 'split4_test_roc_auc': array([0.83872817, 0.83891138, 0.83950327, 0.83952441, 0.83948037,\n",
       "        0.83949622]),\n",
       " 'mean_test_roc_auc': array([0.76688591, 0.76724001, 0.76822978, 0.76827553, 0.76827624,\n",
       "        0.76826882]),\n",
       " 'std_test_roc_auc': array([0.03891031, 0.03882568, 0.03859784, 0.03858536, 0.03856987,\n",
       "        0.03856861]),\n",
       " 'rank_test_roc_auc': array([6, 5, 4, 2, 1, 3], dtype=int32),\n",
       " 'split0_test_f1': array([0.59698682, 0.59774436, 0.61410019, 0.61410019, 0.61410019,\n",
       "        0.61410019]),\n",
       " 'split1_test_f1': array([0.62696443, 0.62582781, 0.62861869, 0.62861869, 0.62861869,\n",
       "        0.62861869]),\n",
       " 'split2_test_f1': array([0.60585774, 0.60702341, 0.60767947, 0.60767947, 0.60767947,\n",
       "        0.60767947]),\n",
       " 'split3_test_f1': array([0.65039233, 0.65213601, 0.64916885, 0.64916885, 0.64916885,\n",
       "        0.64916885]),\n",
       " 'split4_test_f1': array([0.728     , 0.72625698, 0.73058637, 0.73000792, 0.73000792,\n",
       "        0.73000792]),\n",
       " 'mean_test_f1': array([0.64164026, 0.64179772, 0.64603071, 0.64591502, 0.64591502,\n",
       "        0.64591502]),\n",
       " 'std_test_f1': array([0.04695594, 0.0461416 , 0.04461628, 0.04439709, 0.04439709,\n",
       "        0.04439709]),\n",
       " 'rank_test_f1': array([6, 5, 1, 2, 2, 2], dtype=int32)}"
      ]
     },
     "execution_count": 343,
     "metadata": {},
     "output_type": "execute_result"
    }
   ],
   "source": [
    "clf2.cv_results_"
   ]
  },
  {
   "cell_type": "code",
   "execution_count": 344,
   "id": "12d5df29-77b4-4b07-8725-d42a468c9a0c",
   "metadata": {},
   "outputs": [],
   "source": [
    "best_model = clf2.best_estimator_"
   ]
  },
  {
   "cell_type": "code",
   "execution_count": 442,
   "id": "847be351-1376-45b6-bf05-197f1168f3c9",
   "metadata": {},
   "outputs": [
    {
     "ename": "ValueError",
     "evalue": "Negative values in data passed to MultinomialNB (input X)",
     "output_type": "error",
     "traceback": [
      "\u001b[0;31m---------------------------------------------------------------------------\u001b[0m",
      "\u001b[0;31mValueError\u001b[0m                                Traceback (most recent call last)",
      "Cell \u001b[0;32mIn[442], line 12\u001b[0m\n\u001b[1;32m     10\u001b[0m scores_acc \u001b[38;5;241m=\u001b[39m []\n\u001b[1;32m     11\u001b[0m \u001b[38;5;28;01mfor\u001b[39;00m dev_index, val_index \u001b[38;5;129;01min\u001b[39;00m kf\u001b[38;5;241m.\u001b[39msplit(train_):\n\u001b[0;32m---> 12\u001b[0m     \u001b[43mlogreg\u001b[49m\u001b[38;5;241;43m.\u001b[39;49m\u001b[43mfit\u001b[49m\u001b[43m(\u001b[49m\u001b[43mX_train_scaled\u001b[49m\u001b[43m[\u001b[49m\u001b[43mdev_index\u001b[49m\u001b[43m]\u001b[49m\u001b[43m,\u001b[49m\u001b[43m \u001b[49m\u001b[43my_train\u001b[49m\u001b[43m[\u001b[49m\u001b[43mdev_index\u001b[49m\u001b[43m]\u001b[49m\u001b[43m)\u001b[49m\n\u001b[1;32m     13\u001b[0m     y_pred \u001b[38;5;241m=\u001b[39m (logreg\u001b[38;5;241m.\u001b[39mpredict_proba(X_train_scaled[val_index]) \u001b[38;5;241m>\u001b[39m threshold)[:,\u001b[38;5;241m1\u001b[39m]\n\u001b[1;32m     14\u001b[0m     y_true \u001b[38;5;241m=\u001b[39m  y_train[val_index]\n",
      "File \u001b[0;32m~/.MLEnv/lib/python3.9/site-packages/sklearn/base.py:1151\u001b[0m, in \u001b[0;36m_fit_context.<locals>.decorator.<locals>.wrapper\u001b[0;34m(estimator, *args, **kwargs)\u001b[0m\n\u001b[1;32m   1144\u001b[0m     estimator\u001b[38;5;241m.\u001b[39m_validate_params()\n\u001b[1;32m   1146\u001b[0m \u001b[38;5;28;01mwith\u001b[39;00m config_context(\n\u001b[1;32m   1147\u001b[0m     skip_parameter_validation\u001b[38;5;241m=\u001b[39m(\n\u001b[1;32m   1148\u001b[0m         prefer_skip_nested_validation \u001b[38;5;129;01mor\u001b[39;00m global_skip_validation\n\u001b[1;32m   1149\u001b[0m     )\n\u001b[1;32m   1150\u001b[0m ):\n\u001b[0;32m-> 1151\u001b[0m     \u001b[38;5;28;01mreturn\u001b[39;00m \u001b[43mfit_method\u001b[49m\u001b[43m(\u001b[49m\u001b[43mestimator\u001b[49m\u001b[43m,\u001b[49m\u001b[43m \u001b[49m\u001b[38;5;241;43m*\u001b[39;49m\u001b[43margs\u001b[49m\u001b[43m,\u001b[49m\u001b[43m \u001b[49m\u001b[38;5;241;43m*\u001b[39;49m\u001b[38;5;241;43m*\u001b[39;49m\u001b[43mkwargs\u001b[49m\u001b[43m)\u001b[49m\n",
      "File \u001b[0;32m~/.MLEnv/lib/python3.9/site-packages/sklearn/naive_bayes.py:772\u001b[0m, in \u001b[0;36m_BaseDiscreteNB.fit\u001b[0;34m(self, X, y, sample_weight)\u001b[0m\n\u001b[1;32m    770\u001b[0m n_classes \u001b[38;5;241m=\u001b[39m Y\u001b[38;5;241m.\u001b[39mshape[\u001b[38;5;241m1\u001b[39m]\n\u001b[1;32m    771\u001b[0m \u001b[38;5;28mself\u001b[39m\u001b[38;5;241m.\u001b[39m_init_counters(n_classes, n_features)\n\u001b[0;32m--> 772\u001b[0m \u001b[38;5;28;43mself\u001b[39;49m\u001b[38;5;241;43m.\u001b[39;49m\u001b[43m_count\u001b[49m\u001b[43m(\u001b[49m\u001b[43mX\u001b[49m\u001b[43m,\u001b[49m\u001b[43m \u001b[49m\u001b[43mY\u001b[49m\u001b[43m)\u001b[49m\n\u001b[1;32m    773\u001b[0m alpha \u001b[38;5;241m=\u001b[39m \u001b[38;5;28mself\u001b[39m\u001b[38;5;241m.\u001b[39m_check_alpha()\n\u001b[1;32m    774\u001b[0m \u001b[38;5;28mself\u001b[39m\u001b[38;5;241m.\u001b[39m_update_feature_log_prob(alpha)\n",
      "File \u001b[0;32m~/.MLEnv/lib/python3.9/site-packages/sklearn/naive_bayes.py:894\u001b[0m, in \u001b[0;36mMultinomialNB._count\u001b[0;34m(self, X, Y)\u001b[0m\n\u001b[1;32m    892\u001b[0m \u001b[38;5;28;01mdef\u001b[39;00m \u001b[38;5;21m_count\u001b[39m(\u001b[38;5;28mself\u001b[39m, X, Y):\n\u001b[1;32m    893\u001b[0m \u001b[38;5;250m    \u001b[39m\u001b[38;5;124;03m\"\"\"Count and smooth feature occurrences.\"\"\"\u001b[39;00m\n\u001b[0;32m--> 894\u001b[0m     \u001b[43mcheck_non_negative\u001b[49m\u001b[43m(\u001b[49m\u001b[43mX\u001b[49m\u001b[43m,\u001b[49m\u001b[43m \u001b[49m\u001b[38;5;124;43m\"\u001b[39;49m\u001b[38;5;124;43mMultinomialNB (input X)\u001b[39;49m\u001b[38;5;124;43m\"\u001b[39;49m\u001b[43m)\u001b[49m\n\u001b[1;32m    895\u001b[0m     \u001b[38;5;28mself\u001b[39m\u001b[38;5;241m.\u001b[39mfeature_count_ \u001b[38;5;241m+\u001b[39m\u001b[38;5;241m=\u001b[39m safe_sparse_dot(Y\u001b[38;5;241m.\u001b[39mT, X)\n\u001b[1;32m    896\u001b[0m     \u001b[38;5;28mself\u001b[39m\u001b[38;5;241m.\u001b[39mclass_count_ \u001b[38;5;241m+\u001b[39m\u001b[38;5;241m=\u001b[39m Y\u001b[38;5;241m.\u001b[39msum(axis\u001b[38;5;241m=\u001b[39m\u001b[38;5;241m0\u001b[39m)\n",
      "File \u001b[0;32m~/.MLEnv/lib/python3.9/site-packages/sklearn/utils/validation.py:1490\u001b[0m, in \u001b[0;36mcheck_non_negative\u001b[0;34m(X, whom)\u001b[0m\n\u001b[1;32m   1487\u001b[0m     X_min \u001b[38;5;241m=\u001b[39m xp\u001b[38;5;241m.\u001b[39mmin(X)\n\u001b[1;32m   1489\u001b[0m \u001b[38;5;28;01mif\u001b[39;00m X_min \u001b[38;5;241m<\u001b[39m \u001b[38;5;241m0\u001b[39m:\n\u001b[0;32m-> 1490\u001b[0m     \u001b[38;5;28;01mraise\u001b[39;00m \u001b[38;5;167;01mValueError\u001b[39;00m(\u001b[38;5;124m\"\u001b[39m\u001b[38;5;124mNegative values in data passed to \u001b[39m\u001b[38;5;132;01m%s\u001b[39;00m\u001b[38;5;124m\"\u001b[39m \u001b[38;5;241m%\u001b[39m whom)\n",
      "\u001b[0;31mValueError\u001b[0m: Negative values in data passed to MultinomialNB (input X)"
     ]
    }
   ],
   "source": [
    "kf = KFold(n_splits=10, shuffle=True)\n",
    "threshold =  0.40\n",
    "\n",
    "#logreg = RandomForestClassifier(125, n_jobs=2, class_weight=\"balanced\")\n",
    "logreg = LogisticRegression(C=6.0, n_jobs=2, max_iter=300, class_weight=\"balanced\")\n",
    "#logreg =  GaussianNB()\n",
    "\n",
    "scores_f1 = []\n",
    "scores_auc = []\n",
    "scores_acc = []\n",
    "for dev_index, val_index in kf.split(train_):\n",
    "    logreg.fit(X_train_scaled[dev_index], y_train[dev_index])\n",
    "    y_pred = (logreg.predict_proba(X_train_scaled[val_index]) > threshold)[:,1]\n",
    "    y_true =  y_train[val_index]\n",
    "    scores_f1.append(metrics.f1_score(y_true, y_pred))\n",
    "    scores_auc.append(metrics.roc_auc_score(y_true, y_pred))\n",
    "    scores_acc.append(metrics.accuracy_score(y_true, y_pred))"
   ]
  },
  {
   "cell_type": "code",
   "execution_count": 439,
   "id": "2b562381-4503-4518-a9c6-b978ee6374b0",
   "metadata": {},
   "outputs": [
    {
     "data": {
      "text/plain": [
       "([0.5830388692579506,\n",
       "  0.4508670520231214,\n",
       "  0.5397412199630314,\n",
       "  0.5078125,\n",
       "  0.5398550724637682,\n",
       "  0.5641025641025641,\n",
       "  0.549618320610687,\n",
       "  0.5325670498084291,\n",
       "  0.5402061855670102,\n",
       "  0.5467128027681661],\n",
       " 0.5354521636564729)"
      ]
     },
     "execution_count": 439,
     "metadata": {},
     "output_type": "execute_result"
    }
   ],
   "source": [
    "scores_f1, np.mean(scores_f1)"
   ]
  },
  {
   "cell_type": "code",
   "execution_count": 440,
   "id": "c2554747-7540-4532-afa6-c3fddfd859c8",
   "metadata": {},
   "outputs": [
    {
     "data": {
      "text/plain": [
       "([0.6716437632135307,\n",
       "  0.5915144596651445,\n",
       "  0.6430613443534748,\n",
       "  0.6321677527435866,\n",
       "  0.6419480227891443,\n",
       "  0.6608530952515067,\n",
       "  0.6567008042667273,\n",
       "  0.6480220972674361,\n",
       "  0.6610260281852172,\n",
       "  0.6420827607268286],\n",
       " 0.6449020128462597)"
      ]
     },
     "execution_count": 440,
     "metadata": {},
     "output_type": "execute_result"
    }
   ],
   "source": [
    "scores_auc, np.mean(scores_auc)"
   ]
  },
  {
   "cell_type": "code",
   "execution_count": 441,
   "id": "6d2893ab-e9d2-4fa3-8890-2b319a942b01",
   "metadata": {},
   "outputs": [
    {
     "data": {
      "text/plain": [
       "([0.6902887139107612,\n",
       "  0.6259842519685039,\n",
       "  0.6732283464566929,\n",
       "  0.668856767411301,\n",
       "  0.6662286465177398,\n",
       "  0.6872536136662286,\n",
       "  0.6898817345597897,\n",
       "  0.6793692509855453,\n",
       "  0.7069645203679369,\n",
       "  0.6557161629434954],\n",
       " 0.6743772008787994)"
      ]
     },
     "execution_count": 441,
     "metadata": {},
     "output_type": "execute_result"
    }
   ],
   "source": [
    "scores_acc, np.mean(scores_acc)"
   ]
  },
  {
   "cell_type": "markdown",
   "id": "de2258c1-d79b-4241-ad24-c3a08e4d7ba7",
   "metadata": {},
   "source": [
    "## End"
   ]
  },
  {
   "cell_type": "code",
   "execution_count": 229,
   "id": "3fc42822-d62f-4178-bd31-050a140443cc",
   "metadata": {},
   "outputs": [],
   "source": [
    "tfidf_vec = TfidfVectorizer(stop_words='english', ngram_range=(1,3))\n",
    "tfidf_vec.fit_transform(train['new_text'].values.tolist() + test['new_text'].values.tolist())\n",
    "train_tfidf = tfidf_vec.transform(train['new_text'].values.tolist())\n",
    "test_tfidf = tfidf_vec.transform(test['new_text'].values.tolist())"
   ]
  },
  {
   "cell_type": "code",
   "execution_count": 198,
   "id": "b1849ed0-54a3-404b-91e0-e7415276378e",
   "metadata": {},
   "outputs": [
    {
     "data": {
      "text/html": [
       "<div>\n",
       "<style scoped>\n",
       "    .dataframe tbody tr th:only-of-type {\n",
       "        vertical-align: middle;\n",
       "    }\n",
       "\n",
       "    .dataframe tbody tr th {\n",
       "        vertical-align: top;\n",
       "    }\n",
       "\n",
       "    .dataframe thead th {\n",
       "        text-align: right;\n",
       "    }\n",
       "</style>\n",
       "<table border=\"1\" class=\"dataframe\">\n",
       "  <thead>\n",
       "    <tr style=\"text-align: right;\">\n",
       "      <th></th>\n",
       "      <th>id</th>\n",
       "      <th>keyword</th>\n",
       "      <th>location</th>\n",
       "      <th>text</th>\n",
       "    </tr>\n",
       "  </thead>\n",
       "  <tbody>\n",
       "    <tr>\n",
       "      <th>0</th>\n",
       "      <td>0</td>\n",
       "      <td>NaN</td>\n",
       "      <td>NaN</td>\n",
       "      <td>Just happened a terrible car crash</td>\n",
       "    </tr>\n",
       "    <tr>\n",
       "      <th>1</th>\n",
       "      <td>2</td>\n",
       "      <td>NaN</td>\n",
       "      <td>NaN</td>\n",
       "      <td>Heard about #earthquake is different cities, s...</td>\n",
       "    </tr>\n",
       "    <tr>\n",
       "      <th>2</th>\n",
       "      <td>3</td>\n",
       "      <td>NaN</td>\n",
       "      <td>NaN</td>\n",
       "      <td>there is a forest fire at spot pond, geese are...</td>\n",
       "    </tr>\n",
       "    <tr>\n",
       "      <th>3</th>\n",
       "      <td>9</td>\n",
       "      <td>NaN</td>\n",
       "      <td>NaN</td>\n",
       "      <td>Apocalypse lighting. #Spokane #wildfires</td>\n",
       "    </tr>\n",
       "    <tr>\n",
       "      <th>4</th>\n",
       "      <td>11</td>\n",
       "      <td>NaN</td>\n",
       "      <td>NaN</td>\n",
       "      <td>Typhoon Soudelor kills 28 in China and Taiwan</td>\n",
       "    </tr>\n",
       "    <tr>\n",
       "      <th>...</th>\n",
       "      <td>...</td>\n",
       "      <td>...</td>\n",
       "      <td>...</td>\n",
       "      <td>...</td>\n",
       "    </tr>\n",
       "    <tr>\n",
       "      <th>3258</th>\n",
       "      <td>10861</td>\n",
       "      <td>NaN</td>\n",
       "      <td>NaN</td>\n",
       "      <td>EARTHQUAKE SAFETY LOS ANGELES ÛÒ SAFETY FASTE...</td>\n",
       "    </tr>\n",
       "    <tr>\n",
       "      <th>3259</th>\n",
       "      <td>10865</td>\n",
       "      <td>NaN</td>\n",
       "      <td>NaN</td>\n",
       "      <td>Storm in RI worse than last hurricane. My city...</td>\n",
       "    </tr>\n",
       "    <tr>\n",
       "      <th>3260</th>\n",
       "      <td>10868</td>\n",
       "      <td>NaN</td>\n",
       "      <td>NaN</td>\n",
       "      <td>Green Line derailment in Chicago http://t.co/U...</td>\n",
       "    </tr>\n",
       "    <tr>\n",
       "      <th>3261</th>\n",
       "      <td>10874</td>\n",
       "      <td>NaN</td>\n",
       "      <td>NaN</td>\n",
       "      <td>MEG issues Hazardous Weather Outlook (HWO) htt...</td>\n",
       "    </tr>\n",
       "    <tr>\n",
       "      <th>3262</th>\n",
       "      <td>10875</td>\n",
       "      <td>NaN</td>\n",
       "      <td>NaN</td>\n",
       "      <td>#CityofCalgary has activated its Municipal Eme...</td>\n",
       "    </tr>\n",
       "  </tbody>\n",
       "</table>\n",
       "<p>3263 rows × 4 columns</p>\n",
       "</div>"
      ],
      "text/plain": [
       "         id keyword location  \\\n",
       "0         0     NaN      NaN   \n",
       "1         2     NaN      NaN   \n",
       "2         3     NaN      NaN   \n",
       "3         9     NaN      NaN   \n",
       "4        11     NaN      NaN   \n",
       "...     ...     ...      ...   \n",
       "3258  10861     NaN      NaN   \n",
       "3259  10865     NaN      NaN   \n",
       "3260  10868     NaN      NaN   \n",
       "3261  10874     NaN      NaN   \n",
       "3262  10875     NaN      NaN   \n",
       "\n",
       "                                                   text  \n",
       "0                    Just happened a terrible car crash  \n",
       "1     Heard about #earthquake is different cities, s...  \n",
       "2     there is a forest fire at spot pond, geese are...  \n",
       "3              Apocalypse lighting. #Spokane #wildfires  \n",
       "4         Typhoon Soudelor kills 28 in China and Taiwan  \n",
       "...                                                 ...  \n",
       "3258  EARTHQUAKE SAFETY LOS ANGELES ÛÒ SAFETY FASTE...  \n",
       "3259  Storm in RI worse than last hurricane. My city...  \n",
       "3260  Green Line derailment in Chicago http://t.co/U...  \n",
       "3261  MEG issues Hazardous Weather Outlook (HWO) htt...  \n",
       "3262  #CityofCalgary has activated its Municipal Eme...  \n",
       "\n",
       "[3263 rows x 4 columns]"
      ]
     },
     "execution_count": 198,
     "metadata": {},
     "output_type": "execute_result"
    }
   ],
   "source": [
    "test"
   ]
  },
  {
   "cell_type": "code",
   "execution_count": 279,
   "id": "0195b507-9504-46c5-b9f4-72377ada666b",
   "metadata": {},
   "outputs": [
    {
     "name": "stdout",
     "output_type": "stream",
     "text": [
      "Building model.\n",
      "1\n",
      "1\n",
      "1\n",
      "1\n",
      "1\n"
     ]
    }
   ],
   "source": [
    "from sklearn import metrics\n",
    "train_y = train[\"target\"].values\n",
    "\n",
    "def runModel(train_X, train_y, test_X, test_y, test_X2):\n",
    "    model = LogisticRegression(C=7., solver='sag')\n",
    "    model.fit(train_X, train_y)\n",
    "    pred_test_y = model.predict_proba(test_X)[:,1]\n",
    "    pred_test_y2 = model.predict_proba(test_X2)[:,1]\n",
    "    return pred_test_y, pred_test_y2, model\n",
    "\n",
    "print(\"Building model.\")\n",
    "ys = []\n",
    "models = []\n",
    "cv_scores = []\n",
    "pred_full_test = 0\n",
    "pred_train = np.zeros([train.shape[0]])\n",
    "kf = KFold(n_splits=5, shuffle=True)\n",
    "for dev_index, val_index in kf.split(train):\n",
    "    dev_X, val_X = train_tfidf[dev_index], train_tfidf[val_index]\n",
    "    dev_y, val_y = train_y[dev_index], train_y[val_index]\n",
    "    pred_val_y, pred_test_y, model = runModel(dev_X, dev_y, val_X, val_y, test_tfidf)\n",
    "    pred_full_test = pred_full_test + pred_test_y\n",
    "    pred_train[val_index] = pred_val_y\n",
    "    cv_scores.append(metrics.log_loss(val_y, pred_val_y))\n",
    "    ys.append((val_y, pred_val_y))\n",
    "    models.append(model)\n",
    "    print(1)"
   ]
  },
  {
   "cell_type": "code",
   "execution_count": 280,
   "id": "d5fc91e8-4f94-4489-95bc-568c5b822750",
   "metadata": {},
   "outputs": [
    {
     "data": {
      "text/plain": [
       "[0.4928419740560626,\n",
       " 0.4547802431966544,\n",
       " 0.4732432249880406,\n",
       " 0.48716376170340137,\n",
       " 0.4691778679837984]"
      ]
     },
     "execution_count": 280,
     "metadata": {},
     "output_type": "execute_result"
    }
   ],
   "source": [
    "cv_scores"
   ]
  },
  {
   "cell_type": "code",
   "execution_count": 281,
   "id": "2b9e5e79-47a3-4ab1-a301-86ca30bccbe7",
   "metadata": {},
   "outputs": [
    {
     "data": {
      "text/plain": [
       "{'threshold': 0.40900000000000003, 'f1': 0.7516129032258064}"
      ]
     },
     "execution_count": 281,
     "metadata": {},
     "output_type": "execute_result"
    }
   ],
   "source": [
    "def threshold_search(y_true, y_proba):\n",
    "#reference: https://www.kaggle.com/hung96ad/pytorch-starter\n",
    "    best_threshold = 0\n",
    "    best_score = 0\n",
    "    for threshold in [i * 0.001 for i in range(1000)]:\n",
    "        score = metrics.f1_score(y_true=y_true, y_pred=y_proba > threshold)\n",
    "        if score > best_score:\n",
    "            best_threshold = threshold\n",
    "            best_score = score\n",
    "    search_result = {'threshold': best_threshold, 'f1': best_score}\n",
    "    return search_result\n",
    "val_y, pred_val_y = ys[4][0], ys[4][1]\n",
    "search_result = threshold_search(val_y, pred_val_y)\n",
    "search_result"
   ]
  },
  {
   "cell_type": "code",
   "execution_count": 218,
   "id": "326ec0f5-ac00-4a40-aefc-295081ccadaa",
   "metadata": {},
   "outputs": [
    {
     "data": {
      "text/html": [
       "<style>#sk-container-id-21 {color: black;}#sk-container-id-21 pre{padding: 0;}#sk-container-id-21 div.sk-toggleable {background-color: white;}#sk-container-id-21 label.sk-toggleable__label {cursor: pointer;display: block;width: 100%;margin-bottom: 0;padding: 0.3em;box-sizing: border-box;text-align: center;}#sk-container-id-21 label.sk-toggleable__label-arrow:before {content: \"▸\";float: left;margin-right: 0.25em;color: #696969;}#sk-container-id-21 label.sk-toggleable__label-arrow:hover:before {color: black;}#sk-container-id-21 div.sk-estimator:hover label.sk-toggleable__label-arrow:before {color: black;}#sk-container-id-21 div.sk-toggleable__content {max-height: 0;max-width: 0;overflow: hidden;text-align: left;background-color: #f0f8ff;}#sk-container-id-21 div.sk-toggleable__content pre {margin: 0.2em;color: black;border-radius: 0.25em;background-color: #f0f8ff;}#sk-container-id-21 input.sk-toggleable__control:checked~div.sk-toggleable__content {max-height: 200px;max-width: 100%;overflow: auto;}#sk-container-id-21 input.sk-toggleable__control:checked~label.sk-toggleable__label-arrow:before {content: \"▾\";}#sk-container-id-21 div.sk-estimator input.sk-toggleable__control:checked~label.sk-toggleable__label {background-color: #d4ebff;}#sk-container-id-21 div.sk-label input.sk-toggleable__control:checked~label.sk-toggleable__label {background-color: #d4ebff;}#sk-container-id-21 input.sk-hidden--visually {border: 0;clip: rect(1px 1px 1px 1px);clip: rect(1px, 1px, 1px, 1px);height: 1px;margin: -1px;overflow: hidden;padding: 0;position: absolute;width: 1px;}#sk-container-id-21 div.sk-estimator {font-family: monospace;background-color: #f0f8ff;border: 1px dotted black;border-radius: 0.25em;box-sizing: border-box;margin-bottom: 0.5em;}#sk-container-id-21 div.sk-estimator:hover {background-color: #d4ebff;}#sk-container-id-21 div.sk-parallel-item::after {content: \"\";width: 100%;border-bottom: 1px solid gray;flex-grow: 1;}#sk-container-id-21 div.sk-label:hover label.sk-toggleable__label {background-color: #d4ebff;}#sk-container-id-21 div.sk-serial::before {content: \"\";position: absolute;border-left: 1px solid gray;box-sizing: border-box;top: 0;bottom: 0;left: 50%;z-index: 0;}#sk-container-id-21 div.sk-serial {display: flex;flex-direction: column;align-items: center;background-color: white;padding-right: 0.2em;padding-left: 0.2em;position: relative;}#sk-container-id-21 div.sk-item {position: relative;z-index: 1;}#sk-container-id-21 div.sk-parallel {display: flex;align-items: stretch;justify-content: center;background-color: white;position: relative;}#sk-container-id-21 div.sk-item::before, #sk-container-id-21 div.sk-parallel-item::before {content: \"\";position: absolute;border-left: 1px solid gray;box-sizing: border-box;top: 0;bottom: 0;left: 50%;z-index: -1;}#sk-container-id-21 div.sk-parallel-item {display: flex;flex-direction: column;z-index: 1;position: relative;background-color: white;}#sk-container-id-21 div.sk-parallel-item:first-child::after {align-self: flex-end;width: 50%;}#sk-container-id-21 div.sk-parallel-item:last-child::after {align-self: flex-start;width: 50%;}#sk-container-id-21 div.sk-parallel-item:only-child::after {width: 0;}#sk-container-id-21 div.sk-dashed-wrapped {border: 1px dashed gray;margin: 0 0.4em 0.5em 0.4em;box-sizing: border-box;padding-bottom: 0.4em;background-color: white;}#sk-container-id-21 div.sk-label label {font-family: monospace;font-weight: bold;display: inline-block;line-height: 1.2em;}#sk-container-id-21 div.sk-label-container {text-align: center;}#sk-container-id-21 div.sk-container {/* jupyter's `normalize.less` sets `[hidden] { display: none; }` but bootstrap.min.css set `[hidden] { display: none !important; }` so we also need the `!important` here to be able to override the default hidden behavior on the sphinx rendered scikit-learn.org. See: https://github.com/scikit-learn/scikit-learn/issues/21755 */display: inline-block !important;position: relative;}#sk-container-id-21 div.sk-text-repr-fallback {display: none;}</style><div id=\"sk-container-id-21\" class=\"sk-top-container\"><div class=\"sk-text-repr-fallback\"><pre>LogisticRegression(C=5.0, solver=&#x27;sag&#x27;)</pre><b>In a Jupyter environment, please rerun this cell to show the HTML representation or trust the notebook. <br />On GitHub, the HTML representation is unable to render, please try loading this page with nbviewer.org.</b></div><div class=\"sk-container\" hidden><div class=\"sk-item\"><div class=\"sk-estimator sk-toggleable\"><input class=\"sk-toggleable__control sk-hidden--visually\" id=\"sk-estimator-id-61\" type=\"checkbox\" checked><label for=\"sk-estimator-id-61\" class=\"sk-toggleable__label sk-toggleable__label-arrow\">LogisticRegression</label><div class=\"sk-toggleable__content\"><pre>LogisticRegression(C=5.0, solver=&#x27;sag&#x27;)</pre></div></div></div></div></div>"
      ],
      "text/plain": [
       "LogisticRegression(C=5.0, solver='sag')"
      ]
     },
     "execution_count": 218,
     "metadata": {},
     "output_type": "execute_result"
    }
   ],
   "source": [
    "models[-1]"
   ]
  },
  {
   "cell_type": "code",
   "execution_count": 233,
   "id": "feb64f32-8210-463b-84f2-37d19f930531",
   "metadata": {},
   "outputs": [
    {
     "data": {
      "text/plain": [
       "<re.Match object; span=(0, 1), match='\\x89'>"
      ]
     },
     "execution_count": 233,
     "metadata": {},
     "output_type": "execute_result"
    }
   ],
   "source": [
    "re.match(r'[^\\x00-\\x7F]', '\\x89')"
   ]
  },
  {
   "cell_type": "code",
   "execution_count": 27,
   "id": "afa2be49-0966-4844-9b2e-e24183a77ede",
   "metadata": {},
   "outputs": [
    {
     "data": {
      "text/plain": [
       "163725178"
      ]
     },
     "execution_count": 27,
     "metadata": {},
     "output_type": "execute_result"
    }
   ],
   "source": [
    "train_vectors.shape[0] *  train_vectors.shape[1]"
   ]
  },
  {
   "cell_type": "code",
   "execution_count": 103,
   "id": "82bc1709-f9eb-4d78-890c-fc0290b28273",
   "metadata": {},
   "outputs": [
    {
     "data": {
      "text/plain": [
       "['deputies',\n",
       " 'man',\n",
       " 'shot',\n",
       " 'before',\n",
       " 'brighton',\n",
       " 'home',\n",
       " 'set',\n",
       " 'ablaze',\n",
       " 'http://t.co/gwnrhmso8k']"
      ]
     },
     "execution_count": 103,
     "metadata": {},
     "output_type": "execute_result"
    }
   ],
   "source": [
    "tknzr = TweetTokenizer(reduce_len=True)\n",
    "s1 = train['text'].iloc[50].lower()\n",
    "tokens = tknzr.tokenize(s1)\n",
    "tokens = [word for word in tokens if word not in string.punctuation]\n",
    "tokens"
   ]
  },
  {
   "cell_type": "code",
   "execution_count": 104,
   "id": "99dfe201-d800-4214-9f83-1e347c346d83",
   "metadata": {},
   "outputs": [
    {
     "data": {
      "text/plain": [
       "[('deputies', 'NNS'),\n",
       " ('man', 'NN'),\n",
       " ('shot', 'NN'),\n",
       " ('before', 'IN'),\n",
       " ('brighton', 'NN'),\n",
       " ('home', 'NN'),\n",
       " ('set', 'NN'),\n",
       " ('ablaze', 'NN'),\n",
       " ('http://t.co/gwnrhmso8k', 'NN')]"
      ]
     },
     "execution_count": 104,
     "metadata": {},
     "output_type": "execute_result"
    }
   ],
   "source": [
    "pos_tag(tokens)"
   ]
  },
  {
   "cell_type": "code",
   "execution_count": 62,
   "id": "45a02a57-21d6-4579-9c6f-0312055de5e9",
   "metadata": {},
   "outputs": [],
   "source": [
    "stpws = stopwords.words('english')"
   ]
  },
  {
   "cell_type": "code",
   "execution_count": 63,
   "id": "79a76a4d-244e-4bda-89b8-ddf823f6e2fd",
   "metadata": {},
   "outputs": [
    {
     "data": {
      "text/plain": [
       "['deeds', 'reason', '#earthquake', 'may', 'allah', 'forgive', 'us']"
      ]
     },
     "execution_count": 63,
     "metadata": {},
     "output_type": "execute_result"
    }
   ],
   "source": [
    "tokens = [token for token in tokens if token not in stpws]\n",
    "tokens"
   ]
  },
  {
   "cell_type": "code",
   "execution_count": 138,
   "id": "1efc93b2-8048-4fc3-8208-9e49decf97df",
   "metadata": {},
   "outputs": [],
   "source": [
    "wnl = WordNetLemmatizer()"
   ]
  },
  {
   "cell_type": "code",
   "execution_count": 139,
   "id": "1e34bb22-91a2-4736-a172-8b1395c25354",
   "metadata": {},
   "outputs": [
    {
     "data": {
      "text/plain": [
       "'fire'"
      ]
     },
     "execution_count": 139,
     "metadata": {},
     "output_type": "execute_result"
    }
   ],
   "source": [
    "wnl.lemmatize('fires', pos='n')"
   ]
  },
  {
   "cell_type": "code",
   "execution_count": 157,
   "id": "74c6d96e-2ba8-402e-8943-61b38df3c931",
   "metadata": {},
   "outputs": [
    {
     "data": {
      "text/plain": [
       "True"
      ]
     },
     "execution_count": 157,
     "metadata": {},
     "output_type": "execute_result"
    }
   ],
   "source": [
    "\"you're\" in stpws"
   ]
  },
  {
   "cell_type": "code",
   "execution_count": 131,
   "id": "8f482055-9125-4bdb-8345-9b75e1682f58",
   "metadata": {},
   "outputs": [],
   "source": [
    "from nltk.stem import PorterStemmer"
   ]
  },
  {
   "cell_type": "code",
   "execution_count": 134,
   "id": "1e8c8324-ebef-48c2-90dd-6814e55aad9b",
   "metadata": {},
   "outputs": [],
   "source": [
    "ps = PorterStemmer()"
   ]
  },
  {
   "cell_type": "code",
   "execution_count": 136,
   "id": "6b48eb29-caad-47e8-86d5-217e1b7db077",
   "metadata": {},
   "outputs": [
    {
     "data": {
      "text/plain": [
       "'los angel'"
      ]
     },
     "execution_count": 136,
     "metadata": {},
     "output_type": "execute_result"
    }
   ],
   "source": [
    "ps.stem(\"Los Angeles\")"
   ]
  },
  {
   "cell_type": "code",
   "execution_count": 10,
   "id": "43fe3ba0-833a-4076-9504-a90c7941e8c3",
   "metadata": {},
   "outputs": [
    {
     "data": {
      "text/plain": [
       "'1.3.1'"
      ]
     },
     "execution_count": 10,
     "metadata": {},
     "output_type": "execute_result"
    }
   ],
   "source": [
    "joblib.__version__"
   ]
  }
 ],
 "metadata": {
  "kernelspec": {
   "display_name": "Python 3 (ipykernel)",
   "language": "python",
   "name": "python3"
  },
  "language_info": {
   "codemirror_mode": {
    "name": "ipython",
    "version": 3
   },
   "file_extension": ".py",
   "mimetype": "text/x-python",
   "name": "python",
   "nbconvert_exporter": "python",
   "pygments_lexer": "ipython3",
   "version": "3.9.12"
  }
 },
 "nbformat": 4,
 "nbformat_minor": 5
}
